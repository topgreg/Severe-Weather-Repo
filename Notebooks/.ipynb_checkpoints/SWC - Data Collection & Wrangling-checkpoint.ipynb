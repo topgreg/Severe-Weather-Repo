{
 "cells": [
  {
   "cell_type": "markdown",
   "id": "a4102f31",
   "metadata": {},
   "source": [
    "# Severe Weather Capstone - Data Collection & Wrangling\n",
    "\n",
    "Greg Welliver   "
   ]
  },
  {
   "cell_type": "code",
   "execution_count": 1,
   "id": "ba529c28",
   "metadata": {},
   "outputs": [],
   "source": [
    "# Import relevant libraries and packages.\n",
    "import numpy as np \n",
    "import pandas as pd \n",
    "import matplotlib.pyplot as plt \n",
    "import seaborn as sns \n",
    "import statsmodels.api as sm\n",
    "from statsmodels.graphics.api import abline_plot\n",
    "from sklearn.metrics import mean_squared_error, r2_score\n",
    "from sklearn.model_selection import train_test_split\n",
    "from sklearn import linear_model, preprocessing \n",
    "import warnings\n",
    "from scipy import stats\n",
    "import re\n",
    "from glob import glob, iglob\n",
    "from datetime import datetime\n",
    "\n"
   ]
  },
  {
   "cell_type": "markdown",
   "id": "0d44e420",
   "metadata": {},
   "source": [
    "file location for downloads: \n",
    "    https://www.ncei.noaa.gov/pub/data/swdi/stormevents/csvfiles/"
   ]
  },
  {
   "cell_type": "markdown",
   "id": "fbf95157",
   "metadata": {},
   "source": [
    "## Data Collection\n",
    "\n",
    "- storm files were collected from the Iowa Environmental Mesonet: https://mesonet.agron.iastate.edu/nws/"
   ]
  },
  {
   "cell_type": "markdown",
   "id": "1d322777",
   "metadata": {},
   "source": [
    "### working code, make markdown for now\n",
    "### All annual storm data files are saved on my local machine.  This code gathers all of the files and combines them into one file.\n",
    "filenames = glob('../Data/*.csv')\n",
    "print(\"There is a total of {} files.\".format(len(filenames)))\n",
    "\n",
    "target_path = '../Data/all_storm_data.csv'\n",
    "\n",
    "try:\n",
    "    # Read in Summary File is exists\n",
    "    all_storm_data = pd.read_csv(target_path)\n",
    "except:\n",
    "    # Read in all Subfiles\n",
    "    storm_data = [pd.read_csv(filepath) for filepath in filenames]\n",
    "    all_storm_data = pd.concat(storm_data)\n",
    "    \n",
    "    # Create Summary File for faster processing\n",
    "    hot100_all.to_csv(target_path,index=False)\n",
    "\n",
    "print(\"The total number of observations is {}.\".format(len(all_storm_data)))\n",
    "all_storm_data.head()"
   ]
  },
  {
   "cell_type": "code",
   "execution_count": null,
   "id": "c53f332f",
   "metadata": {},
   "outputs": [],
   "source": []
  },
  {
   "cell_type": "code",
   "execution_count": 2,
   "id": "892bc82a",
   "metadata": {},
   "outputs": [],
   "source": [
    "# load data\n",
    "#df = pd.read_csv(\"../Data/StormEvents_details-ftp_v1.0_d2001_c20220425.csv\")\n",
    "#df = pd.read_parquet(\"../Data/all_storm_data.pqt\")\n",
    "#df = pd.read_csv(\"../Data/all_storm_data4.csv\")"
   ]
  },
  {
   "cell_type": "code",
   "execution_count": 3,
   "id": "c1b3f0a6",
   "metadata": {},
   "outputs": [],
   "source": [
    "#df.head()"
   ]
  },
  {
   "cell_type": "code",
   "execution_count": 4,
   "id": "5bb2c033",
   "metadata": {},
   "outputs": [],
   "source": [
    "#df.shape"
   ]
  },
  {
   "cell_type": "code",
   "execution_count": 5,
   "id": "4b4bb053",
   "metadata": {},
   "outputs": [],
   "source": [
    "#df.isna().sum()"
   ]
  },
  {
   "cell_type": "code",
   "execution_count": 6,
   "id": "451201e2",
   "metadata": {},
   "outputs": [],
   "source": [
    "#df.info()"
   ]
  },
  {
   "cell_type": "markdown",
   "id": "74717770",
   "metadata": {},
   "source": [
    "for row in df[\"STATE_FIPS\"][:10]:\n",
    "    res = row.split(\".\", 1)[0]\n",
    "    print(res)"
   ]
  },
  {
   "cell_type": "markdown",
   "id": "6a31655d",
   "metadata": {},
   "source": [
    "# WORKING, MARKDOWN UNTIL FINAL\n",
    "# drop unnecessary columns\n",
    "df.drop(['CATEGORY', 'DATA_SOURCE', 'BEGIN_RANGE', 'BEGIN_AZIMUTH', 'BEGIN_LOCATION', 'END_RANGE', 'END_AZIMUTH', 'END_LOCATION', 'TOR_OTHER_WFO', 'TOR_OTHER_CZ_STATE', 'TOR_OTHER_CZ_FIPS', 'TOR_OTHER_CZ_NAME', 'CZ_TIMEZONE', 'WFO', 'CZ_TYPE', 'DAMAGE_CROPS'\n",
    "], axis=1, inplace=True)"
   ]
  },
  {
   "cell_type": "markdown",
   "id": "e51d02f7",
   "metadata": {},
   "source": [
    "# WORKING, MARKDOWN UNTIL FINAL\n",
    "df['STATE_FIPS'] = df['STATE_FIPS'].astype(object)"
   ]
  },
  {
   "cell_type": "markdown",
   "id": "c4eaadae",
   "metadata": {},
   "source": [
    "# WORKING, MARKDOWN UNTIL FINAL\n",
    "# Columns to replace nulls with NA:\n",
    "cols_na = ['EVENT_NARRATIVE', 'EPISODE_NARRATIVE', 'BEGIN_LAT', 'BEGIN_LON', 'END_LAT', 'END_LON', 'TOR_F_SCALE', 'MAGNITUDE_TYPE', 'FLOOD_CAUSE', 'STATE', 'STATE_FIPS']"
   ]
  },
  {
   "cell_type": "markdown",
   "id": "5a7dcaf1",
   "metadata": {},
   "source": [
    "for x in cols_na:\n",
    "    print(df[x].isna().sum())"
   ]
  },
  {
   "cell_type": "markdown",
   "id": "5dc1a6d1",
   "metadata": {},
   "source": [
    "# WORKING, MARKDOWN UNTIL FINAL\n",
    "for x in cols_na:\n",
    "    df[x] = df[x].fillna('NA')"
   ]
  },
  {
   "cell_type": "markdown",
   "id": "1ca91def",
   "metadata": {},
   "source": [
    "for x in cols_na:\n",
    "    print(df[x].isna().sum())"
   ]
  },
  {
   "cell_type": "markdown",
   "id": "380fcdc8",
   "metadata": {},
   "source": [
    "# WORKING, MARKDOWN UNTIL FINAL\n",
    "# Columns to replace nulls with 0:\n",
    "\n",
    "cols_0 = ['MAGNITUDE', 'TOR_LENGTH', 'TOR_WIDTH', 'DAMAGE_PROPERTY', 'INJURIES_DIRECT', 'INJURIES_INDIRECT', 'DEATHS_DIRECT', 'DEATHS_INDIRECT']\n"
   ]
  },
  {
   "cell_type": "markdown",
   "id": "7ae92a6e",
   "metadata": {},
   "source": [
    "for x in cols_0:\n",
    "    print(df[x].isna().sum())"
   ]
  },
  {
   "cell_type": "markdown",
   "id": "b7d8ca7c",
   "metadata": {},
   "source": [
    "# WORKING, MARKDOWN UNTIL FINAL\n",
    "for x in cols_0:\n",
    "    df[x] = df[x].fillna(0)"
   ]
  },
  {
   "cell_type": "markdown",
   "id": "2c336a4c",
   "metadata": {},
   "source": [
    "for x in cols_0:\n",
    "    print(df[x].isna().sum())"
   ]
  },
  {
   "cell_type": "code",
   "execution_count": 7,
   "id": "dea7af28",
   "metadata": {},
   "outputs": [],
   "source": [
    "#df.isna().sum()"
   ]
  },
  {
   "cell_type": "code",
   "execution_count": 8,
   "id": "79757668",
   "metadata": {},
   "outputs": [],
   "source": [
    "#df.dtypes"
   ]
  },
  {
   "cell_type": "markdown",
   "id": "9e05c301",
   "metadata": {},
   "source": [
    "# WORKING, MARKDOWN UNTIL FINAL\n",
    "# remove NA values from state FIPS\n",
    "df = df[df['STATE_FIPS'] != \"NA\"].reset_index()\n",
    "\n",
    "# convert STATE_FIPS to INT so can use it for lookup later\n",
    "for x in df['STATE_FIPS']:\n",
    "    x = int(x)"
   ]
  },
  {
   "cell_type": "markdown",
   "id": "bb112f5c",
   "metadata": {},
   "source": [
    "df['STATE_FIPS'] = df['STATE_FIPS'].astype(int)\n"
   ]
  },
  {
   "cell_type": "markdown",
   "id": "a706dac0",
   "metadata": {},
   "source": [
    "df['STATE_FIPS'] = df['STATE_FIPS'].astype(object)"
   ]
  },
  {
   "cell_type": "markdown",
   "id": "1111404f",
   "metadata": {},
   "source": [
    "df['STATE_FIPS']"
   ]
  },
  {
   "cell_type": "markdown",
   "id": "b46e4eda",
   "metadata": {},
   "source": [
    "df['CZ_FIPS'] = df['CZ_FIPS'].astype(str)"
   ]
  },
  {
   "cell_type": "markdown",
   "id": "f25161b5",
   "metadata": {},
   "source": [
    "df['CZ_FIPS']"
   ]
  },
  {
   "cell_type": "markdown",
   "id": "bbdb63c7",
   "metadata": {},
   "source": [
    "df['CZ_FIPS'][:5]"
   ]
  },
  {
   "cell_type": "code",
   "execution_count": 9,
   "id": "179e9f83",
   "metadata": {},
   "outputs": [],
   "source": [
    "#df[249750:249760]"
   ]
  },
  {
   "cell_type": "markdown",
   "id": "fdb56f1d",
   "metadata": {},
   "source": [
    "df['CZ_FIPS'][249750:249760]"
   ]
  },
  {
   "cell_type": "markdown",
   "id": "8e561bc7",
   "metadata": {},
   "source": [
    "# WORKING, MARKDOWN UNTIL FINAL\n",
    "# add \"0\" or \"00\" to CZ FIPS so that it can be used to match later\n",
    "for i in (range(len(df['CZ_FIPS']))):\n",
    "    if len(df['CZ_FIPS'][i]) == 2:\n",
    "#        df['CZ_FIPS'][i] = df['CZ_FIPS'][i].astype(str)\n",
    "        df['CZ_FIPS'][i] = \"0\" + df['CZ_FIPS'][i]\n",
    "#        print(df['CZ_FIPS'][i])\n",
    "    elif len(df['CZ_FIPS'][i]) == 1:\n",
    "        df['CZ_FIPS'][i] = \"00\" + df['CZ_FIPS'][i]\n",
    "#        print(df['CZ_FIPS'][i])\n",
    "#     else:\n",
    "#         row"
   ]
  },
  {
   "cell_type": "markdown",
   "id": "617cee30",
   "metadata": {},
   "source": [
    "df['STATE_FIPS'] = df['STATE_FIPS'].astype(str)"
   ]
  },
  {
   "cell_type": "markdown",
   "id": "faea6473",
   "metadata": {},
   "source": [
    "# WORKING, MARKDOWN UNTIL FINAL\n",
    "# add \"0\" to state FIPS so that it can be used to match later\n",
    "for i in (range(len(df['STATE_FIPS']))):\n",
    "    if len(df['STATE_FIPS'][i]) == 1:\n",
    "#        df['CZ_FIPS'][i] = df['CZ_FIPS'][i].astype(str)\n",
    "        df['STATE_FIPS'][i] = \"0\" + df['STATE_FIPS'][i]\n",
    "#        print(df['CZ_FIPS'][i])"
   ]
  },
  {
   "cell_type": "code",
   "execution_count": 10,
   "id": "1820db35",
   "metadata": {},
   "outputs": [],
   "source": [
    "#df[\"CZ_FIPS\"] = df.apply(lambda x: \"0\" + x if len(x) == 2)"
   ]
  },
  {
   "cell_type": "markdown",
   "id": "4206727e",
   "metadata": {},
   "source": [
    "# WORKING, MARKDOWN UNTIL FINAL\n",
    "# concatenate STATE FIPS and CZ FIPS into one column so that it can be used to match\n",
    "df['ST_CT_FIPS'] = df['STATE_FIPS'].astype(str) + df['CZ_FIPS'].astype(str)"
   ]
  },
  {
   "cell_type": "markdown",
   "id": "17ea0706",
   "metadata": {},
   "source": [
    "# WORKING, MARKDOWN UNTIL FINAL\n",
    "# remove all of the K's, M's, and B's in the DAMAGE_PROPERTY column and multiply them by appropriate values\n",
    "d = {r\"(\\d)K$\": r\"\\1*1000\", r\"M$\": r\"*1000000\", r\"B$\": r\"*1000000000\", r\"^K$\": r\"1000\"}\n",
    "\n",
    "for k,v in d.items():\n",
    "     df[\"DAMAGE_PROPERTY\"] = df[\"DAMAGE_PROPERTY\"].str.replace(k, v, regex=True).fillna(\"0.0\")\n",
    "#df[\"DAMAGE_PROPERTY\"].apply(eval)\n",
    "df[\"DAMAGE_PROPERTY\"] = df[\"DAMAGE_PROPERTY\"].apply(eval)"
   ]
  },
  {
   "cell_type": "markdown",
   "id": "4018c29e",
   "metadata": {},
   "source": [
    "# WORKING, MARKDOWN UNTIL FINAL\n",
    "# convert date strings to datetimes\n",
    "df['BEGIN_DATE_TIME'] =  pd.to_datetime(df['BEGIN_DATE_TIME'])\n",
    "df['END_DATE_TIME'] =  pd.to_datetime(df['END_DATE_TIME'])"
   ]
  },
  {
   "cell_type": "markdown",
   "id": "029661c1",
   "metadata": {},
   "source": [
    "# WORKING, MARKDOWN UNTIL FINAL\n",
    "# calculate duration of storm\n",
    "df['DURATION'] = df['END_DATE_TIME'] - df['BEGIN_DATE_TIME']\n",
    "\n",
    "# convert storm duration to minutes\n",
    "for i in (range(len(df['DURATION']))):\n",
    "    df['DURATION'][i] = df['DURATION'][i].total_seconds() / 60"
   ]
  },
  {
   "cell_type": "markdown",
   "id": "a1b0a891",
   "metadata": {},
   "source": [
    "## Part 2 start here"
   ]
  },
  {
   "cell_type": "code",
   "execution_count": 11,
   "id": "97ba7134",
   "metadata": {},
   "outputs": [],
   "source": [
    "#load the data\n",
    "# df = pd.read_csv(\"../Data/all_storm_data4.csv\", index_col=[0])\n",
    "# df.drop(['index'], axis=1, inplace=True)\n",
    "df = pd.read_parquet(\"../Data/all_storm_data6.pqt\")"
   ]
  },
  {
   "cell_type": "code",
   "execution_count": 12,
   "id": "d686f1bd",
   "metadata": {},
   "outputs": [
    {
     "data": {
      "text/html": [
       "<div>\n",
       "<style scoped>\n",
       "    .dataframe tbody tr th:only-of-type {\n",
       "        vertical-align: middle;\n",
       "    }\n",
       "\n",
       "    .dataframe tbody tr th {\n",
       "        vertical-align: top;\n",
       "    }\n",
       "\n",
       "    .dataframe thead th {\n",
       "        text-align: right;\n",
       "    }\n",
       "</style>\n",
       "<table border=\"1\" class=\"dataframe\">\n",
       "  <thead>\n",
       "    <tr style=\"text-align: right;\">\n",
       "      <th></th>\n",
       "      <th>BEGIN_YEARMONTH</th>\n",
       "      <th>BEGIN_DAY</th>\n",
       "      <th>BEGIN_TIME</th>\n",
       "      <th>END_YEARMONTH</th>\n",
       "      <th>END_DAY</th>\n",
       "      <th>END_TIME</th>\n",
       "      <th>EPISODE_ID</th>\n",
       "      <th>EVENT_ID</th>\n",
       "      <th>STATE</th>\n",
       "      <th>STATE_FIPS</th>\n",
       "      <th>...</th>\n",
       "      <th>TOR_LENGTH</th>\n",
       "      <th>TOR_WIDTH</th>\n",
       "      <th>BEGIN_LAT</th>\n",
       "      <th>BEGIN_LON</th>\n",
       "      <th>END_LAT</th>\n",
       "      <th>END_LON</th>\n",
       "      <th>EPISODE_NARRATIVE</th>\n",
       "      <th>EVENT_NARRATIVE</th>\n",
       "      <th>ST_CT_FIPS</th>\n",
       "      <th>DURATION</th>\n",
       "    </tr>\n",
       "  </thead>\n",
       "  <tbody>\n",
       "    <tr>\n",
       "      <th>0</th>\n",
       "      <td>202202</td>\n",
       "      <td>20</td>\n",
       "      <td>2118</td>\n",
       "      <td>202202</td>\n",
       "      <td>20</td>\n",
       "      <td>2218</td>\n",
       "      <td>165464</td>\n",
       "      <td>999902</td>\n",
       "      <td>NEVADA</td>\n",
       "      <td>32</td>\n",
       "      <td>...</td>\n",
       "      <td>0.0</td>\n",
       "      <td>0.0</td>\n",
       "      <td>NaN</td>\n",
       "      <td>NaN</td>\n",
       "      <td>NaN</td>\n",
       "      <td>NaN</td>\n",
       "      <td>Strong winds increased ahead of an approaching...</td>\n",
       "      <td>Station (UP994) 3.1 SE West Wendover, Elevatio...</td>\n",
       "      <td>32033</td>\n",
       "      <td>60.0</td>\n",
       "    </tr>\n",
       "    <tr>\n",
       "      <th>1</th>\n",
       "      <td>202202</td>\n",
       "      <td>21</td>\n",
       "      <td>800</td>\n",
       "      <td>202202</td>\n",
       "      <td>22</td>\n",
       "      <td>1000</td>\n",
       "      <td>165465</td>\n",
       "      <td>999903</td>\n",
       "      <td>NEVADA</td>\n",
       "      <td>32</td>\n",
       "      <td>...</td>\n",
       "      <td>0.0</td>\n",
       "      <td>0.0</td>\n",
       "      <td>NaN</td>\n",
       "      <td>NaN</td>\n",
       "      <td>NaN</td>\n",
       "      <td>NaN</td>\n",
       "      <td>A low centered over northern and central Nevad...</td>\n",
       "      <td>Thirteen inches fell at station (BCSN2) Big Cr...</td>\n",
       "      <td>32037</td>\n",
       "      <td>1560.0</td>\n",
       "    </tr>\n",
       "    <tr>\n",
       "      <th>2</th>\n",
       "      <td>202202</td>\n",
       "      <td>22</td>\n",
       "      <td>200</td>\n",
       "      <td>202202</td>\n",
       "      <td>22</td>\n",
       "      <td>900</td>\n",
       "      <td>165465</td>\n",
       "      <td>999904</td>\n",
       "      <td>NEVADA</td>\n",
       "      <td>32</td>\n",
       "      <td>...</td>\n",
       "      <td>0.0</td>\n",
       "      <td>0.0</td>\n",
       "      <td>NaN</td>\n",
       "      <td>NaN</td>\n",
       "      <td>NaN</td>\n",
       "      <td>NaN</td>\n",
       "      <td>A low centered over northern and central Nevad...</td>\n",
       "      <td>Fifteen inches fell at station (TJMN2) Toe Jam...</td>\n",
       "      <td>32031</td>\n",
       "      <td>420.0</td>\n",
       "    </tr>\n",
       "    <tr>\n",
       "      <th>3</th>\n",
       "      <td>202202</td>\n",
       "      <td>18</td>\n",
       "      <td>1609</td>\n",
       "      <td>202202</td>\n",
       "      <td>18</td>\n",
       "      <td>1609</td>\n",
       "      <td>165611</td>\n",
       "      <td>1001181</td>\n",
       "      <td>ATLANTIC SOUTH</td>\n",
       "      <td>87</td>\n",
       "      <td>...</td>\n",
       "      <td>0.0</td>\n",
       "      <td>0.0</td>\n",
       "      <td>30.050</td>\n",
       "      <td>-81.1700</td>\n",
       "      <td>30.0500</td>\n",
       "      <td>-81.1700</td>\n",
       "      <td>Pre-frontal showers and thunderstorms moved so...</td>\n",
       "      <td>A brief waterspout was observed offshore of So...</td>\n",
       "      <td>87452</td>\n",
       "      <td>0.0</td>\n",
       "    </tr>\n",
       "    <tr>\n",
       "      <th>4</th>\n",
       "      <td>202202</td>\n",
       "      <td>2</td>\n",
       "      <td>0</td>\n",
       "      <td>202202</td>\n",
       "      <td>3</td>\n",
       "      <td>0</td>\n",
       "      <td>165668</td>\n",
       "      <td>1001527</td>\n",
       "      <td>AMERICAN SAMOA</td>\n",
       "      <td>97</td>\n",
       "      <td>...</td>\n",
       "      <td>0.0</td>\n",
       "      <td>0.0</td>\n",
       "      <td>-14.333</td>\n",
       "      <td>-170.7157</td>\n",
       "      <td>-14.3393</td>\n",
       "      <td>-170.7268</td>\n",
       "      <td>A surface trough over the Islands held  the po...</td>\n",
       "      <td>Over a 24-hour period, WSO Pago Pago recorded ...</td>\n",
       "      <td>97002</td>\n",
       "      <td>1440.0</td>\n",
       "    </tr>\n",
       "  </tbody>\n",
       "</table>\n",
       "<p>5 rows × 37 columns</p>\n",
       "</div>"
      ],
      "text/plain": [
       "   BEGIN_YEARMONTH  BEGIN_DAY  BEGIN_TIME  END_YEARMONTH  END_DAY  END_TIME  \\\n",
       "0           202202         20        2118         202202       20      2218   \n",
       "1           202202         21         800         202202       22      1000   \n",
       "2           202202         22         200         202202       22       900   \n",
       "3           202202         18        1609         202202       18      1609   \n",
       "4           202202          2           0         202202        3         0   \n",
       "\n",
       "   EPISODE_ID  EVENT_ID           STATE  STATE_FIPS  ...  TOR_LENGTH  \\\n",
       "0      165464    999902          NEVADA          32  ...         0.0   \n",
       "1      165465    999903          NEVADA          32  ...         0.0   \n",
       "2      165465    999904          NEVADA          32  ...         0.0   \n",
       "3      165611   1001181  ATLANTIC SOUTH          87  ...         0.0   \n",
       "4      165668   1001527  AMERICAN SAMOA          97  ...         0.0   \n",
       "\n",
       "  TOR_WIDTH BEGIN_LAT  BEGIN_LON  END_LAT   END_LON  \\\n",
       "0       0.0       NaN        NaN      NaN       NaN   \n",
       "1       0.0       NaN        NaN      NaN       NaN   \n",
       "2       0.0       NaN        NaN      NaN       NaN   \n",
       "3       0.0    30.050   -81.1700  30.0500  -81.1700   \n",
       "4       0.0   -14.333  -170.7157 -14.3393 -170.7268   \n",
       "\n",
       "                                   EPISODE_NARRATIVE  \\\n",
       "0  Strong winds increased ahead of an approaching...   \n",
       "1  A low centered over northern and central Nevad...   \n",
       "2  A low centered over northern and central Nevad...   \n",
       "3  Pre-frontal showers and thunderstorms moved so...   \n",
       "4  A surface trough over the Islands held  the po...   \n",
       "\n",
       "                                     EVENT_NARRATIVE  ST_CT_FIPS  DURATION  \n",
       "0  Station (UP994) 3.1 SE West Wendover, Elevatio...       32033      60.0  \n",
       "1  Thirteen inches fell at station (BCSN2) Big Cr...       32037    1560.0  \n",
       "2  Fifteen inches fell at station (TJMN2) Toe Jam...       32031     420.0  \n",
       "3  A brief waterspout was observed offshore of So...       87452       0.0  \n",
       "4  Over a 24-hour period, WSO Pago Pago recorded ...       97002    1440.0  \n",
       "\n",
       "[5 rows x 37 columns]"
      ]
     },
     "execution_count": 12,
     "metadata": {},
     "output_type": "execute_result"
    }
   ],
   "source": [
    "df.head()"
   ]
  },
  {
   "cell_type": "code",
   "execution_count": 13,
   "id": "3ff363f1",
   "metadata": {},
   "outputs": [
    {
     "name": "stdout",
     "output_type": "stream",
     "text": [
      "<class 'pandas.core.frame.DataFrame'>\n",
      "Int64Index: 1555647 entries, 0 to 1555646\n",
      "Data columns (total 37 columns):\n",
      " #   Column             Non-Null Count    Dtype         \n",
      "---  ------             --------------    -----         \n",
      " 0   BEGIN_YEARMONTH    1555647 non-null  int64         \n",
      " 1   BEGIN_DAY          1555647 non-null  int64         \n",
      " 2   BEGIN_TIME         1555647 non-null  int64         \n",
      " 3   END_YEARMONTH      1555647 non-null  int64         \n",
      " 4   END_DAY            1555647 non-null  int64         \n",
      " 5   END_TIME           1555647 non-null  int64         \n",
      " 6   EPISODE_ID         1555647 non-null  int64         \n",
      " 7   EVENT_ID           1555647 non-null  int64         \n",
      " 8   STATE              1555647 non-null  object        \n",
      " 9   STATE_FIPS         1555647 non-null  int64         \n",
      " 10  YEAR               1555647 non-null  int64         \n",
      " 11  MONTH_NAME         1555647 non-null  object        \n",
      " 12  EVENT_TYPE         1555647 non-null  object        \n",
      " 13  CZ_FIPS            1555647 non-null  int64         \n",
      " 14  CZ_NAME            1555647 non-null  object        \n",
      " 15  BEGIN_DATE_TIME    1555647 non-null  datetime64[ns]\n",
      " 16  END_DATE_TIME      1555647 non-null  datetime64[ns]\n",
      " 17  INJURIES_DIRECT    1555647 non-null  int64         \n",
      " 18  INJURIES_INDIRECT  1555647 non-null  int64         \n",
      " 19  DEATHS_DIRECT      1555647 non-null  int64         \n",
      " 20  DEATHS_INDIRECT    1555647 non-null  int64         \n",
      " 21  DAMAGE_PROPERTY    1555647 non-null  float64       \n",
      " 22  SOURCE             1555647 non-null  object        \n",
      " 23  MAGNITUDE          1555647 non-null  float64       \n",
      " 24  MAGNITUDE_TYPE     517597 non-null   object        \n",
      " 25  FLOOD_CAUSE        116296 non-null   object        \n",
      " 26  TOR_F_SCALE        36040 non-null    object        \n",
      " 27  TOR_LENGTH         1555647 non-null  float64       \n",
      " 28  TOR_WIDTH          1555647 non-null  float64       \n",
      " 29  BEGIN_LAT          916593 non-null   float64       \n",
      " 30  BEGIN_LON          916584 non-null   float64       \n",
      " 31  END_LAT            916593 non-null   float64       \n",
      " 32  END_LON            916584 non-null   float64       \n",
      " 33  EPISODE_NARRATIVE  1357403 non-null  object        \n",
      " 34  EVENT_NARRATIVE    990579 non-null   object        \n",
      " 35  ST_CT_FIPS         1555647 non-null  int64         \n",
      " 36  DURATION           1555647 non-null  float64       \n",
      "dtypes: datetime64[ns](2), float64(9), int64(16), object(10)\n",
      "memory usage: 451.0+ MB\n"
     ]
    }
   ],
   "source": [
    "df.info()"
   ]
  },
  {
   "cell_type": "code",
   "execution_count": 14,
   "id": "3d2fe79c",
   "metadata": {},
   "outputs": [],
   "source": [
    "df['BEGIN_LAT'] = df['BEGIN_LAT'].replace(\"NA\", \"\")"
   ]
  },
  {
   "cell_type": "code",
   "execution_count": 15,
   "id": "1656d020",
   "metadata": {},
   "outputs": [],
   "source": [
    "df['BEGIN_LAT'] = df['BEGIN_LAT'].astype(float)\n",
    "# df['BEGIN_LON'] = df['BEGIN_LON'].astype(float)\n",
    "# df['END_LAT'] = df['END_LAT'].astype(float)\n",
    "# df['END_LON'] = df['END_LON'].astype(float)"
   ]
  },
  {
   "cell_type": "code",
   "execution_count": null,
   "id": "0696684a",
   "metadata": {},
   "outputs": [],
   "source": []
  },
  {
   "cell_type": "markdown",
   "id": "d4713d1d",
   "metadata": {},
   "source": [
    "#### write to CSV\n",
    "from pathlib import Path  \n",
    "filepath = Path('/Users/gregwelliver/Desktop/springboard_files/Severe-Weather-Repo/Data/all_storm_data5.csv')  \n",
    "filepath.parent.mkdir(parents=True, exist_ok=True)  \n",
    "df.to_csv(filepath)"
   ]
  },
  {
   "cell_type": "markdown",
   "id": "945616ce",
   "metadata": {},
   "source": [
    "#### write to parquet\n",
    "parquet_file = 'example_pd.parquet'\n",
    "\n",
    "df.to_parquet(parquet_file, engine = 'pyarrow', compression = 'gzip')\n",
    "\n",
    "logging.info('Parquet file named \"%s\" has been written to disk', parquet_file)"
   ]
  },
  {
   "cell_type": "code",
   "execution_count": 16,
   "id": "cc0cd24f",
   "metadata": {},
   "outputs": [],
   "source": [
    "df['test_column'] = 'NA'"
   ]
  },
  {
   "cell_type": "code",
   "execution_count": 17,
   "id": "c59206a5",
   "metadata": {},
   "outputs": [
    {
     "name": "stdout",
     "output_type": "stream",
     "text": [
      "<class 'pandas.core.frame.DataFrame'>\n",
      "Int64Index: 1555647 entries, 0 to 1555646\n",
      "Data columns (total 38 columns):\n",
      " #   Column             Non-Null Count    Dtype         \n",
      "---  ------             --------------    -----         \n",
      " 0   BEGIN_YEARMONTH    1555647 non-null  int64         \n",
      " 1   BEGIN_DAY          1555647 non-null  int64         \n",
      " 2   BEGIN_TIME         1555647 non-null  int64         \n",
      " 3   END_YEARMONTH      1555647 non-null  int64         \n",
      " 4   END_DAY            1555647 non-null  int64         \n",
      " 5   END_TIME           1555647 non-null  int64         \n",
      " 6   EPISODE_ID         1555647 non-null  int64         \n",
      " 7   EVENT_ID           1555647 non-null  int64         \n",
      " 8   STATE              1555647 non-null  object        \n",
      " 9   STATE_FIPS         1555647 non-null  int64         \n",
      " 10  YEAR               1555647 non-null  int64         \n",
      " 11  MONTH_NAME         1555647 non-null  object        \n",
      " 12  EVENT_TYPE         1555647 non-null  object        \n",
      " 13  CZ_FIPS            1555647 non-null  int64         \n",
      " 14  CZ_NAME            1555647 non-null  object        \n",
      " 15  BEGIN_DATE_TIME    1555647 non-null  datetime64[ns]\n",
      " 16  END_DATE_TIME      1555647 non-null  datetime64[ns]\n",
      " 17  INJURIES_DIRECT    1555647 non-null  int64         \n",
      " 18  INJURIES_INDIRECT  1555647 non-null  int64         \n",
      " 19  DEATHS_DIRECT      1555647 non-null  int64         \n",
      " 20  DEATHS_INDIRECT    1555647 non-null  int64         \n",
      " 21  DAMAGE_PROPERTY    1555647 non-null  float64       \n",
      " 22  SOURCE             1555647 non-null  object        \n",
      " 23  MAGNITUDE          1555647 non-null  float64       \n",
      " 24  MAGNITUDE_TYPE     517597 non-null   object        \n",
      " 25  FLOOD_CAUSE        116296 non-null   object        \n",
      " 26  TOR_F_SCALE        36040 non-null    object        \n",
      " 27  TOR_LENGTH         1555647 non-null  float64       \n",
      " 28  TOR_WIDTH          1555647 non-null  float64       \n",
      " 29  BEGIN_LAT          916593 non-null   float64       \n",
      " 30  BEGIN_LON          916584 non-null   float64       \n",
      " 31  END_LAT            916593 non-null   float64       \n",
      " 32  END_LON            916584 non-null   float64       \n",
      " 33  EPISODE_NARRATIVE  1357403 non-null  object        \n",
      " 34  EVENT_NARRATIVE    990579 non-null   object        \n",
      " 35  ST_CT_FIPS         1555647 non-null  int64         \n",
      " 36  DURATION           1555647 non-null  float64       \n",
      " 37  test_column        1555647 non-null  object        \n",
      "dtypes: datetime64[ns](2), float64(9), int64(16), object(11)\n",
      "memory usage: 462.9+ MB\n"
     ]
    }
   ],
   "source": [
    "df.info()"
   ]
  },
  {
   "cell_type": "code",
   "execution_count": 18,
   "id": "0e6f5f24",
   "metadata": {},
   "outputs": [],
   "source": [
    "df['DURATION'] = df['DURATION'].astype(int)"
   ]
  },
  {
   "cell_type": "code",
   "execution_count": 19,
   "id": "d9c099af",
   "metadata": {},
   "outputs": [
    {
     "name": "stdout",
     "output_type": "stream",
     "text": [
      "<class 'pandas.core.frame.DataFrame'>\n",
      "Int64Index: 1555647 entries, 0 to 1555646\n",
      "Data columns (total 38 columns):\n",
      " #   Column             Non-Null Count    Dtype         \n",
      "---  ------             --------------    -----         \n",
      " 0   BEGIN_YEARMONTH    1555647 non-null  int64         \n",
      " 1   BEGIN_DAY          1555647 non-null  int64         \n",
      " 2   BEGIN_TIME         1555647 non-null  int64         \n",
      " 3   END_YEARMONTH      1555647 non-null  int64         \n",
      " 4   END_DAY            1555647 non-null  int64         \n",
      " 5   END_TIME           1555647 non-null  int64         \n",
      " 6   EPISODE_ID         1555647 non-null  int64         \n",
      " 7   EVENT_ID           1555647 non-null  int64         \n",
      " 8   STATE              1555647 non-null  object        \n",
      " 9   STATE_FIPS         1555647 non-null  int64         \n",
      " 10  YEAR               1555647 non-null  int64         \n",
      " 11  MONTH_NAME         1555647 non-null  object        \n",
      " 12  EVENT_TYPE         1555647 non-null  object        \n",
      " 13  CZ_FIPS            1555647 non-null  int64         \n",
      " 14  CZ_NAME            1555647 non-null  object        \n",
      " 15  BEGIN_DATE_TIME    1555647 non-null  datetime64[ns]\n",
      " 16  END_DATE_TIME      1555647 non-null  datetime64[ns]\n",
      " 17  INJURIES_DIRECT    1555647 non-null  int64         \n",
      " 18  INJURIES_INDIRECT  1555647 non-null  int64         \n",
      " 19  DEATHS_DIRECT      1555647 non-null  int64         \n",
      " 20  DEATHS_INDIRECT    1555647 non-null  int64         \n",
      " 21  DAMAGE_PROPERTY    1555647 non-null  float64       \n",
      " 22  SOURCE             1555647 non-null  object        \n",
      " 23  MAGNITUDE          1555647 non-null  float64       \n",
      " 24  MAGNITUDE_TYPE     517597 non-null   object        \n",
      " 25  FLOOD_CAUSE        116296 non-null   object        \n",
      " 26  TOR_F_SCALE        36040 non-null    object        \n",
      " 27  TOR_LENGTH         1555647 non-null  float64       \n",
      " 28  TOR_WIDTH          1555647 non-null  float64       \n",
      " 29  BEGIN_LAT          916593 non-null   float64       \n",
      " 30  BEGIN_LON          916584 non-null   float64       \n",
      " 31  END_LAT            916593 non-null   float64       \n",
      " 32  END_LON            916584 non-null   float64       \n",
      " 33  EPISODE_NARRATIVE  1357403 non-null  object        \n",
      " 34  EVENT_NARRATIVE    990579 non-null   object        \n",
      " 35  ST_CT_FIPS         1555647 non-null  int64         \n",
      " 36  DURATION           1555647 non-null  int64         \n",
      " 37  test_column        1555647 non-null  object        \n",
      "dtypes: datetime64[ns](2), float64(8), int64(17), object(11)\n",
      "memory usage: 462.9+ MB\n"
     ]
    }
   ],
   "source": [
    "df.info()"
   ]
  },
  {
   "cell_type": "code",
   "execution_count": 20,
   "id": "2dfa6e51",
   "metadata": {},
   "outputs": [
    {
     "data": {
      "text/plain": [
       "0      60\n",
       "1    1560\n",
       "2     420\n",
       "3       0\n",
       "4    1440\n",
       "5    1020\n",
       "6     600\n",
       "7     660\n",
       "8    1680\n",
       "9    1680\n",
       "Name: DURATION, dtype: int64"
      ]
     },
     "execution_count": 20,
     "metadata": {},
     "output_type": "execute_result"
    }
   ],
   "source": [
    "df['DURATION'][:10]"
   ]
  },
  {
   "cell_type": "code",
   "execution_count": 21,
   "id": "269a414e",
   "metadata": {
    "scrolled": true
   },
   "outputs": [
    {
     "ename": "SyntaxError",
     "evalue": "cannot assign to function call (2502411562.py, line 5)",
     "output_type": "error",
     "traceback": [
      "\u001b[0;36m  Input \u001b[0;32mIn [21]\u001b[0;36m\u001b[0m\n\u001b[0;31m    int(df['test_column'][i]) = \"basket\"\u001b[0m\n\u001b[0m    ^\u001b[0m\n\u001b[0;31mSyntaxError\u001b[0m\u001b[0;31m:\u001b[0m cannot assign to function call\n"
     ]
    }
   ],
   "source": [
    "for i in df['DURATION'][:10]:\n",
    "    if df['DURATION'][i] == 1560:\n",
    "        df['test_column'][i] = \"balls\"\n",
    "    elif df['DURATION'][i] == 420:\n",
    "        df['test_column'][i] = \"basket\""
   ]
  },
  {
   "cell_type": "code",
   "execution_count": null,
   "id": "a4c254c5",
   "metadata": {},
   "outputs": [],
   "source": [
    "df['test_column'][:10]"
   ]
  },
  {
   "cell_type": "markdown",
   "id": "43dce506",
   "metadata": {},
   "source": [
    "    just for purpose of testing\n"
   ]
  },
  {
   "cell_type": "code",
   "execution_count": null,
   "id": "b2984e9b",
   "metadata": {},
   "outputs": [],
   "source": []
  },
  {
   "cell_type": "markdown",
   "id": "a3700ca6",
   "metadata": {},
   "source": [
    "#### write to parquet\n",
    "from pathlib import Path  \n",
    "filepath = Path('/Users/gregwelliver/Desktop/springboard_files/Severe-Weather-Repo/Data/all_storm_data6.pqt')  \n",
    "filepath.parent.mkdir(parents=True, exist_ok=True)  \n",
    "df.to_parquet(filepath)"
   ]
  },
  {
   "cell_type": "markdown",
   "id": "66275a93",
   "metadata": {},
   "source": [
    "resources"
   ]
  },
  {
   "cell_type": "markdown",
   "id": "050aad81",
   "metadata": {},
   "source": [
    "CZ FIPS documentation: https://www.irsa.miami.edu/_assets/pdf/Documents/fips_statecounty_code.pdf\n",
    "\n",
    "Population density: https://covid19.census.gov/datasets/21843f238cbb46b08615fc53e19e0daf_1/explore?location=2.632620%2C0.315550%2C1.00\n",
    "\n",
    "Home price index: https://www.fhfa.gov/DataTools/Downloads/Pages/House-Price-Index-Datasets.aspx\n",
    "\n",
    "maybe useful: https://www.nar.realtor/research-and-statistics/housing-statistics/county-median-home-prices-and-monthly-mortgage-payment\n",
    "        \n",
    "land values: https://www.nass.usda.gov/Publications/Todays_Reports/reports/land0822.pdf"
   ]
  },
  {
   "cell_type": "code",
   "execution_count": null,
   "id": "293b4722",
   "metadata": {},
   "outputs": [],
   "source": []
  }
 ],
 "metadata": {
  "kernelspec": {
   "display_name": "Python 3 (ipykernel)",
   "language": "python",
   "name": "python3"
  },
  "language_info": {
   "codemirror_mode": {
    "name": "ipython",
    "version": 3
   },
   "file_extension": ".py",
   "mimetype": "text/x-python",
   "name": "python",
   "nbconvert_exporter": "python",
   "pygments_lexer": "ipython3",
   "version": "3.9.12"
  }
 },
 "nbformat": 4,
 "nbformat_minor": 5
}
