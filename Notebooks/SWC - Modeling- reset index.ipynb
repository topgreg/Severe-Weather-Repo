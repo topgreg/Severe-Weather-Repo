{
 "cells": [
  {
   "cell_type": "markdown",
   "id": "a4102f31",
   "metadata": {},
   "source": [
    "# Severe Weather - Modeling\n",
    "\n",
    "Greg Welliver   "
   ]
  },
  {
   "cell_type": "code",
   "execution_count": null,
   "id": "ba529c28",
   "metadata": {},
   "outputs": [],
   "source": [
    "# Import relevant libraries and packages.\n",
    "import numpy as np \n",
    "import pandas as pd \n",
    "import matplotlib.pyplot as plt\n",
    "from matplotlib import rc\n",
    "import matplotlib.ticker as plticker\n",
    "import seaborn as sns\n",
    "sns.set()\n",
    "from sklearn.metrics import mean_squared_error, r2_score\n",
    "from sklearn.model_selection import train_test_split\n",
    "from sklearn import linear_model, preprocessing \n",
    "import warnings\n",
    "from scipy import stats\n",
    "import matplotlib as mpl\n",
    "import matplotlib.cm as cm\n",
    "from matplotlib.colors import ListedColormap\n",
    "import lightgbm as lgb\n",
    "from lightgbm import LGBMRegressor\n",
    "from numpy import mean\n",
    "from numpy import std\n",
    "from functools import partial\n",
    "%matplotlib inline\n",
    "from sklearn.linear_model import GammaRegressor\n",
    "from sklearn.linear_model import TweedieRegressor\n",
    "\n",
    "import statsmodels.api as sm\n",
    "from statsmodels.graphics.api import abline_plot\n",
    "from scipy import stats\n",
    "\n",
    "from sklearn.datasets import fetch_openml\n",
    "from sklearn import linear_model, preprocessing, tree, svm, datasets, metrics\n",
    "from sklearn.metrics import accuracy_score, classification_report, confusion_matrix, roc_curve, roc_auc_score, auc, mean_squared_error, mean_absolute_error, mean_absolute_percentage_error, r2_score, f1_score, log_loss\n",
    "from sklearn.metrics import ConfusionMatrixDisplay\n",
    "from sklearn.metrics import precision_recall_fscore_support as score\n",
    "from sklearn.metrics import classification_report\n",
    "from sklearn.metrics import confusion_matrix\n",
    "from sklearn.metrics import precision_recall_curve\n",
    "\n",
    "from sklearn.ensemble import RandomForestClassifier\n",
    "from sklearn.ensemble import RandomForestRegressor\n",
    "from sklearn.ensemble import GradientBoostingClassifier\n",
    "from sklearn.ensemble import VotingClassifier\n",
    "from sklearn.ensemble import ExtraTreesRegressor\n",
    "from sklearn.linear_model import LogisticRegression\n",
    "from sklearn.naive_bayes import GaussianNB\n",
    "from sklearn.tree import DecisionTreeClassifier\n",
    "from sklearn.tree import export_graphviz\n",
    "\n",
    "from sklearn.svm import SVC\n",
    "from sklearn.neighbors import KNeighborsClassifier\n",
    "from sklearn.preprocessing import OneHotEncoder as OHE\n",
    "import sklearn.model_selection\n",
    "from sklearn.model_selection import train_test_split\n",
    "from sklearn.model_selection import KFold\n",
    "from sklearn.model_selection import GridSearchCV, RandomizedSearchCV\n",
    "from sklearn.experimental import enable_iterative_imputer\n",
    "from sklearn.impute import IterativeImputer\n",
    "from sklearn.model_selection import cross_val_score\n",
    "from sklearn.model_selection import RepeatedKFold\n",
    "from sklearn.metrics import mean_tweedie_deviance, make_scorer\n",
    "\n",
    "\n",
    "import xgboost\n",
    "from xgboost import XGBClassifier\n",
    "from xgboost import XGBRegressor\n",
    "import warnings\n",
    "from subprocess import call\n",
    "from IPython.display import Image\n",
    "from datetime import datetime, timedelta, date\n",
    "import os\n",
    "import plotly.graph_objects as go\n",
    "import itertools\n",
    "from io import StringIO  \n",
    "import pydotplus\n",
    "\n",
    "# Seaborn settings\n",
    "sns.set_context('notebook')\n",
    "#sns.set_style(\"whitegrid\")\n",
    "#sns.set_style(\"white\")\n",
    "style_set = sns.set_style('whitegrid')\n",
    "pd.options.display.float_format = '{:,}'.format\n",
    "color_choice1 = 'plum'\n",
    "color_choice2 = 'lightblue'\n",
    "color_choice3 = 'lightgreen'\n",
    "#ax.yaxis.set_major_formatter('{x:,.0f}')\n",
    "#sns.set_context('notebook', font_scale = 4)\n",
    "\n",
    "#from mpl_toolkits.basemap import Basemap\n",
    "import geopandas as gpd\n",
    "from shapely.geometry import Point, Polygon\n",
    "import contextily as ctx\n",
    "\n",
    "from sklearn.feature_extraction.text import CountVectorizer"
   ]
  },
  {
   "cell_type": "markdown",
   "id": "fbf95157",
   "metadata": {},
   "source": [
    "## Load the data\n",
    "\n"
   ]
  },
  {
   "cell_type": "code",
   "execution_count": null,
   "id": "892bc82a",
   "metadata": {},
   "outputs": [],
   "source": [
    "# load the data\n",
    "X_train = pd.read_parquet(\"../Data/X_train2.pqt\")\n",
    "X_test = pd.read_parquet(\"../Data/X_test2.pqt\")\n",
    "y_train = pd.read_parquet(\"../Data/y_train2.pqt\") \n",
    "y_test = pd.read_parquet(\"../Data/y_test2.pqt\")\n",
    "\n",
    "X = pd.concat([X_train, X_test])\n",
    "y = pd.concat([y_train, y_test])\n",
    "\n",
    "eval_set = [(X_train, y_train), (X_test, y_test)]\n",
    "\n",
    "#df = pd.read_parquet(\"../Data/all_storm_data11.pqt\")"
   ]
  },
  {
   "cell_type": "code",
   "execution_count": null,
   "id": "3dac591e",
   "metadata": {},
   "outputs": [],
   "source": []
  },
  {
   "cell_type": "markdown",
   "id": "9af4b85f",
   "metadata": {},
   "source": [
    "# <font color='orange'>Random Forest Model</font>\n"
   ]
  },
  {
   "cell_type": "code",
   "execution_count": null,
   "id": "c2e23ff4",
   "metadata": {},
   "outputs": [],
   "source": [
    "#rf_reg = RandomForestRegressor(**random_search.best_params_, random_state=1234)\n",
    "rf_reg = RandomForestRegressor(random_state=1234, n_estimators=100, n_jobs=-1)\n",
    "rf_reg.fit(X_train, y_train.values.ravel())\n",
    "\n",
    "y_pred = rf_reg.predict(X_train)\n",
    "print('TRAIN:')\n",
    "print('MAE: ', f\"{mean_absolute_error(y_train, y_pred):,.1f}\")\n",
    "print('MSE: ', f\"{mean_squared_error(y_train, y_pred):,.1f}\")\n",
    "print('RMSE:', f\"{np.sqrt(mean_squared_error(y_train, y_pred)):,.1f}\")\n",
    "print('MAPE: ', f\"{mean_absolute_percentage_error(y_train, y_pred):,.1f}\")\n",
    "train_mae = mean_absolute_error(y_train, y_pred)\n",
    "\n",
    "print(\"\")\n",
    "y_pred = rf_reg.predict(X_test)\n",
    "print('TEST:')\n",
    "print('MAE: ', f\"{mean_absolute_error(y_test, y_pred):,.1f}\")\n",
    "print('MSE: ', f\"{mean_squared_error(y_test, y_pred):,.1f}\")\n",
    "print('RMSE:', f\"{np.sqrt(mean_squared_error(y_test, y_pred)):,.1f}\")\n",
    "print('MAPE: ', f\"{mean_absolute_percentage_error(y_test, y_pred):,.1f}\")\n",
    "test_mae = mean_absolute_error(y_test, y_pred)\n",
    "\n",
    "print(\"\")\n",
    "print('MAE DIFF:', f\"{((test_mae / train_mae) - 1):.0%}\")"
   ]
  },
  {
   "cell_type": "code",
   "execution_count": null,
   "id": "58dc337c",
   "metadata": {},
   "outputs": [],
   "source": [
    "plt.scatter(y_test, y_pred, color = 'blue', alpha=0.2)\n",
    "plt.title('Actual Versus Predicted Values')\n",
    "plt.xlabel('Actual')\n",
    "plt.ylabel('Prredicted')\n",
    "plt.show() "
   ]
  },
  {
   "cell_type": "code",
   "execution_count": null,
   "id": "4b03a4be",
   "metadata": {},
   "outputs": [],
   "source": [
    "plt.scatter(y_test, y_pred, color = 'blue', alpha=0.2)\n",
    "plt.title('Actual Versus Predicted Values')\n",
    "plt.xlabel('Actual')\n",
    "plt.ylabel('Prredicted')\n",
    "plt.xscale(\"log\")\n",
    "plt.yscale(\"log\")\n",
    "plt.show()"
   ]
  },
  {
   "cell_type": "code",
   "execution_count": null,
   "id": "6e522ca2",
   "metadata": {},
   "outputs": [],
   "source": [
    "feature_importance = rf_reg.feature_importances_\n",
    "# make importances relative to max importance\n",
    "feature_importance = 100.0 * (feature_importance / feature_importance.max())[:30]\n",
    "sorted_idx = np.argsort(feature_importance)[:20]\n",
    "\n",
    "pos = np.arange(sorted_idx.shape[0]) + .5\n",
    "print(pos.size)\n",
    "sorted_idx.size\n",
    "plt.figure(figsize=(8,8))\n",
    "plt.barh(pos, feature_importance[sorted_idx], align='center')\n",
    "plt.yticks(pos, X.columns[sorted_idx])\n",
    "plt.xlabel('Relative Importance')\n",
    "plt.title('Variable Importance')\n",
    "plt.show()"
   ]
  },
  {
   "cell_type": "markdown",
   "id": "17a2999b",
   "metadata": {},
   "source": [
    "#### Now hyperparameter tuning"
   ]
  },
  {
   "cell_type": "code",
   "execution_count": null,
   "id": "ad49daca",
   "metadata": {},
   "outputs": [],
   "source": [
    "# set the parameter grid\n",
    "param_grid = {\n",
    "    'n_estimators': [50, 100, 150],\n",
    "    'max_depth': [3, 6, 9],\n",
    "    'max_features': ['sqrt', 'log2', None],\n",
    "    'min_samples_leaf': [5, 10, 20, 50, 100]\n",
    "}"
   ]
  },
  {
   "cell_type": "code",
   "execution_count": null,
   "id": "1b3f58b8",
   "metadata": {},
   "outputs": [],
   "source": [
    "#markdown since it takes so long to run\n",
    "# %%time\n",
    "# random_search = RandomizedSearchCV(RandomForestRegressor(random_state=1234),\n",
    "#                                    param_grid, n_jobs=-1)\n",
    "# random_search.fit(X_train, y_train.values.ravel())\n",
    "# print(random_search.best_estimator_)"
   ]
  },
  {
   "cell_type": "code",
   "execution_count": null,
   "id": "e56b471a",
   "metadata": {},
   "outputs": [],
   "source": [
    "rf_reg_cv = RandomForestRegressor(max_depth=6, max_features=None, min_samples_leaf=10,\n",
    "                      n_estimators=150, random_state=1234, n_jobs=-1)\n",
    "rf_reg_cv.fit(X_train, y_train.values.ravel())\n",
    "\n",
    "y_pred = rf_reg_cv.predict(X_train)\n",
    "print('TRAIN:')\n",
    "print('MAE: ', f\"{mean_absolute_error(y_train, y_pred):,.1f}\")\n",
    "print('MSE: ', f\"{mean_squared_error(y_train, y_pred):,.1f}\")\n",
    "print('RMSE:', f\"{np.sqrt(mean_squared_error(y_train, y_pred)):,.1f}\")\n",
    "print('MAPE: ', f\"{mean_absolute_percentage_error(y_train, y_pred):,.1f}\")\n",
    "train_mae = mean_absolute_error(y_train, y_pred)\n",
    "\n",
    "print(\"\")\n",
    "y_pred = rf_reg_cv.predict(X_test)\n",
    "print('TEST:')\n",
    "print('MAE: ', f\"{mean_absolute_error(y_test, y_pred):,.1f}\")\n",
    "print('MSE: ', f\"{mean_squared_error(y_test, y_pred):,.1f}\")\n",
    "print('RMSE:', f\"{np.sqrt(mean_squared_error(y_test, y_pred)):,.1f}\")\n",
    "print('MAPE: ', f\"{mean_absolute_percentage_error(y_test, y_pred):,.1f}\")\n",
    "test_mae = mean_absolute_error(y_test, y_pred)\n",
    "\n",
    "print(\"\")\n",
    "print('MAE DIFF:', f\"{((test_mae / train_mae) - 1):.0%}\")"
   ]
  },
  {
   "cell_type": "code",
   "execution_count": null,
   "id": "ae09aa08",
   "metadata": {},
   "outputs": [],
   "source": [
    "plt.scatter(y_test, y_pred, color = 'blue', alpha=0.2)\n",
    "plt.title('Actual Versus Predicted Values')\n",
    "plt.xlabel('Actual')\n",
    "plt.ylabel('Prredicted')\n",
    "plt.show() "
   ]
  },
  {
   "cell_type": "code",
   "execution_count": null,
   "id": "b21f767a",
   "metadata": {},
   "outputs": [],
   "source": [
    "plt.scatter(y_test, y_pred, color = 'blue', alpha=0.2)\n",
    "plt.title('Actual Versus Predicted Values')\n",
    "plt.xlabel('Actual')\n",
    "plt.ylabel('Prredicted')\n",
    "plt.xscale(\"log\")\n",
    "plt.yscale(\"log\")\n",
    "plt.show()"
   ]
  },
  {
   "cell_type": "code",
   "execution_count": null,
   "id": "08808c5e",
   "metadata": {},
   "outputs": [],
   "source": [
    "feature_importance = rf_reg_cv.feature_importances_\n",
    "# make importances relative to max importance\n",
    "feature_importance = 100.0 * (feature_importance / feature_importance.max())[:30]\n",
    "sorted_idx = np.argsort(feature_importance)[:20]\n",
    "\n",
    "pos = np.arange(sorted_idx.shape[0]) + .5\n",
    "print(pos.size)\n",
    "sorted_idx.size\n",
    "plt.figure(figsize=(8,8))\n",
    "plt.barh(pos, feature_importance[sorted_idx], align='center')\n",
    "plt.yticks(pos, X.columns[sorted_idx])\n",
    "plt.xlabel('Relative Importance')\n",
    "plt.title('Variable Importance')\n",
    "plt.show()"
   ]
  },
  {
   "cell_type": "markdown",
   "id": "26dd2a23",
   "metadata": {},
   "source": [
    "# <font color='orange'>Light GBM</font>"
   ]
  },
  {
   "cell_type": "code",
   "execution_count": null,
   "id": "a7c9ce07",
   "metadata": {},
   "outputs": [],
   "source": [
    "# define the model\n",
    "lgbm = LGBMRegressor(random_state=1234)\n",
    "lgbm.fit(X_train, y_train, early_stopping_rounds=20, eval_set=eval_set)\n",
    "\n",
    "y_pred = lgbm.predict(X_train)\n",
    "print('TRAIN:')\n",
    "print('MAE: ', f\"{mean_absolute_error(y_train, y_pred):,.1f}\")\n",
    "print('MSE: ', f\"{mean_squared_error(y_train, y_pred):,.1f}\")\n",
    "print('RMSE:', f\"{np.sqrt(mean_squared_error(y_train, y_pred)):,.1f}\")\n",
    "print('MAPE: ', f\"{mean_absolute_percentage_error(y_train, y_pred):,.1f}\")\n",
    "train_mae = mean_absolute_error(y_train, y_pred)\n",
    "\n",
    "print(\"\")\n",
    "y_pred = lgbm.predict(X_test)\n",
    "print('TEST:')\n",
    "print('MAE: ', f\"{mean_absolute_error(y_test, y_pred):,.1f}\")\n",
    "print('MSE: ', f\"{mean_squared_error(y_test, y_pred):,.1f}\")\n",
    "print('RMSE:', f\"{np.sqrt(mean_squared_error(y_test, y_pred)):,.1f}\")\n",
    "print('MAPE: ', f\"{mean_absolute_percentage_error(y_test, y_pred):,.1f}\")\n",
    "test_mae = mean_absolute_error(y_test, y_pred)\n",
    "\n",
    "print(\"\")\n",
    "print('MAE DIFF:', f\"{((test_mae / train_mae) - 1):.0%}\")"
   ]
  },
  {
   "cell_type": "code",
   "execution_count": null,
   "id": "21245f08",
   "metadata": {},
   "outputs": [],
   "source": [
    "plt.scatter(y_test, y_pred, c='green', alpha=0.2)\n",
    "plt.xlabel(\"Actual\")\n",
    "plt.ylabel(\"Predicted\")"
   ]
  },
  {
   "cell_type": "code",
   "execution_count": null,
   "id": "79985053",
   "metadata": {},
   "outputs": [],
   "source": [
    "plt.scatter(y_test, y_pred, color = 'green', alpha=0.2)\n",
    "plt.title('Actual Versus Predicted Values')\n",
    "plt.xlabel('Actual')\n",
    "plt.ylabel('Prredicted')\n",
    "plt.xscale(\"log\")\n",
    "plt.yscale(\"log\")\n",
    "plt.show()"
   ]
  },
  {
   "cell_type": "code",
   "execution_count": null,
   "id": "8b7201c3",
   "metadata": {},
   "outputs": [],
   "source": [
    "feature_importance = lgbm.feature_importances_\n",
    "# make importances relative to max importance\n",
    "feature_importance = 100.0 * (feature_importance / feature_importance.max())[:30]\n",
    "sorted_idx = np.argsort(feature_importance)[:20]\n",
    "\n",
    "pos = np.arange(sorted_idx.shape[0]) + .5\n",
    "print(pos.size)\n",
    "sorted_idx.size\n",
    "plt.figure(figsize=(8,8))\n",
    "plt.barh(pos, feature_importance[sorted_idx], align='center')\n",
    "plt.yticks(pos, X.columns[sorted_idx])\n",
    "plt.xlabel('Relative Importance')\n",
    "plt.title('Variable Importance')\n",
    "plt.show()"
   ]
  },
  {
   "cell_type": "markdown",
   "id": "f6ddc250",
   "metadata": {},
   "source": [
    "With this baseline, let's see how we can improve with hyperparameter tuning"
   ]
  },
  {
   "cell_type": "code",
   "execution_count": null,
   "id": "89c31148",
   "metadata": {},
   "outputs": [],
   "source": [
    "param_grid = {\n",
    "    'learning_rate': [0.1, 0.3],\n",
    "    'max_depth': [3, 6, 9],\n",
    "    'n_estimators': [50, 100, 150],\n",
    "    'num_leaves': [10, 30, 50],\n",
    "    'colsample_bytree': [.3, .5, .8]\n",
    "}"
   ]
  },
  {
   "cell_type": "code",
   "execution_count": null,
   "id": "81554c07",
   "metadata": {
    "scrolled": true
   },
   "outputs": [],
   "source": [
    "# %%time\n",
    "# markdown since it takes so long to run\n",
    "# random_search = RandomizedSearchCV(LGBMRegressor(random_state=1234),\n",
    "#                                    param_grid, n_jobs=-1)\n",
    "# random_search.fit(X_train, y_train.values.ravel())\n",
    "# print(random_search.best_estimator_)"
   ]
  },
  {
   "cell_type": "code",
   "execution_count": null,
   "id": "4ea02781",
   "metadata": {},
   "outputs": [],
   "source": [
    "# define the model with hyperparamters from random search\n",
    "lgbm_cv = LGBMRegressor(colsample_bytree=0.5, max_depth=9, n_estimators=150,\n",
    "              num_leaves=30, random_state=1234)\n",
    "lgbm_cv.fit(X_train, y_train, early_stopping_rounds=20, eval_set=eval_set)\n",
    "\n",
    "y_pred = lgbm_cv.predict(X_train)\n",
    "print('TRAIN:')\n",
    "print('MAE: ', f\"{mean_absolute_error(y_train, y_pred):,.1f}\")\n",
    "print('MSE: ', f\"{mean_squared_error(y_train, y_pred):,.1f}\")\n",
    "print('RMSE:', f\"{np.sqrt(mean_squared_error(y_train, y_pred)):,.1f}\")\n",
    "print('MAPE: ', f\"{mean_absolute_percentage_error(y_train, y_pred):,.1f}\")\n",
    "train_mae = mean_absolute_error(y_train, y_pred)\n",
    "\n",
    "print(\"\")\n",
    "y_pred = lgbm_cv.predict(X_test)\n",
    "print('TEST:')\n",
    "print('MAE: ', f\"{mean_absolute_error(y_test, y_pred):,.1f}\")\n",
    "print('MSE: ', f\"{mean_squared_error(y_test, y_pred):,.1f}\")\n",
    "print('RMSE:', f\"{np.sqrt(mean_squared_error(y_test, y_pred)):,.1f}\")\n",
    "print('MAPE: ', f\"{mean_absolute_percentage_error(y_test, y_pred):,.1f}\")\n",
    "test_mae = mean_absolute_error(y_test, y_pred)\n",
    "\n",
    "print(\"\")\n",
    "print('MAE DIFF:', f\"{((test_mae / train_mae) - 1):.0%}\")"
   ]
  },
  {
   "cell_type": "code",
   "execution_count": null,
   "id": "f022bc9a",
   "metadata": {},
   "outputs": [],
   "source": [
    "plt.scatter(y_test, y_pred, c='green', alpha=0.2)\n",
    "plt.xlabel(\"Actual\")\n",
    "plt.ylabel(\"Predicted\")"
   ]
  },
  {
   "cell_type": "code",
   "execution_count": null,
   "id": "0c080482",
   "metadata": {},
   "outputs": [],
   "source": [
    "plt.scatter(y_test, y_pred, color = 'green', alpha=0.2)\n",
    "plt.title('Actual Versus Predicted Values')\n",
    "plt.xlabel('Actual')\n",
    "plt.ylabel('Prredicted')\n",
    "plt.xscale(\"log\")\n",
    "plt.yscale(\"log\")\n",
    "plt.show()"
   ]
  },
  {
   "cell_type": "code",
   "execution_count": null,
   "id": "da16dbbd",
   "metadata": {},
   "outputs": [],
   "source": [
    "feature_importance = lgbm_cv.feature_importances_\n",
    "# make importances relative to max importance\n",
    "feature_importance = 100.0 * (feature_importance / feature_importance.max())[:30]\n",
    "sorted_idx = np.argsort(feature_importance)[:20]\n",
    "\n",
    "pos = np.arange(sorted_idx.shape[0]) + .5\n",
    "print(pos.size)\n",
    "sorted_idx.size\n",
    "plt.figure(figsize=(8,8))\n",
    "plt.barh(pos, feature_importance[sorted_idx], align='center')\n",
    "plt.yticks(pos, X.columns[sorted_idx])\n",
    "plt.xlabel('Relative Importance')\n",
    "plt.title('Variable Importance')\n",
    "plt.show()"
   ]
  },
  {
   "cell_type": "code",
   "execution_count": null,
   "id": "817eef10",
   "metadata": {},
   "outputs": [],
   "source": []
  },
  {
   "cell_type": "markdown",
   "id": "7c445705",
   "metadata": {},
   "source": [
    "# <font color='orange'>XGBoost</font>\n"
   ]
  },
  {
   "cell_type": "code",
   "execution_count": null,
   "id": "e326a06d",
   "metadata": {},
   "outputs": [],
   "source": [
    "# define the model\n",
    "xgbr = XGBRegressor(random_state=1234, early_stopping_rounds=20)\n",
    "xgbr.fit(X_train, y_train, eval_set=eval_set)\n",
    "\n",
    "y_pred = xgbr.predict(X_train)\n",
    "print('TRAIN:')\n",
    "print('MAE: ', f\"{mean_absolute_error(y_train, y_pred):,.1f}\")\n",
    "print('MSE: ', f\"{mean_squared_error(y_train, y_pred):,.1f}\")\n",
    "print('RMSE:', f\"{np.sqrt(mean_squared_error(y_train, y_pred)):,.1f}\")\n",
    "print('MAPE: ', f\"{mean_absolute_percentage_error(y_train, y_pred):,.1f}\")\n",
    "train_mae = mean_absolute_error(y_train, y_pred)\n",
    "\n",
    "print(\"\")\n",
    "y_pred = xgbr.predict(X_test)\n",
    "print('TEST:')\n",
    "print('MAE: ', f\"{mean_absolute_error(y_test, y_pred):,.1f}\")\n",
    "print('MSE: ', f\"{mean_squared_error(y_test, y_pred):,.1f}\")\n",
    "print('RMSE:', f\"{np.sqrt(mean_squared_error(y_test, y_pred)):,.1f}\")\n",
    "print('MAPE: ', f\"{mean_absolute_percentage_error(y_test, y_pred):,.1f}\")\n",
    "test_mae = mean_absolute_error(y_test, y_pred)\n",
    "\n",
    "print(\"\")\n",
    "print('MAE DIFF:', f\"{((test_mae / train_mae) - 1):.0%}\")"
   ]
  },
  {
   "cell_type": "code",
   "execution_count": null,
   "id": "714e7020",
   "metadata": {
    "scrolled": true
   },
   "outputs": [],
   "source": [
    "plt.scatter(y_test, y_pred, c='green', alpha=0.2)\n",
    "plt.xlabel(\"Actual\")\n",
    "plt.ylabel(\"Predicted\");"
   ]
  },
  {
   "cell_type": "code",
   "execution_count": null,
   "id": "38f143be",
   "metadata": {},
   "outputs": [],
   "source": [
    "plt.scatter(y_test, y_pred, color = 'green', alpha=0.2)\n",
    "plt.title('Actual Versus Predicted Values')\n",
    "plt.xlabel('Actual')\n",
    "plt.ylabel('Prredicted')\n",
    "plt.xscale(\"log\")\n",
    "plt.yscale(\"log\")\n",
    "plt.show();"
   ]
  },
  {
   "cell_type": "code",
   "execution_count": null,
   "id": "270b0ea8",
   "metadata": {},
   "outputs": [],
   "source": [
    "feature_importance = xgbr.feature_importances_\n",
    "# make importances relative to max importance\n",
    "feature_importance = 100.0 * (feature_importance / feature_importance.max())[:30]\n",
    "sorted_idx = np.argsort(feature_importance)[:20]\n",
    "\n",
    "pos = np.arange(sorted_idx.shape[0]) + .5\n",
    "print(pos.size)\n",
    "sorted_idx.size\n",
    "plt.figure(figsize=(8,8))\n",
    "plt.barh(pos, feature_importance[sorted_idx], align='center')\n",
    "plt.yticks(pos, X.columns[sorted_idx])\n",
    "plt.xlabel('Relative Importance')\n",
    "plt.title('Variable Importance')\n",
    "plt.show()"
   ]
  },
  {
   "cell_type": "code",
   "execution_count": null,
   "id": "3fbb343e",
   "metadata": {},
   "outputs": [],
   "source": [
    "param_grid = {\n",
    "    'learning_rate': [0.1, 0.3],\n",
    "    'max_depth': [3, 6, 9],\n",
    "    'n_estimators': [50, 100, 150],\n",
    "    'colsample_bytree': [.3, .5, .8],\n",
    "    'subsample': [.3, .5, .8]\n",
    "}"
   ]
  },
  {
   "cell_type": "code",
   "execution_count": null,
   "id": "dd4b833c",
   "metadata": {},
   "outputs": [],
   "source": [
    "# %%time\n",
    "# markdown since it takes so long to run\n",
    "# random_search = RandomizedSearchCV(XGBRegressor(random_state=1234),\n",
    "#                                    param_grid, n_jobs=-1)\n",
    "# random_search.fit(X_train, y_train.values.ravel(), eval_set=eval_set)\n",
    "# print(random_search.best_estimator_)"
   ]
  },
  {
   "cell_type": "code",
   "execution_count": null,
   "id": "4af468f3",
   "metadata": {
    "scrolled": false
   },
   "outputs": [],
   "source": [
    "# define the model\n",
    "xgbr_cv = XGBRegressor(random_state=1234,\n",
    "                       learning_rate=0.1, \n",
    "                       max_depth=6, \n",
    "                       n_estimators=150,\n",
    "                       colsample_bytree=.8,\n",
    "                       subsample=.8)\n",
    "\n",
    "xgbr_cv.fit(X_train, y_train, eval_set=eval_set)\n",
    "\n",
    "y_pred = xgbr_cv.predict(X_train)\n",
    "print('TRAIN:')\n",
    "print('MAE: ', f\"{mean_absolute_error(y_train, y_pred):,.1f}\")\n",
    "print('MSE: ', f\"{mean_squared_error(y_train, y_pred):,.1f}\")\n",
    "print('RMSE:', f\"{np.sqrt(mean_squared_error(y_train, y_pred)):,.1f}\")\n",
    "print('MAPE: ', f\"{mean_absolute_percentage_error(y_train, y_pred):,.1f}\")\n",
    "train_mae = mean_absolute_error(y_train, y_pred)\n",
    "\n",
    "print(\"\")\n",
    "y_pred = xgbr_cv.predict(X_test)\n",
    "print('TEST:')\n",
    "print('MAE: ', f\"{mean_absolute_error(y_test, y_pred):,.1f}\")\n",
    "print('MSE: ', f\"{mean_squared_error(y_test, y_pred):,.1f}\")\n",
    "print('RMSE:', f\"{np.sqrt(mean_squared_error(y_test, y_pred)):,.1f}\")\n",
    "print('MAPE: ', f\"{mean_absolute_percentage_error(y_test, y_pred):,.1f}\")\n",
    "test_mae = mean_absolute_error(y_test, y_pred)\n",
    "\n",
    "print(\"\")\n",
    "print('MAE DIFF:', f\"{((test_mae / train_mae) - 1):.0%}\")"
   ]
  },
  {
   "cell_type": "code",
   "execution_count": null,
   "id": "3bfaa156",
   "metadata": {},
   "outputs": [],
   "source": [
    "plt.scatter(y_test, y_pred, c='green', alpha=0.2)\n",
    "plt.xlabel(\"Actual\")\n",
    "plt.ylabel(\"Predicted\");"
   ]
  },
  {
   "cell_type": "code",
   "execution_count": null,
   "id": "b831af74",
   "metadata": {},
   "outputs": [],
   "source": [
    "plt.scatter(y_test, y_pred, color = 'green', alpha=0.2)\n",
    "plt.title('Actual Versus Predicted Values')\n",
    "plt.xlabel('Actual')\n",
    "plt.ylabel('Prredicted')\n",
    "plt.xscale(\"log\")\n",
    "plt.yscale(\"log\")\n",
    "plt.show();"
   ]
  },
  {
   "cell_type": "code",
   "execution_count": null,
   "id": "4b525966",
   "metadata": {},
   "outputs": [],
   "source": [
    "feature_importance = xgbr_cv.feature_importances_\n",
    "# make importances relative to max importance\n",
    "feature_importance = 100.0 * (feature_importance / feature_importance.max())[:30]\n",
    "sorted_idx = np.argsort(feature_importance)[:20]\n",
    "\n",
    "pos = np.arange(sorted_idx.shape[0]) + .5\n",
    "print(pos.size)\n",
    "sorted_idx.size\n",
    "plt.figure(figsize=(8,8))\n",
    "plt.barh(pos, feature_importance[sorted_idx], align='center')\n",
    "plt.yticks(pos, X.columns[sorted_idx])\n",
    "plt.xlabel('Relative Importance')\n",
    "plt.title('Variable Importance')\n",
    "plt.show()"
   ]
  },
  {
   "cell_type": "code",
   "execution_count": null,
   "id": "e18fbd38",
   "metadata": {},
   "outputs": [],
   "source": []
  },
  {
   "cell_type": "markdown",
   "id": "b1c70009",
   "metadata": {},
   "source": [
    "# <font color='orange'>Tweedie Regression</font>\n"
   ]
  },
  {
   "cell_type": "markdown",
   "id": "31f33d4b",
   "metadata": {},
   "source": [
    "Steps:\n",
    "- Note: filter out claims with zero amount, as the severity model requires strictly positive target values.\n",
    "- Correct for unreasonable observations (that might be data error) and a few exceptionally large claim amounts\n",
    "    "
   ]
  },
  {
   "cell_type": "code",
   "execution_count": null,
   "id": "e98a56d4",
   "metadata": {},
   "outputs": [],
   "source": [
    "# load the data - this dataset has the zeroes eliminated\n",
    "### comment out since current run doesn't contain any zeroes nor outliers\n",
    "# X_train = pd.read_parquet(\"../Data/X_train_td.pqt\")\n",
    "# X_test = pd.read_parquet(\"../Data/X_test_td.pqt\")\n",
    "# y_train = pd.read_parquet(\"../Data/y_train_td.pqt\") \n",
    "# y_test = pd.read_parquet(\"../Data/y_test_td.pqt\")\n",
    "\n",
    "# X = pd.concat([X_train, X_test])\n",
    "# y = pd.concat([y_train, y_test])"
   ]
  },
  {
   "cell_type": "code",
   "execution_count": null,
   "id": "03906734",
   "metadata": {},
   "outputs": [],
   "source": [
    "# tdrg = linear_model.TweedieRegressor(max_iter=500)\n",
    "tdrg = TweedieRegressor(max_iter=500)\n",
    "tdrg.fit(X_train, y_train.values.ravel())\n",
    "# make predictions for test data\n",
    "y_pred = tdrg.predict(X_train)\n",
    "print('TRAIN:')\n",
    "print('MAE: ', f\"{mean_absolute_error(y_train, y_pred):,.1f}\")\n",
    "print('MSE: ', f\"{mean_squared_error(y_train, y_pred):,.1f}\")\n",
    "print('RMSE:', f\"{np.sqrt(mean_squared_error(y_train, y_pred)):,.1f}\")\n",
    "print('MAPE: ', f\"{mean_absolute_percentage_error(y_train, y_pred):,.1f}\")\n",
    "train_mae = mean_absolute_error(y_train, y_pred)\n",
    "#train_rmse = np.sqrt(mean_squared_error(y_train, y_pred))\n",
    "\n",
    "print(\"\")\n",
    "y_pred = tdrg.predict(X_test)\n",
    "print('TEST:')\n",
    "print('MAE: ', f\"{mean_absolute_error(y_test, y_pred):,.1f}\")\n",
    "print('MSE: ', f\"{mean_squared_error(y_test, y_pred):,.1f}\")\n",
    "print('RMSE:', f\"{np.sqrt(mean_squared_error(y_test, y_pred)):,.1f}\")\n",
    "print('MAPE: ', f\"{mean_absolute_percentage_error(y_test, y_pred):,.1f}\")\n",
    "test_mae = mean_absolute_error(y_test, y_pred)\n",
    "#test_rmse = np.sqrt(mean_squared_error(y_train, y_pred))\n",
    "\n",
    "print(\"\")\n",
    "print('MAE DIFF:', f\"{((test_mae / train_mae) - 1):.0%}\")\n",
    "#print('RMSE DIFF:', f\"{((test_rmse / train_rmse) - 1):.0%}\")"
   ]
  },
  {
   "cell_type": "code",
   "execution_count": null,
   "id": "d0c2f8d2",
   "metadata": {},
   "outputs": [],
   "source": [
    "plt.scatter(y_test, y_pred, c='green', alpha=0.2)\n",
    "plt.xlabel(\"Actual\")\n",
    "plt.ylabel(\"Predicted\")"
   ]
  },
  {
   "cell_type": "code",
   "execution_count": null,
   "id": "9eb14e1a",
   "metadata": {
    "scrolled": true
   },
   "outputs": [],
   "source": [
    "plt.scatter(y_test, y_pred, color = 'green', alpha=0.2)\n",
    "plt.title('Actual Versus Predicted Values')\n",
    "plt.xlabel('Actual')\n",
    "plt.ylabel('Prredicted')\n",
    "plt.xscale(\"log\")\n",
    "plt.yscale(\"log\")\n",
    "plt.show()"
   ]
  },
  {
   "cell_type": "code",
   "execution_count": null,
   "id": "44a37ad6",
   "metadata": {},
   "outputs": [],
   "source": [
    "param_grid = {\n",
    "    'power': [0, 1, 2, 3],\n",
    "    'max_iter': [50, 100, 150, 200, 250, 500, 1000, 1500]\n",
    "}"
   ]
  },
  {
   "cell_type": "code",
   "execution_count": null,
   "id": "83ccbc24",
   "metadata": {},
   "outputs": [],
   "source": [
    "# %time\n",
    "# markdown since it takes so long to run\n",
    "# random_search = RandomizedSearchCV(linear_model.TweedieRegressor(),\n",
    "#                                    param_grid, n_jobs=-1)\n",
    "# random_search.fit(X_train, y_train.values.ravel())\n",
    "# print(random_search.best_estimator_)"
   ]
  },
  {
   "cell_type": "code",
   "execution_count": null,
   "id": "5edd5e7f",
   "metadata": {},
   "outputs": [],
   "source": [
    "#tdrg_cv = TweedieRegressor(link='log', power=3, max_iter=50)\n",
    "# tdrg = linear_model.TweedieRegressor(max_iter=500)\n",
    "tdrg_cv = TweedieRegressor(link='log', power=1, max_iter=50)\n",
    "tdrg_cv.fit(X_train, y_train.values.ravel())\n",
    "\n",
    "# make predictions for test data\n",
    "y_pred = tdrg_cv.predict(X_train)\n",
    "print('TRAIN:')\n",
    "print('MAE: ', f\"{mean_absolute_error(y_train, y_pred):,.1f}\")\n",
    "print('MSE: ', f\"{mean_squared_error(y_train, y_pred):,.1f}\")\n",
    "print('RMSE:', f\"{np.sqrt(mean_squared_error(y_train, y_pred)):,.1f}\")\n",
    "print('MAPE: ', f\"{mean_absolute_percentage_error(y_train, y_pred):,.1f}\")\n",
    "train_mae = mean_absolute_error(y_train, y_pred)\n",
    "#train_rmse = np.sqrt(mean_squared_error(y_train, y_pred))\n",
    "\n",
    "print(\"\")\n",
    "y_pred = tdrg_cv.predict(X_test)\n",
    "print('TEST:')\n",
    "print('MAE: ', f\"{mean_absolute_error(y_test, y_pred):,.1f}\")\n",
    "print('MSE: ', f\"{mean_squared_error(y_test, y_pred):,.1f}\")\n",
    "print('RMSE:', f\"{np.sqrt(mean_squared_error(y_test, y_pred)):,.1f}\")\n",
    "print('MAPE: ', f\"{mean_absolute_percentage_error(y_test, y_pred):,.1f}\")\n",
    "test_mae = mean_absolute_error(y_test, y_pred)\n",
    "#test_rmse = np.sqrt(mean_squared_error(y_train, y_pred))\n",
    "\n",
    "print(\"\")\n",
    "print('MAE DIFF:', f\"{((test_mae / train_mae) - 1):.0%}\")\n",
    "#print('RMSE DIFF:', f\"{((test_rmse / train_rmse) - 1):.0%}\")"
   ]
  },
  {
   "cell_type": "code",
   "execution_count": null,
   "id": "61049f35",
   "metadata": {},
   "outputs": [],
   "source": [
    "plt.scatter(y_test, y_pred, c='green', alpha=0.2)\n",
    "plt.xlabel(\"Actual\")\n",
    "plt.ylabel(\"Predicted\")"
   ]
  },
  {
   "cell_type": "code",
   "execution_count": null,
   "id": "be5b4228",
   "metadata": {
    "scrolled": true
   },
   "outputs": [],
   "source": [
    "plt.scatter(y_test, y_pred, color = 'green', alpha=0.2)\n",
    "plt.title('Actual Versus Predicted Values')\n",
    "plt.xlabel('Actual')\n",
    "plt.ylabel('Prredicted')\n",
    "plt.xscale(\"log\")\n",
    "plt.yscale(\"log\")\n",
    "plt.show()"
   ]
  },
  {
   "cell_type": "code",
   "execution_count": null,
   "id": "1f8e849c",
   "metadata": {},
   "outputs": [],
   "source": []
  },
  {
   "cell_type": "code",
   "execution_count": null,
   "id": "218ef1d9",
   "metadata": {},
   "outputs": [],
   "source": []
  },
  {
   "cell_type": "markdown",
   "id": "2da0cc51",
   "metadata": {},
   "source": [
    "# check if resetting index changes any of these scores"
   ]
  },
  {
   "cell_type": "code",
   "execution_count": null,
   "id": "a5020dc5",
   "metadata": {},
   "outputs": [],
   "source": []
  },
  {
   "cell_type": "code",
   "execution_count": null,
   "id": "e0e82f39",
   "metadata": {},
   "outputs": [],
   "source": []
  },
  {
   "cell_type": "code",
   "execution_count": null,
   "id": "bfb18f47",
   "metadata": {},
   "outputs": [],
   "source": []
  },
  {
   "cell_type": "markdown",
   "id": "4e81dea1",
   "metadata": {},
   "source": [
    "##  <font color='red'>Scratch</font>\n"
   ]
  },
  {
   "cell_type": "markdown",
   "id": "d5f463e4",
   "metadata": {},
   "source": [
    "## WORKING, MARKDOWN UNTIL FINAL\n"
   ]
  },
  {
   "cell_type": "code",
   "execution_count": null,
   "id": "e6a256d4",
   "metadata": {},
   "outputs": [],
   "source": []
  },
  {
   "cell_type": "code",
   "execution_count": null,
   "id": "6f624b5d",
   "metadata": {},
   "outputs": [],
   "source": []
  },
  {
   "cell_type": "code",
   "execution_count": null,
   "id": "29d87fb0",
   "metadata": {},
   "outputs": [],
   "source": []
  },
  {
   "cell_type": "markdown",
   "id": "4fb25dd9",
   "metadata": {},
   "source": [
    "for dimensionality reduction:\n",
    "    lasso, ridge"
   ]
  },
  {
   "cell_type": "code",
   "execution_count": null,
   "id": "792925a3",
   "metadata": {},
   "outputs": [],
   "source": []
  }
 ],
 "metadata": {
  "kernelspec": {
   "display_name": "Python 3 (ipykernel)",
   "language": "python",
   "name": "python3"
  },
  "language_info": {
   "codemirror_mode": {
    "name": "ipython",
    "version": 3
   },
   "file_extension": ".py",
   "mimetype": "text/x-python",
   "name": "python",
   "nbconvert_exporter": "python",
   "pygments_lexer": "ipython3",
   "version": "3.9.12"
  }
 },
 "nbformat": 4,
 "nbformat_minor": 5
}
