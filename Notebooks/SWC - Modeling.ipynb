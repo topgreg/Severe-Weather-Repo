{
 "cells": [
  {
   "cell_type": "markdown",
   "id": "a4102f31",
   "metadata": {},
   "source": [
    "# Severe Weather - Modeling\n",
    "\n",
    "Greg Welliver   "
   ]
  },
  {
   "cell_type": "code",
   "execution_count": 1,
   "id": "ba529c28",
   "metadata": {},
   "outputs": [],
   "source": [
    "# Import relevant libraries and packages.\n",
    "import numpy as np \n",
    "import pandas as pd \n",
    "import matplotlib.pyplot as plt\n",
    "from matplotlib import rc\n",
    "import matplotlib.ticker as plticker\n",
    "import seaborn as sns\n",
    "sns.set()\n",
    "from sklearn.metrics import mean_squared_error, r2_score\n",
    "from sklearn.model_selection import train_test_split\n",
    "from sklearn import linear_model, preprocessing \n",
    "import warnings\n",
    "from scipy import stats\n",
    "import matplotlib as mpl\n",
    "import matplotlib.cm as cm\n",
    "from matplotlib.colors import ListedColormap\n",
    "import lightgbm as lgb\n",
    "from lightgbm import LGBMRegressor\n",
    "from numpy import mean\n",
    "from numpy import std\n",
    "from functools import partial\n",
    "%matplotlib inline\n",
    "from sklearn.linear_model import GammaRegressor\n",
    "\n",
    "\n",
    "import statsmodels.api as sm\n",
    "from statsmodels.graphics.api import abline_plot\n",
    "from scipy import stats\n",
    "\n",
    "from sklearn.datasets import fetch_openml\n",
    "from sklearn import linear_model, preprocessing, tree, svm, datasets, metrics\n",
    "from sklearn.metrics import accuracy_score, classification_report, confusion_matrix, roc_curve, roc_auc_score, auc, mean_squared_error, mean_absolute_error, mean_absolute_percentage_error, r2_score, f1_score, log_loss\n",
    "from sklearn.metrics import ConfusionMatrixDisplay\n",
    "from sklearn.metrics import precision_recall_fscore_support as score\n",
    "from sklearn.metrics import classification_report\n",
    "from sklearn.metrics import confusion_matrix\n",
    "from sklearn.metrics import precision_recall_curve\n",
    "\n",
    "from sklearn.ensemble import RandomForestClassifier\n",
    "from sklearn.ensemble import RandomForestRegressor\n",
    "from sklearn.ensemble import GradientBoostingClassifier\n",
    "from sklearn.ensemble import VotingClassifier\n",
    "from sklearn.ensemble import ExtraTreesRegressor\n",
    "from sklearn.linear_model import LogisticRegression\n",
    "from sklearn.naive_bayes import GaussianNB\n",
    "from sklearn.tree import DecisionTreeClassifier\n",
    "from sklearn.tree import export_graphviz\n",
    "\n",
    "from sklearn.svm import SVC\n",
    "from sklearn.neighbors import KNeighborsClassifier\n",
    "from sklearn.preprocessing import OneHotEncoder as OHE\n",
    "import sklearn.model_selection\n",
    "from sklearn.model_selection import train_test_split\n",
    "from sklearn.model_selection import KFold\n",
    "from sklearn.model_selection import GridSearchCV, RandomizedSearchCV\n",
    "from sklearn.experimental import enable_iterative_imputer\n",
    "from sklearn.impute import IterativeImputer\n",
    "from sklearn.model_selection import cross_val_score\n",
    "from sklearn.model_selection import RepeatedKFold\n",
    "\n",
    "import xgboost\n",
    "from xgboost import XGBClassifier\n",
    "from xgboost import XGBRegressor\n",
    "import warnings\n",
    "from subprocess import call\n",
    "from IPython.display import Image\n",
    "from datetime import datetime, timedelta, date\n",
    "import os\n",
    "import plotly.graph_objects as go\n",
    "import itertools\n",
    "from io import StringIO  \n",
    "import pydotplus\n",
    "\n",
    "# Seaborn settings\n",
    "sns.set_context('notebook')\n",
    "#sns.set_style(\"whitegrid\")\n",
    "#sns.set_style(\"white\")\n",
    "style_set = sns.set_style('whitegrid')\n",
    "pd.options.display.float_format = '{:,}'.format\n",
    "color_choice1 = 'plum'\n",
    "color_choice2 = 'lightblue'\n",
    "color_choice3 = 'lightgreen'\n",
    "#ax.yaxis.set_major_formatter('{x:,.0f}')\n",
    "#sns.set_context('notebook', font_scale = 4)\n",
    "\n",
    "\n",
    "%matplotlib inline\n",
    "import pandas as pd\n",
    "#from mpl_toolkits.basemap import Basemap\n",
    "\n",
    "\n",
    "import geopandas as gpd\n",
    "from shapely.geometry import Point, Polygon\n",
    "import contextily as ctx\n",
    "\n",
    "from sklearn.feature_extraction.text import CountVectorizer"
   ]
  },
  {
   "cell_type": "markdown",
   "id": "fbf95157",
   "metadata": {},
   "source": [
    "## Load the data\n",
    "\n"
   ]
  },
  {
   "cell_type": "code",
   "execution_count": 2,
   "id": "892bc82a",
   "metadata": {},
   "outputs": [],
   "source": [
    "# load the data\n",
    "X_train = pd.read_parquet(\"../Data/X_train.pqt\")\n",
    "X_test = pd.read_parquet(\"../Data/X_test.pqt\")\n",
    "y_train = pd.read_parquet(\"../Data/y_train.pqt\") \n",
    "y_test = pd.read_parquet(\"../Data/y_test.pqt\")\n",
    "\n",
    "X = pd.concat([X_train, X_test])\n",
    "y = pd.concat([y_train, y_test])\n",
    "\n",
    "# , index_col =[0]\n",
    "# load data\n",
    "#df = pd.read_parquet(\"../Data/all_storm_data11.pqt\")\n",
    "#df = pd.read_csv(\"../Data/all_storm_data4.csv\")"
   ]
  },
  {
   "cell_type": "code",
   "execution_count": 3,
   "id": "3e9f0015",
   "metadata": {},
   "outputs": [],
   "source": [
    "# X_train = X_train.dropna(axis=0)\n",
    "# X_test = X_test.dropna(axis=0)\n",
    "# y_train = y_train.dropna(axis=0)\n",
    "# y_test = y_test.dropna(axis=0)\n",
    "# X_train = X_train.dropna(axis=0).reset_index()\n",
    "# X_test = X_test.dropna(axis=0).reset_index()\n",
    "# y_train = y_train.dropna(axis=0).reset_index()\n",
    "# y_test = y_test.dropna(axis=0).reset_index()\n"
   ]
  },
  {
   "cell_type": "markdown",
   "id": "144456bd",
   "metadata": {},
   "source": [
    "## Property Damage Mean and Median\n",
    "\n",
    "- without removal of outliers and zeroes:\n",
    "mean      93,051.5\n",
    "median 0\n",
    "\n",
    "- after removing all zeroes:\n",
    "mean    1,527,410.3\n",
    "median 8000.0\n",
    "\n",
    "- after removing all zeroes and 513 outliers:\n",
    "mean 312800.4221712737\n",
    "median 8000.0\n",
    "\n",
    "\n"
   ]
  },
  {
   "cell_type": "code",
   "execution_count": null,
   "id": "cf861c18",
   "metadata": {},
   "outputs": [],
   "source": []
  },
  {
   "cell_type": "code",
   "execution_count": null,
   "id": "3dac591e",
   "metadata": {},
   "outputs": [],
   "source": []
  },
  {
   "cell_type": "markdown",
   "id": "9af4b85f",
   "metadata": {},
   "source": [
    "# <font color='orange'>Random Forest Model</font>\n"
   ]
  },
  {
   "cell_type": "code",
   "execution_count": null,
   "id": "5f2756b4",
   "metadata": {},
   "outputs": [],
   "source": [
    "original come back to this one\n",
    "# set the parameter grid\n",
    "param_grid = {\n",
    "    'n_estimators': [25, 50, 100, 150, 200],\n",
    "    'max_features': ['auto', 'sqrt', 'log2', None],\n",
    "    'max_depth': [3, 6, 9],\n",
    "    'max_leaf_nodes': [3, 6, 9],\n",
    "    'criterion': ['mse', 'mae', 'rmse']\n",
    "}"
   ]
  },
  {
   "cell_type": "code",
   "execution_count": 7,
   "id": "1b3f58b8",
   "metadata": {},
   "outputs": [
    {
     "name": "stderr",
     "output_type": "stream",
     "text": [
      "/Users/gregwelliver/opt/anaconda3/lib/python3.9/site-packages/sklearn/model_selection/_search.py:292: UserWarning: The total space of parameters 8 is smaller than n_iter=10. Running 8 iterations. For exhaustive searches, use GridSearchCV.\n",
      "  warnings.warn(\n"
     ]
    },
    {
     "name": "stdout",
     "output_type": "stream",
     "text": [
      "RandomForestRegressor(max_depth=6, n_estimators=25, random_state=1234)\n"
     ]
    }
   ],
   "source": [
    "#markdown since it takes so long to run\n",
    "random_search = RandomizedSearchCV(RandomForestRegressor(random_state=1234),\n",
    "                                   param_grid, n_jobs=-1)\n",
    "random_search.fit(X_train, y_train.values.ravel())\n",
    "print(random_search.best_estimator_)"
   ]
  },
  {
   "cell_type": "markdown",
   "id": "70325fc9",
   "metadata": {},
   "source": [
    "output: \n",
    "RandomForestRegressor(max_depth=3, max_features='log2', max_leaf_nodes=3,\n",
    "                      n_estimators=150, random_state=1234)"
   ]
  },
  {
   "cell_type": "code",
   "execution_count": 23,
   "id": "1ebf9c8c",
   "metadata": {},
   "outputs": [
    {
     "name": "stdout",
     "output_type": "stream",
     "text": [
      "TRAIN:\n",
      "MAE:  110,943.5\n",
      "MSE:  1,728,996,583,836.1\n",
      "RMSE: 1,314,913.1\n",
      "MAPE:  169,699,567,595,803,148,288.0\n",
      "\n",
      "TEST:\n",
      "MAE:  121,844.4\n",
      "MSE:  2,207,169,067,750.8\n",
      "RMSE: 1,485,654.4\n",
      "MAPE:  174,664,385,645,626,064,896.0\n",
      "\n",
      "MAE DIFF: 10%\n"
     ]
    }
   ],
   "source": [
    "rf_reg = RandomForestRegressor(**random_search.best_params_, random_state=1234)\n",
    "rf_reg.fit(X_train, y_train.values.ravel())\n",
    "\n",
    "y_pred = rf_reg.predict(X_train)\n",
    "print('TRAIN:')\n",
    "print('MAE: ', f\"{mean_absolute_error(y_train, y_pred):,.1f}\")\n",
    "print('MSE: ', f\"{mean_squared_error(y_train, y_pred):,.1f}\")\n",
    "print('RMSE:', f\"{np.sqrt(mean_squared_error(y_train, y_pred)):,.1f}\")\n",
    "print('MAPE: ', f\"{mean_absolute_percentage_error(y_train, y_pred):,.1f}\")\n",
    "train_mae = mean_absolute_error(y_train, y_pred)\n",
    "\n",
    "print(\"\")\n",
    "y_pred = rf_reg.predict(X_test)\n",
    "print('TEST:')\n",
    "print('MAE: ', f\"{mean_absolute_error(y_test, y_pred):,.1f}\")\n",
    "print('MSE: ', f\"{mean_squared_error(y_test, y_pred):,.1f}\")\n",
    "print('RMSE:', f\"{np.sqrt(mean_squared_error(y_test, y_pred)):,.1f}\")\n",
    "print('MAPE: ', f\"{mean_absolute_percentage_error(y_test, y_pred):,.1f}\")\n",
    "test_mae = mean_absolute_error(y_test, y_pred)\n",
    "\n",
    "print(\"\")\n",
    "print('MAE DIFF:', f\"{((test_mae / train_mae) - 1):.0%}\")"
   ]
  },
  {
   "cell_type": "markdown",
   "id": "ff426929",
   "metadata": {},
   "source": [
    "First run of model scores:\n",
    "- MAE:  382342.13392639376\n",
    "- MSE:  433806680086561.1\n",
    "- RMSE: 20828026.312796928"
   ]
  },
  {
   "cell_type": "markdown",
   "id": "20ff3981",
   "metadata": {},
   "source": [
    "Run scores after removing all zeroes:\n",
    "- MAE:  1058028.2120366283\n",
    "- MSE:  282319113846858.0\n",
    "- RMSE: 16802354.41379743"
   ]
  },
  {
   "cell_type": "markdown",
   "id": "fbe1c602",
   "metadata": {},
   "source": [
    "Run scores after removing all zeros & top 100 property damage:\n",
    "- MAE:  672445.1295545553\n",
    "- MSE:  62743486924408.66\n",
    "- RMSE: 7921078.64652338\n",
    "\n"
   ]
  },
  {
   "cell_type": "markdown",
   "id": "201934d9",
   "metadata": {},
   "source": [
    "Run scores after removing all zeros & top 513 property damage:\n",
    "- MAE:  360790.7620309122\n",
    "- MSE:  6576707506908.43\n",
    "- RMSE: 2564509.213652474"
   ]
  },
  {
   "cell_type": "markdown",
   "id": "314fcfe1",
   "metadata": {},
   "source": [
    "Run scores after removing top 513 property damage, but keeping zeros:\n",
    "- MAE:  128216.0747687478\n",
    "- MSE:  2368120587705.116\n",
    "- RMSE: 1538869.9060366072\n",
    "\n",
    "\n",
    "#### This is the best performing model thus far"
   ]
  },
  {
   "cell_type": "markdown",
   "id": "556c7b68",
   "metadata": {},
   "source": [
    "## Now try removing some features"
   ]
  },
  {
   "cell_type": "markdown",
   "id": "e651ea94",
   "metadata": {},
   "source": [
    "Run scores after removing top 513 property damage, but keeping zeros, also removed BEGIN_TIME and STATE:\n",
    "- MAE:  126899.99535687851\n",
    "- MSE:  2353421245122.234\n",
    "- RMSE: 1534086.4529491921\n"
   ]
  },
  {
   "cell_type": "markdown",
   "id": "6ccd41f3",
   "metadata": {},
   "source": [
    "Run scores after removing top 513 property damage, but keeping zeros, also removed BEGIN_TIME and STATE, POPULATION:\n",
    "- MAE:  127842.28097925895\n",
    "- MSE:  2309709183925.319\n",
    "- RMSE: 1519772.7408811222\n",
    "\n"
   ]
  },
  {
   "cell_type": "markdown",
   "id": "33a38ca4",
   "metadata": {},
   "source": [
    "Run scores after removing top 513 property damage, but keeping zeros, also removed BEGIN_TIME and STATE, POPULATION, DEATHS_INDIRECT:\n",
    "\n",
    "- MAE:  127555.39336944176\n",
    "- MSE:  2307306723659.416\n",
    "- RMSE: 1518982.1340817066\n",
    "\n",
    "#### This is the best performing model thus far"
   ]
  },
  {
   "cell_type": "markdown",
   "id": "42a60884",
   "metadata": {},
   "source": [
    "## double check if this data is all storms, and or just severe storms"
   ]
  },
  {
   "cell_type": "markdown",
   "id": "eb6fc7af",
   "metadata": {},
   "source": [
    "## question -  do principal components analysis? other ways to eliminate variables faster?"
   ]
  },
  {
   "cell_type": "markdown",
   "id": "cc8d05ad",
   "metadata": {},
   "source": [
    "## question -  how think about these scores?"
   ]
  },
  {
   "cell_type": "markdown",
   "id": "089ada97",
   "metadata": {},
   "source": [
    "## question - hyperparameter tuning - how do you know which parameters are important to tune, which aren't?"
   ]
  },
  {
   "cell_type": "code",
   "execution_count": null,
   "id": "ae09aa08",
   "metadata": {},
   "outputs": [],
   "source": [
    "plt.scatter(y_test, y_pred, color = 'blue', alpha=0.2)\n",
    "plt.title('Actual Versus Predicted Values')\n",
    "plt.xlabel('Actual')\n",
    "plt.ylabel('Prredicted')\n",
    "plt.show() "
   ]
  },
  {
   "cell_type": "markdown",
   "id": "eef3023e",
   "metadata": {},
   "source": [
    "Plot on logarithmic scale"
   ]
  },
  {
   "cell_type": "code",
   "execution_count": null,
   "id": "b21f767a",
   "metadata": {},
   "outputs": [],
   "source": [
    "plt.scatter(y_test, y_pred, color = 'blue', alpha=0.2)\n",
    "plt.title('Actual Versus Predicted Values')\n",
    "plt.xlabel('Actual')\n",
    "plt.ylabel('Prredicted')\n",
    "plt.xscale(\"log\")\n",
    "plt.yscale(\"log\")\n",
    "plt.show()"
   ]
  },
  {
   "cell_type": "code",
   "execution_count": null,
   "id": "94379d50",
   "metadata": {},
   "outputs": [],
   "source": []
  },
  {
   "cell_type": "code",
   "execution_count": null,
   "id": "bea2ee6c",
   "metadata": {},
   "outputs": [],
   "source": [
    "feature_importance = rf_reg.feature_importances_\n",
    "# make importances relative to max importance\n",
    "feature_importance = 100.0 * (feature_importance / feature_importance.max())[:30]\n",
    "sorted_idx = np.argsort(feature_importance)[:30]\n",
    "\n",
    "pos = np.arange(sorted_idx.shape[0]) + .5\n",
    "print(pos.size)\n",
    "sorted_idx.size\n",
    "plt.figure(figsize=(8,8))\n",
    "plt.barh(pos, feature_importance[sorted_idx], align='center')\n",
    "plt.yticks(pos, X.columns[sorted_idx])\n",
    "plt.xlabel('Relative Importance')\n",
    "plt.title('Variable Importance')\n",
    "plt.show()"
   ]
  },
  {
   "cell_type": "code",
   "execution_count": null,
   "id": "ee17e486",
   "metadata": {},
   "outputs": [],
   "source": []
  },
  {
   "cell_type": "markdown",
   "id": "26dd2a23",
   "metadata": {},
   "source": [
    "# <font color='orange'>Light GBM</font>"
   ]
  },
  {
   "cell_type": "code",
   "execution_count": null,
   "id": "a7c9ce07",
   "metadata": {},
   "outputs": [],
   "source": [
    "# define the model\n",
    "lgbm = LGBMRegressor(random_state=1234)\n",
    "lgbm.fit(X_train, y_train)\n",
    "\n",
    "y_pred = lgbm.predict(X_train)\n",
    "print('TRAIN:')\n",
    "print('MAE: ', f\"{mean_absolute_error(y_train, y_pred):,.1f}\")\n",
    "print('MSE: ', f\"{mean_squared_error(y_train, y_pred):,.1f}\")\n",
    "print('RMSE:', f\"{np.sqrt(mean_squared_error(y_train, y_pred)):,.1f}\")\n",
    "print('MAPE: ', f\"{mean_absolute_percentage_error(y_train, y_pred):,.1f}\")\n",
    "train_mae = mean_absolute_error(y_train, y_pred)\n",
    "\n",
    "print(\"\")\n",
    "y_pred = lgbm.predict(X_test)\n",
    "print('TEST:')\n",
    "print('MAE: ', f\"{mean_absolute_error(y_test, y_pred):,.1f}\")\n",
    "print('MSE: ', f\"{mean_squared_error(y_test, y_pred):,.1f}\")\n",
    "print('RMSE:', f\"{np.sqrt(mean_squared_error(y_test, y_pred)):,.1f}\")\n",
    "print('MAPE: ', f\"{mean_absolute_percentage_error(y_test, y_pred):,.1f}\")\n",
    "test_mae = mean_absolute_error(y_test, y_pred)\n",
    "\n",
    "print(\"\")\n",
    "print('MAE DIFF:', f\"{((test_mae / train_mae) - 1):.0%}\")"
   ]
  },
  {
   "cell_type": "code",
   "execution_count": null,
   "id": "21245f08",
   "metadata": {},
   "outputs": [],
   "source": [
    "plt.scatter(y_test, y_pred, c='green', alpha=0.2)\n",
    "plt.xlabel(\"Actual\")\n",
    "plt.ylabel(\"Predicted\")"
   ]
  },
  {
   "cell_type": "code",
   "execution_count": null,
   "id": "79985053",
   "metadata": {},
   "outputs": [],
   "source": [
    "plt.scatter(y_test, y_pred, color = 'green', alpha=0.2)\n",
    "plt.title('Actual Versus Predicted Values')\n",
    "plt.xlabel('Actual')\n",
    "plt.ylabel('Prredicted')\n",
    "plt.xscale(\"log\")\n",
    "plt.yscale(\"log\")\n",
    "plt.show()"
   ]
  },
  {
   "cell_type": "code",
   "execution_count": null,
   "id": "8b7201c3",
   "metadata": {},
   "outputs": [],
   "source": []
  },
  {
   "cell_type": "markdown",
   "id": "f6ddc250",
   "metadata": {},
   "source": [
    "With this baseline, let's see how we can improve with hyperparameter tuning"
   ]
  },
  {
   "cell_type": "code",
   "execution_count": null,
   "id": "89c31148",
   "metadata": {},
   "outputs": [],
   "source": [
    "param_grid = {\n",
    "    'learning_rate': [0.1, 0.3, 0.6, 0.9, .95],\n",
    "    'max_depth': [2, 3, 6, 9, 11],\n",
    "    'n_estimators': [50, 100, 150],\n",
    "    'num_leaves': [50, 100, 150, 200, 250],\n",
    "    'bagging_fraction': [.1, .3, .5, .8],\n",
    "    'feature_fraction': [.1, .3, .5, .8],\n",
    "    'max_bin': [2, 3, 5, 7, 9],    \n",
    "}"
   ]
  },
  {
   "cell_type": "markdown",
   "id": "c81ee68c",
   "metadata": {},
   "source": [
    "[LightGBM] [Warning] Unknown parameter: criterion\n",
    "[LightGBM] [Warning] Unknown parameter: max_leaf_nodes"
   ]
  },
  {
   "cell_type": "code",
   "execution_count": null,
   "id": "81554c07",
   "metadata": {
    "scrolled": true
   },
   "outputs": [],
   "source": [
    "# markdown since it takes so long to run\n",
    "# random_search = RandomizedSearchCV(LGBMRegressor(random_state=1234),\n",
    "#                                    param_grid, n_jobs=-1)\n",
    "# random_search.fit(X_train, y_train.values.ravel())\n",
    "# print(random_search.best_estimator_)"
   ]
  },
  {
   "cell_type": "markdown",
   "id": "c00cd80c",
   "metadata": {},
   "source": [
    "Note from article: The rule of thumb is to set early_stopping_rounds at 10% of your num_iterations.\n",
    "\n"
   ]
  },
  {
   "cell_type": "markdown",
   "id": "62419963",
   "metadata": {},
   "source": [
    "Output of random_search 1:\n",
    "\n",
    "LGBMRegressor(bagging_fraction=0.3, feature_fraction=0.3, learning_rate=0.9,\n",
    "              max_bin=5, max_depth=9, num_iterations=6, num_leaves=150,\n",
    "              random_state=1234)"
   ]
  },
  {
   "cell_type": "markdown",
   "id": "19f7f40d",
   "metadata": {},
   "source": [
    "Output of random search 2:\n",
    "    \n",
    "LGBMRegressor(bagging_fraction=0.1, feature_fraction=0.5, learning_rate=0.95,\n",
    "              max_bin=7, max_depth=3, num_iterations=100, num_leaves=200,\n",
    "              random_state=1234)"
   ]
  },
  {
   "cell_type": "markdown",
   "id": "d149aa35",
   "metadata": {},
   "source": [
    "Output of random search 3:\n",
    "\n",
    "LGBMRegressor(bagging_fraction=0.5, feature_fraction=0.8, learning_rate=0.3,\n",
    "              max_bin=9, max_depth=3, num_iterations=150, num_leaves=250,\n",
    "              random_state=1234)    "
   ]
  },
  {
   "cell_type": "code",
   "execution_count": null,
   "id": "a8c72970",
   "metadata": {},
   "outputs": [],
   "source": []
  },
  {
   "cell_type": "code",
   "execution_count": null,
   "id": "a7ca8d0e",
   "metadata": {},
   "outputs": [],
   "source": []
  },
  {
   "cell_type": "code",
   "execution_count": null,
   "id": "4ea02781",
   "metadata": {},
   "outputs": [],
   "source": [
    "# define the model\n",
    "lgbm2 = LGBMRegressor(bagging_fraction=0.3, feature_fraction=0.5, learning_rate=0.6,\n",
    "              max_bin=9, max_depth=6, n_estimators=150, num_leaves=250,\n",
    "              random_state=1234)\n",
    "lgbm2.fit(X_train, y_train)\n",
    "\n",
    "y_pred = lgbm2.predict(X_train)\n",
    "print('TRAIN:')\n",
    "print('MAE: ', f\"{mean_absolute_error(y_train, y_pred):,.1f}\")\n",
    "print('MSE: ', f\"{mean_squared_error(y_train, y_pred):,.1f}\")\n",
    "print('RMSE:', f\"{np.sqrt(mean_squared_error(y_train, y_pred)):,.1f}\")\n",
    "print('MAPE: ', f\"{mean_absolute_percentage_error(y_train, y_pred):,.1f}\")\n",
    "train_mae = mean_absolute_error(y_train, y_pred)\n",
    "\n",
    "print(\"\")\n",
    "y_pred = lgbm2.predict(X_test)\n",
    "print('TEST:')\n",
    "print('MAE: ', f\"{mean_absolute_error(y_test, y_pred):,.1f}\")\n",
    "print('MSE: ', f\"{mean_squared_error(y_test, y_pred):,.1f}\")\n",
    "print('RMSE:', f\"{np.sqrt(mean_squared_error(y_test, y_pred)):,.1f}\")\n",
    "print('MAPE: ', f\"{mean_absolute_percentage_error(y_test, y_pred):,.1f}\")\n",
    "test_mae = mean_absolute_error(y_test, y_pred)\n",
    "\n",
    "print(\"\")\n",
    "print('MAE DIFF:', f\"{((test_mae / train_mae) - 1):.0%}\")"
   ]
  },
  {
   "cell_type": "markdown",
   "id": "55d7fb8b",
   "metadata": {},
   "source": [
    "LGBMRegressor(bagging_fraction=0.3, feature_fraction=0.3, learning_rate=0.9,\n",
    "              max_bin=5, max_depth=9, num_iterations=6, num_leaves=150,\n",
    "              random_state=1234)\n",
    "\n",
    "First run:\n",
    "- MAE:  127260.7482586482\n",
    "- MSE:  2272533366633.018\n",
    "- RMSE: 1507492.4101410985\n",
    "- Score: 0.05733368798719807"
   ]
  },
  {
   "cell_type": "markdown",
   "id": "717b6013",
   "metadata": {},
   "source": [
    "LGBMRegressor(bagging_fraction=0.3, feature_fraction=0.5, learning_rate=0.9,\n",
    "              max_bin=9, max_depth=3, num_iterations=150, num_leaves=250,\n",
    "              random_state=1234)\n",
    "\n",
    "second run:\n",
    "\n",
    "MAE:  131551.22286039466\n",
    "MSE:  2186966777123.0999\n",
    "RMSE: 1478839.6725551758\n",
    "score 0.11156069864982354\n"
   ]
  },
  {
   "cell_type": "markdown",
   "id": "8de230c7",
   "metadata": {},
   "source": [
    "lgbm5 = LGBMRegressor(bagging_fraction=0.3, feature_fraction=0.5, learning_rate=0.3,\n",
    "              max_bin=9, max_depth=3, num_iterations=150, num_leaves=250,\n",
    "              random_state=1234)\n",
    "\n",
    "third run:\n",
    "MAE:  123752.20211045821\n",
    "MSE:  2191113140366.4453\n",
    "RMSE: 1480240.9061927877\n",
    "score 0.09940145406830636\n",
    "\n",
    "    \n"
   ]
  },
  {
   "cell_type": "markdown",
   "id": "d9d1175d",
   "metadata": {},
   "source": [
    "lgbm5 = LGBMRegressor(bagging_fraction=0.3, feature_fraction=0.5, learning_rate=0.6,\n",
    "              max_bin=9, max_depth=3, num_iterations=150, num_leaves=250,\n",
    "              random_state=1234)\n",
    "\n",
    "MAE:  125401.568504747\n",
    "MSE:  2187483613780.5405\n",
    "RMSE: 1479014.406211292\n",
    "score 0.1101194125715973\n"
   ]
  },
  {
   "cell_type": "markdown",
   "id": "4eb28a4c",
   "metadata": {},
   "source": [
    "\n",
    "MAE:  129998.46928890668\n",
    "MSE:  2226354399375.847\n",
    "RMSE: 1492097.315651981\n",
    "score 0.15591653049141974\n"
   ]
  },
  {
   "cell_type": "code",
   "execution_count": null,
   "id": "46d6be7d",
   "metadata": {},
   "outputs": [],
   "source": []
  },
  {
   "cell_type": "code",
   "execution_count": null,
   "id": "f022bc9a",
   "metadata": {},
   "outputs": [],
   "source": [
    "plt.scatter(y_test, y_pred, c='green', alpha=0.2)\n",
    "plt.xlabel(\"Actual\")\n",
    "plt.ylabel(\"Predicted\")"
   ]
  },
  {
   "cell_type": "code",
   "execution_count": null,
   "id": "0c080482",
   "metadata": {},
   "outputs": [],
   "source": [
    "plt.scatter(y_test, y_pred, color = 'green', alpha=0.2)\n",
    "plt.title('Actual Versus Predicted Values')\n",
    "plt.xlabel('Actual')\n",
    "plt.ylabel('Prredicted')\n",
    "plt.xscale(\"log\")\n",
    "plt.yscale(\"log\")\n",
    "plt.show()"
   ]
  },
  {
   "cell_type": "code",
   "execution_count": null,
   "id": "26b907a0",
   "metadata": {},
   "outputs": [],
   "source": []
  },
  {
   "cell_type": "code",
   "execution_count": null,
   "id": "0f0d560d",
   "metadata": {},
   "outputs": [],
   "source": []
  },
  {
   "cell_type": "code",
   "execution_count": null,
   "id": "148ae368",
   "metadata": {},
   "outputs": [],
   "source": [
    "feature_importance = lgbm.feature_importances_\n",
    "# make importances relative to max importance\n",
    "feature_importance = 100.0 * (feature_importance / feature_importance.max())[:30]\n",
    "sorted_idx = np.argsort(feature_importance)[:30]\n",
    "\n",
    "pos = np.arange(sorted_idx.shape[0]) + .5\n",
    "print(pos.size)\n",
    "sorted_idx.size\n",
    "plt.figure(figsize=(8,8))\n",
    "plt.barh(pos, feature_importance[sorted_idx], align='center')\n",
    "plt.yticks(pos, X.columns[sorted_idx])\n",
    "plt.xlabel('Relative Importance')\n",
    "plt.title('Variable Importance')\n",
    "plt.show()"
   ]
  },
  {
   "cell_type": "code",
   "execution_count": null,
   "id": "a995b058",
   "metadata": {},
   "outputs": [],
   "source": []
  },
  {
   "cell_type": "code",
   "execution_count": null,
   "id": "817eef10",
   "metadata": {},
   "outputs": [],
   "source": []
  },
  {
   "cell_type": "markdown",
   "id": "7c445705",
   "metadata": {},
   "source": [
    "# <font color='orange'>XGBoost</font>\n"
   ]
  },
  {
   "cell_type": "code",
   "execution_count": null,
   "id": "537a7703",
   "metadata": {},
   "outputs": [],
   "source": [
    "# define the model\n",
    "xgbr = XGBRegressor(random_state=1234)\n",
    "xgbr.fit(X_train, y_train)\n",
    "\n",
    "y_pred = xgbr.predict(X_train)\n",
    "print('TRAIN:')\n",
    "print('MAE: ', f\"{mean_absolute_error(y_train, y_pred):,.1f}\")\n",
    "print('MSE: ', f\"{mean_squared_error(y_train, y_pred):,.1f}\")\n",
    "print('RMSE:', f\"{np.sqrt(mean_squared_error(y_train, y_pred)):,.1f}\")\n",
    "print('MAPE: ', f\"{mean_absolute_percentage_error(y_train, y_pred):,.1f}\")\n",
    "train_mae = mean_absolute_error(y_train, y_pred)\n",
    "\n",
    "print(\"\")\n",
    "y_pred = xgbr.predict(X_test)\n",
    "print('TEST:')\n",
    "print('MAE: ', f\"{mean_absolute_error(y_test, y_pred):,.1f}\")\n",
    "print('MSE: ', f\"{mean_squared_error(y_test, y_pred):,.1f}\")\n",
    "print('RMSE:', f\"{np.sqrt(mean_squared_error(y_test, y_pred)):,.1f}\")\n",
    "print('MAPE: ', f\"{mean_absolute_percentage_error(y_test, y_pred):,.1f}\")\n",
    "test_mae = mean_absolute_error(y_test, y_pred)\n",
    "\n",
    "print(\"\")\n",
    "print('MAE DIFF:', f\"{((test_mae / train_mae) - 1):.0%}\")"
   ]
  },
  {
   "cell_type": "code",
   "execution_count": null,
   "id": "c97b3bbb",
   "metadata": {},
   "outputs": [],
   "source": [
    "# define the model\n",
    "xgbr = XGBRegressor(random_state=1234)\n",
    "xgbr.fit(X_train, y_train)\n",
    "\n",
    "y_pred = xgbr.predict(X_train)\n",
    "print('TRAIN:')\n",
    "print('MAE: ', f\"{mean_absolute_error(y_train, y_pred):,.1f}\")\n",
    "print('MSE: ', f\"{mean_squared_error(y_train, y_pred):,.1f}\")\n",
    "print('RMSE:', f\"{np.sqrt(mean_squared_error(y_train, y_pred)):,.1f}\")\n",
    "print('MAPE: ', f\"{mean_absolute_percentage_error(y_train, y_pred):,.1f}\")\n",
    "train_mae = mean_absolute_error(y_train, y_pred)\n",
    "\n",
    "print(\"\")\n",
    "y_pred = xgbr.predict(X_test)\n",
    "print('TEST:')\n",
    "print('MAE: ', f\"{mean_absolute_error(y_test, y_pred):,.1f}\")\n",
    "print('MSE: ', f\"{mean_squared_error(y_test, y_pred):,.1f}\")\n",
    "print('RMSE:', f\"{np.sqrt(mean_squared_error(y_test, y_pred)):,.1f}\")\n",
    "print('MAPE: ', f\"{mean_absolute_percentage_error(y_test, y_pred):,.1f}\")\n",
    "test_mae = mean_absolute_error(y_test, y_pred)\n",
    "\n",
    "print(\"\")\n",
    "print('MAE DIFF:', f\"{((test_mae / train_mae) - 1):.0%}\")"
   ]
  },
  {
   "cell_type": "code",
   "execution_count": null,
   "id": "bd7806b7",
   "metadata": {},
   "outputs": [],
   "source": []
  },
  {
   "cell_type": "code",
   "execution_count": null,
   "id": "6aed69f1",
   "metadata": {},
   "outputs": [],
   "source": []
  },
  {
   "cell_type": "code",
   "execution_count": null,
   "id": "21c2536d",
   "metadata": {},
   "outputs": [],
   "source": []
  },
  {
   "cell_type": "code",
   "execution_count": null,
   "id": "714e7020",
   "metadata": {},
   "outputs": [],
   "source": [
    "plt.scatter(y_test, y_pred, c='green', alpha=0.2)\n",
    "plt.xlabel(\"Actual\")\n",
    "plt.ylabel(\"Predicted\");"
   ]
  },
  {
   "cell_type": "code",
   "execution_count": null,
   "id": "38f143be",
   "metadata": {},
   "outputs": [],
   "source": [
    "plt.scatter(y_test, y_pred, color = 'green', alpha=0.2)\n",
    "plt.title('Actual Versus Predicted Values')\n",
    "plt.xlabel('Actual')\n",
    "plt.ylabel('Prredicted')\n",
    "plt.xscale(\"log\")\n",
    "plt.yscale(\"log\")\n",
    "plt.show();"
   ]
  },
  {
   "cell_type": "code",
   "execution_count": null,
   "id": "4502ce72",
   "metadata": {},
   "outputs": [],
   "source": []
  },
  {
   "cell_type": "code",
   "execution_count": null,
   "id": "b9b99c34",
   "metadata": {},
   "outputs": [],
   "source": [
    "feature_importance = xgbr.feature_importances_\n",
    "# make importances relative to max importance\n",
    "feature_importance = 100.0 * (feature_importance / feature_importance.max())[:30]\n",
    "sorted_idx = np.argsort(feature_importance)[:30]\n",
    "\n",
    "pos = np.arange(sorted_idx.shape[0]) + .5\n",
    "print(pos.size)\n",
    "sorted_idx.size\n",
    "plt.figure(figsize=(8,8))\n",
    "plt.barh(pos, feature_importance[sorted_idx], align='center')\n",
    "plt.yticks(pos, X.columns[sorted_idx])\n",
    "plt.xlabel('Relative Importance')\n",
    "plt.title('Variable Importance')\n",
    "plt.show()"
   ]
  },
  {
   "cell_type": "code",
   "execution_count": null,
   "id": "c9716876",
   "metadata": {},
   "outputs": [],
   "source": []
  },
  {
   "cell_type": "markdown",
   "id": "09521b6b",
   "metadata": {},
   "source": [
    "param_grid = {\n",
    "    'learning_rate': [0.1, 0.3, 0.6, 0.9],\n",
    "    'max_depth': [2, 6, 9, 11],\n",
    "    'num_leaves': [50, 100, 150],\n",
    "}"
   ]
  },
  {
   "cell_type": "code",
   "execution_count": null,
   "id": "3fbb343e",
   "metadata": {},
   "outputs": [],
   "source": [
    "param_grid = {\n",
    "    'learning_rate': [0.1, 0.3, 0.9],\n",
    "    'max_depth': [4, 6, 8],\n",
    "    'n_estimators': [50, 100, 150],\n",
    "}"
   ]
  },
  {
   "cell_type": "markdown",
   "id": "f5155cbd",
   "metadata": {},
   "source": [
    "[LightGBM] [Warning] Unknown parameter: criterion\n",
    "[LightGBM] [Warning] Unknown parameter: max_leaf_nodes"
   ]
  },
  {
   "cell_type": "code",
   "execution_count": null,
   "id": "dd4b833c",
   "metadata": {},
   "outputs": [],
   "source": [
    "# markdown since it takes so long to run\n",
    "# random_search = RandomizedSearchCV(XGBRegressor(random_state=1234),\n",
    "#                                    param_grid, n_jobs=-1)\n",
    "# random_search.fit(X_train, y_train.values.ravel())\n",
    "# print(random_search.best_estimator_)"
   ]
  },
  {
   "cell_type": "markdown",
   "id": "a36b3ac6",
   "metadata": {},
   "source": [
    "output run 1 of random search:\n",
    "XGBRegressor(base_score=None, booster=None, callbacks=None,\n",
    "             colsample_bylevel=None, colsample_bynode=None,\n",
    "             colsample_bytree=None, early_stopping_rounds=None,\n",
    "             enable_categorical=False, eval_metric=None, feature_types=None,\n",
    "             gamma=None, gpu_id=None, grow_policy=None, importance_type=None,\n",
    "             interaction_constraints=None, learning_rate=0.1, max_bin=None,\n",
    "             max_cat_threshold=None, max_cat_to_onehot=None,\n",
    "             max_delta_step=None, max_depth=8, max_leaves=None,\n",
    "             min_child_weight=None, missing=nan, monotone_constraints=None,\n",
    "             n_estimators=100, n_jobs=None, num_parallel_tree=None,\n",
    "             predictor=None, random_state=1234, ...)\n",
    "    "
   ]
  },
  {
   "cell_type": "code",
   "execution_count": null,
   "id": "9de788de",
   "metadata": {},
   "outputs": [],
   "source": [
    "# define the model\n",
    "xgbr = XGBRegressor(learning_rate = 0.1, max_depth = 8, n_estimators = 100, random_state=1234)\n",
    "xgbr.fit(X_train, y_train)\n",
    "\n",
    "y_pred = xgbr.predict(X_train)\n",
    "print('TRAIN:')\n",
    "print('MAE: ', f\"{mean_absolute_error(y_train, y_pred):,.1f}\")\n",
    "print('MSE: ', f\"{mean_squared_error(y_train, y_pred):,.1f}\")\n",
    "print('RMSE:', f\"{np.sqrt(mean_squared_error(y_train, y_pred)):,.1f}\")\n",
    "print('MAPE: ', f\"{mean_absolute_percentage_error(y_train, y_pred):,.1f}\")\n",
    "train_mae = mean_absolute_error(y_train, y_pred)\n",
    "\n",
    "print(\"\")\n",
    "y_pred = xgbr.predict(X_test)\n",
    "print('TEST:')\n",
    "print('MAE: ', f\"{mean_absolute_error(y_test, y_pred):,.1f}\")\n",
    "print('MSE: ', f\"{mean_squared_error(y_test, y_pred):,.1f}\")\n",
    "print('RMSE:', f\"{np.sqrt(mean_squared_error(y_test, y_pred)):,.1f}\")\n",
    "print('MAPE: ', f\"{mean_absolute_percentage_error(y_test, y_pred):,.1f}\")\n",
    "test_mae = mean_absolute_error(y_test, y_pred)\n",
    "\n",
    "print(\"\")\n",
    "print('MAE DIFF:', f\"{((test_mae / train_mae) - 1):.0%}\")"
   ]
  },
  {
   "cell_type": "markdown",
   "id": "7812456b",
   "metadata": {},
   "source": [
    "original scores:\n",
    "- MAE:  119384.45039813573\n",
    "- MSE:  2176802822383.6873\n",
    "- RMSE: 1475399.207802311"
   ]
  },
  {
   "cell_type": "markdown",
   "id": "3d1206af",
   "metadata": {},
   "source": [
    "Comment: we can see that the tuning did improve the performance of the model"
   ]
  },
  {
   "cell_type": "code",
   "execution_count": null,
   "id": "32520e2c",
   "metadata": {},
   "outputs": [],
   "source": [
    "xgbr2 = XGBRegressor(eval_metric=\"rmse\", early_stopping_rounds=10, random_state=1234)\n",
    "eval_set = [(X_test, y_test)]\n",
    "xgbr2.fit(X_train, y_train, eval_set=eval_set, verbose=True)\n",
    "# make predictions for test data\n",
    "y_pred = xgbr2.predict(X_test)\n",
    "predictions = [round(value) for value in y_pred]\n",
    "print('MAE: ', mean_absolute_error(y_test, y_pred))\n",
    "print('MSE: ', mean_squared_error(y_test, y_pred))\n",
    "print('RMSE:', np.sqrt(mean_squared_error(y_test, y_pred)))"
   ]
  },
  {
   "cell_type": "markdown",
   "id": "0ca14c6b",
   "metadata": {},
   "source": [
    "first run with stopping:\n",
    "- MAE:  119384.45039813573\n",
    "- MSE:  2176802822383.6873\n",
    "- RMSE: 1475399.207802311\n"
   ]
  },
  {
   "cell_type": "code",
   "execution_count": null,
   "id": "3bfaa156",
   "metadata": {},
   "outputs": [],
   "source": []
  },
  {
   "cell_type": "code",
   "execution_count": null,
   "id": "b831af74",
   "metadata": {},
   "outputs": [],
   "source": []
  },
  {
   "cell_type": "code",
   "execution_count": null,
   "id": "4b525966",
   "metadata": {},
   "outputs": [],
   "source": []
  },
  {
   "cell_type": "markdown",
   "id": "1b031701",
   "metadata": {},
   "source": [
    "### QUESTION: how to detect overfitting with regression models? random forest regression/boost algos?\n",
    "\n",
    "- compare test / train metrics"
   ]
  },
  {
   "cell_type": "markdown",
   "id": "6b9e4e4e",
   "metadata": {},
   "source": [
    "However, for linear regression, there is an excellent accelerated cross-validation method called predicted R-squared. This method doesn’t require you to collect a separate sample or partition your data, and you can obtain the cross-validated results as you fit the model"
   ]
  },
  {
   "cell_type": "code",
   "execution_count": null,
   "id": "98297e5c",
   "metadata": {},
   "outputs": [],
   "source": []
  },
  {
   "cell_type": "code",
   "execution_count": null,
   "id": "e18fbd38",
   "metadata": {},
   "outputs": [],
   "source": []
  },
  {
   "cell_type": "markdown",
   "id": "b1c70009",
   "metadata": {},
   "source": [
    "# <font color='orange'>Tweedie Regression</font>\n"
   ]
  },
  {
   "cell_type": "markdown",
   "id": "31f33d4b",
   "metadata": {},
   "source": [
    "steps:\n",
    "- Note: filter out claims with zero amount, as the severity model requires strictly positive target values.\n",
    "- Correct for unreasonable observations (that might be data error) and a few exceptionally large claim amounts\n",
    "    "
   ]
  },
  {
   "cell_type": "code",
   "execution_count": null,
   "id": "e98a56d4",
   "metadata": {},
   "outputs": [],
   "source": [
    "# load the data - this dataset has the zeroes eliminated\n",
    "X_train = pd.read_parquet(\"../Data/X_train_td.pqt\")\n",
    "X_test = pd.read_parquet(\"../Data/X_test_td.pqt\")\n",
    "y_train = pd.read_parquet(\"../Data/y_train_td.pqt\") \n",
    "y_test = pd.read_parquet(\"../Data/y_test_td.pqt\")\n",
    "\n",
    "\n",
    "X = pd.concat([X_train, X_test])\n",
    "y = pd.concat([y_train, y_test])\n",
    "\n",
    "# , index_col =[0]\n",
    "# load data\n",
    "#df = pd.read_parquet(\"../Data/all_storm_data11.pqt\")\n",
    "#df = pd.read_csv(\"../Data/all_storm_data4.csv\")"
   ]
  },
  {
   "cell_type": "code",
   "execution_count": null,
   "id": "271dfd78",
   "metadata": {},
   "outputs": [],
   "source": [
    "mask_train = y_train\n",
    "mask_test = y_test"
   ]
  },
  {
   "cell_type": "code",
   "execution_count": null,
   "id": "c45f7452",
   "metadata": {},
   "outputs": [],
   "source": [
    "glm_sev = GammaRegressor(alpha=10.0)"
   ]
  },
  {
   "cell_type": "code",
   "execution_count": null,
   "id": "25ddde2b",
   "metadata": {},
   "outputs": [],
   "source": [
    "#glm_sev.fit(X_train, y_train)\n",
    "glm_sev.fit(X_train[mask_train.values],\n",
    "    df_train.loc[mask_train, \"DAMAGE_PROPERTY\"])"
   ]
  },
  {
   "cell_type": "code",
   "execution_count": null,
   "id": "b5e85b8e",
   "metadata": {},
   "outputs": [],
   "source": [
    "scores = score_estimator(\n",
    "    glm_sev,\n",
    "    X_train[mask_train.values],\n",
    "    X_test[mask_test.values],\n",
    "    df_train[mask_train],\n",
    "    df_test[mask_test],\n",
    "    target=\"AvgClaimAmount\",\n",
    "    weights=\"ClaimNb\",\n",
    ")\n",
    "print(\"Evaluation of GammaRegressor on target AvgClaimAmount\")\n",
    "print(scores)"
   ]
  },
  {
   "cell_type": "code",
   "execution_count": null,
   "id": "b175af95",
   "metadata": {},
   "outputs": [],
   "source": []
  },
  {
   "cell_type": "code",
   "execution_count": null,
   "id": "66d4acb6",
   "metadata": {},
   "outputs": [],
   "source": []
  },
  {
   "cell_type": "code",
   "execution_count": null,
   "id": "1a11cce0",
   "metadata": {},
   "outputs": [],
   "source": []
  },
  {
   "cell_type": "code",
   "execution_count": null,
   "id": "0ddbcd43",
   "metadata": {},
   "outputs": [],
   "source": []
  },
  {
   "cell_type": "markdown",
   "id": "c7325f3a",
   "metadata": {},
   "source": [
    "feature_importance = lgbm.feature_importances_\n",
    "# make importances relative to max importance\n",
    "feature_importance = 100.0 * (feature_importance / feature_importance.max())[:30]\n",
    "sorted_idx = np.argsort(feature_importance)[:30]\n",
    "\n",
    "pos = np.arange(sorted_idx.shape[0]) + .5\n",
    "print(pos.size)\n",
    "sorted_idx.size\n",
    "plt.figure(figsize=(10,10))\n",
    "plt.barh(pos, feature_importance[sorted_idx], align='center')\n",
    "plt.yticks(pos, X.columns[sorted_idx])\n",
    "plt.xlabel('Relative Importance')\n",
    "plt.title('Variable Importance')\n",
    "plt.show()"
   ]
  },
  {
   "cell_type": "code",
   "execution_count": null,
   "id": "aaa085dd",
   "metadata": {},
   "outputs": [],
   "source": []
  },
  {
   "cell_type": "code",
   "execution_count": null,
   "id": "d3a10ecd",
   "metadata": {},
   "outputs": [],
   "source": []
  },
  {
   "cell_type": "code",
   "execution_count": null,
   "id": "a0fa1eff",
   "metadata": {},
   "outputs": [],
   "source": []
  },
  {
   "cell_type": "code",
   "execution_count": null,
   "id": "9769c7f1",
   "metadata": {},
   "outputs": [],
   "source": []
  },
  {
   "cell_type": "code",
   "execution_count": null,
   "id": "b550f13e",
   "metadata": {},
   "outputs": [],
   "source": []
  },
  {
   "cell_type": "code",
   "execution_count": null,
   "id": "218ef1d9",
   "metadata": {},
   "outputs": [],
   "source": []
  },
  {
   "cell_type": "code",
   "execution_count": null,
   "id": "8bd12a3c",
   "metadata": {},
   "outputs": [],
   "source": []
  },
  {
   "cell_type": "code",
   "execution_count": null,
   "id": "a5020dc5",
   "metadata": {},
   "outputs": [],
   "source": []
  },
  {
   "cell_type": "code",
   "execution_count": null,
   "id": "e0e82f39",
   "metadata": {},
   "outputs": [],
   "source": []
  },
  {
   "cell_type": "code",
   "execution_count": null,
   "id": "bfb18f47",
   "metadata": {},
   "outputs": [],
   "source": []
  },
  {
   "cell_type": "markdown",
   "id": "16b722a3",
   "metadata": {},
   "source": [
    "#### write to parquet\n",
    "from pathlib import Path  \n",
    "filepath = Path('/Users/gregwelliver/Desktop/springboard_files/Severe-Weather-Repo/Data/all_storm_data9.pqt')  \n",
    "filepath.parent.mkdir(parents=True, exist_ok=True)  \n",
    "df.to_parquet(filepath)"
   ]
  },
  {
   "cell_type": "markdown",
   "id": "66275a93",
   "metadata": {},
   "source": [
    "resources"
   ]
  },
  {
   "cell_type": "markdown",
   "id": "9fdb0786",
   "metadata": {},
   "source": [
    "drop columns\n",
    "# drop unnecessary columns\n",
    "df.drop(['', '', '', '',], axis=1, inplace=True)"
   ]
  },
  {
   "cell_type": "markdown",
   "id": "43b82d0d",
   "metadata": {},
   "source": [
    "backup below"
   ]
  },
  {
   "cell_type": "code",
   "execution_count": null,
   "id": "fa7bf1a4",
   "metadata": {},
   "outputs": [],
   "source": []
  },
  {
   "cell_type": "markdown",
   "id": "4e81dea1",
   "metadata": {},
   "source": [
    "##  <font color='red'>Scratch</font>\n"
   ]
  },
  {
   "cell_type": "markdown",
   "id": "d5f463e4",
   "metadata": {},
   "source": [
    "## WORKING, MARKDOWN UNTIL FINAL\n"
   ]
  },
  {
   "cell_type": "code",
   "execution_count": null,
   "id": "e6a256d4",
   "metadata": {},
   "outputs": [],
   "source": []
  },
  {
   "cell_type": "code",
   "execution_count": null,
   "id": "6b4d0730",
   "metadata": {},
   "outputs": [],
   "source": []
  },
  {
   "cell_type": "markdown",
   "id": "b425f35d",
   "metadata": {},
   "source": [
    "code looks good; \n",
    "\n",
    "use either \n",
    "randomsearch cv\n",
    "gridserarch cv\n",
    "hyparamter tune\n",
    "\n",
    "\n"
   ]
  },
  {
   "cell_type": "code",
   "execution_count": null,
   "id": "fea0de8e",
   "metadata": {},
   "outputs": [],
   "source": []
  },
  {
   "cell_type": "code",
   "execution_count": null,
   "id": "46c9ec20",
   "metadata": {},
   "outputs": [],
   "source": []
  },
  {
   "cell_type": "markdown",
   "id": "e202515c",
   "metadata": {},
   "source": [
    "#### Using k-fold cross-validation"
   ]
  },
  {
   "cell_type": "markdown",
   "id": "a75487a7",
   "metadata": {},
   "source": [
    "lgbm2 = LGBMRegressor(learning_rate=0.09,max_depth=-5,random_state=1234)"
   ]
  },
  {
   "cell_type": "markdown",
   "id": "948113ff",
   "metadata": {},
   "source": [
    "cv = RepeatedKFold(n_splits=10, n_repeats=3, random_state=1234)"
   ]
  },
  {
   "cell_type": "markdown",
   "id": "7ef897e9",
   "metadata": {},
   "source": [
    "n_scores = cross_val_score(lgbm2, X, y, scoring='neg_mean_absolute_error', cv=cv, n_jobs=-1, error_score='raise')"
   ]
  },
  {
   "cell_type": "markdown",
   "id": "e0721938",
   "metadata": {},
   "source": [
    "print('MAE: %.3f (%.3f)' % (mean(n_scores), std(n_scores)))"
   ]
  },
  {
   "cell_type": "markdown",
   "id": "934d5d6f",
   "metadata": {},
   "source": [
    "First run output:\n",
    "MAE: -374840.173 (59982.424)\n"
   ]
  },
  {
   "cell_type": "markdown",
   "id": "4a15592b",
   "metadata": {},
   "source": [
    "print(lgbm2.score(X_train, y_train))"
   ]
  },
  {
   "cell_type": "code",
   "execution_count": null,
   "id": "a226f1c9",
   "metadata": {},
   "outputs": [],
   "source": []
  },
  {
   "cell_type": "code",
   "execution_count": null,
   "id": "8ba7fc52",
   "metadata": {},
   "outputs": [],
   "source": []
  },
  {
   "cell_type": "markdown",
   "id": "4ff59f62",
   "metadata": {},
   "source": [
    "scratch on LGBM Model\n"
   ]
  },
  {
   "cell_type": "code",
   "execution_count": null,
   "id": "865f7f16",
   "metadata": {},
   "outputs": [],
   "source": []
  },
  {
   "cell_type": "markdown",
   "id": "2f158379",
   "metadata": {},
   "source": [
    "# loading data\n",
    "lgb_train = lgb.Dataset(X_train, y_train)\n",
    "lgb_eval = lgb.Dataset(X_test, y_test, reference=lgb_train)"
   ]
  },
  {
   "cell_type": "markdown",
   "id": "c33aebfa",
   "metadata": {},
   "source": [
    "# fitting the model\n",
    "model = lgb.train(params,\n",
    "                 train_set=lgb_train,\n",
    "                 valid_sets=lgb_eval,\n",
    "                 early_stopping_rounds=30)"
   ]
  },
  {
   "cell_type": "markdown",
   "id": "86564e0e",
   "metadata": {},
   "source": [
    "# prediction\n",
    "y_pred = model.predict(X_test)\n",
    "\n",
    "# accuracy check\n",
    "mse = mean_squared_error(y_test, y_pred)\n",
    "rmse = mse**(0.5)\n",
    "print(\"MSE: %.2f\" % mse)\n",
    "print(\"RMSE: %.2f\" % rmse) \n",
    " \n"
   ]
  },
  {
   "cell_type": "markdown",
   "id": "e87ddec0",
   "metadata": {
    "scrolled": true
   },
   "source": [
    "# plotting feature importance\n",
    "lgb.plot_importance(model, height=.5)"
   ]
  },
  {
   "cell_type": "code",
   "execution_count": null,
   "id": "94f573ef",
   "metadata": {},
   "outputs": [],
   "source": []
  },
  {
   "cell_type": "code",
   "execution_count": null,
   "id": "22d05e2e",
   "metadata": {},
   "outputs": [],
   "source": []
  },
  {
   "cell_type": "code",
   "execution_count": null,
   "id": "420e9f60",
   "metadata": {},
   "outputs": [],
   "source": []
  },
  {
   "cell_type": "markdown",
   "id": "2c3b8e39",
   "metadata": {},
   "source": [
    "# example: https://github.com/microsoft/LightGBM/blob/master/examples/python-guide/simple_example.py\n",
    "\n",
    "# create dataset for lightgbm\n",
    "lgb_train = lgb.Dataset(X_train, y_train)\n",
    "lgb_eval = lgb.Dataset(X_test, y_test, reference=lgb_train)\n",
    "\n",
    "# specify your configurations as a dict\n",
    "params = {\n",
    "    'boosting_type': 'gbdt',\n",
    "    'objective': 'regression',\n",
    "    'metric': {'l2', 'l1'},\n",
    "    'num_leaves': 31,\n",
    "    'learning_rate': 0.05,\n",
    "    'feature_fraction': 0.9,\n",
    "    'bagging_fraction': 0.8,\n",
    "    'bagging_freq': 5,\n",
    "    'verbose': 0\n",
    "}\n",
    "\n",
    "print('Starting training...')\n",
    "# train\n",
    "gbm = lgb.train(params,\n",
    "                lgb_train,\n",
    "                num_boost_round=20,\n",
    "                valid_sets=lgb_eval,\n",
    "                callbacks=[lgb.early_stopping(stopping_rounds=5)])\n",
    "\n",
    "print('Saving model...')\n",
    "# save model to file\n",
    "gbm.save_model('model.txt')\n",
    "\n",
    "print('Starting predicting...')\n",
    "# predict\n",
    "y_pred = gbm.predict(X_test, num_iteration=gbm.best_iteration)\n",
    "# eval\n",
    "rmse_test = mean_squared_error(y_test, y_pred) ** 0.5\n",
    "print(f'The RMSE of prediction is: {rmse_test}')"
   ]
  },
  {
   "cell_type": "code",
   "execution_count": null,
   "id": "88fa440b",
   "metadata": {},
   "outputs": [],
   "source": []
  },
  {
   "cell_type": "code",
   "execution_count": null,
   "id": "963be64f",
   "metadata": {},
   "outputs": [],
   "source": []
  },
  {
   "cell_type": "markdown",
   "id": "f5c4bcca",
   "metadata": {},
   "source": [
    "Light GBM hyperparameter tuning: \n",
    "    \n",
    "There are many hyperparameters we can look at for LightGBM, although in this case, we will look at the number of trees and tree depth, the learning rate, and the boosting type"
   ]
  },
  {
   "cell_type": "markdown",
   "id": "4862cacf",
   "metadata": {},
   "source": [
    "# Explore Number of Trees\n",
    "# get a list of models to evaluate\n",
    "def get_models():\n",
    " models = dict()\n",
    " trees = [10, 50, 100, 500, 1000, 5000]\n",
    " for n in trees:\n",
    " models[str(n)] = LGBMClassifier(n_estimators=n)\n",
    " return models\n",
    " \n",
    "# evaluate a give model using cross-validation\n",
    "def evaluate_model(model):\n",
    " cv = RepeatedStratifiedKFold(n_splits=10, n_repeats=3, random_state=1234)\n",
    " scores = cross_val_score(model, X, y, scoring='accuracy', cv=cv, n_jobs=-1)\n",
    " return scores\n",
    " \n",
    "# define dataset\n",
    "X, y = get_dataset()\n",
    "# get the models to evaluate\n",
    "models = get_models()\n",
    "# evaluate the models and store results\n",
    "results, names = list(), list()\n",
    "for name, model in models.items():\n",
    " scores = evaluate_model(model)\n",
    " results.append(scores)\n",
    " names.append(name)\n",
    " print('>%s %.3f (%.3f)' % (name, mean(scores), std(scores)))\n",
    "# plot model performance for comparison\n",
    "pyplot.boxplot(results, labels=names, showmeans=True)\n",
    "pyplot.show()"
   ]
  },
  {
   "cell_type": "code",
   "execution_count": null,
   "id": "1616477d",
   "metadata": {},
   "outputs": [],
   "source": []
  },
  {
   "cell_type": "markdown",
   "id": "3d5ce88b",
   "metadata": {},
   "source": [
    "#Explore Tree Depth\n",
    "# get a list of models to evaluate\n",
    "def get_models():\n",
    " models = dict()\n",
    " for i in range(1,11):\n",
    " models[str(i)] = LGBMClassifier(max_depth=i, num_leaves=2**i)\n",
    " return models\n",
    " \n",
    "# evaluate a give model using cross-validation\n",
    "def evaluate_model(model):\n",
    " cv = RepeatedStratifiedKFold(n_splits=10, n_repeats=3, random_state=1234)\n",
    " scores = cross_val_score(model, X, y, scoring='accuracy', cv=cv, n_jobs=-1)\n",
    " return scores\n",
    " \n",
    "# define dataset\n",
    "X, y = get_dataset()\n",
    "# get the models to evaluate\n",
    "models = get_models()\n",
    "# evaluate the models and store results\n",
    "results, names = list(), list()\n",
    "for name, model in models.items():\n",
    " scores = evaluate_model(model)\n",
    " results.append(scores)\n",
    " names.append(name)\n",
    " print('>%s %.3f (%.3f)' % (name, mean(scores), std(scores)))\n",
    "# plot model performance for comparison\n",
    "pyplot.boxplot(results, labels=names, showmeans=True)\n",
    "pyplot.show()\n",
    "\n"
   ]
  },
  {
   "cell_type": "code",
   "execution_count": null,
   "id": "2c7843dc",
   "metadata": {},
   "outputs": [],
   "source": []
  },
  {
   "cell_type": "markdown",
   "id": "039384a3",
   "metadata": {},
   "source": [
    "# Explore Learning Rate\n",
    "# get a list of models to evaluate\n",
    "def get_models():\n",
    " models = dict()\n",
    " rates = [0.0001, 0.001, 0.01, 0.1, 1.0]\n",
    " for r in rates:\n",
    " key = '%.4f' % r\n",
    " models[key] = LGBMClassifier(learning_rate=r)\n",
    " return models\n",
    " \n",
    "# evaluate a give model using cross-validation\n",
    "def evaluate_model(model):\n",
    " cv = RepeatedStratifiedKFold(n_splits=10, n_repeats=3, random_state=1234)\n",
    " scores = cross_val_score(model, X, y, scoring='accuracy', cv=cv, n_jobs=-1)\n",
    " return scores\n",
    " \n",
    "# define dataset\n",
    "X, y = get_dataset()\n",
    "# get the models to evaluate\n",
    "models = get_models()\n",
    "# evaluate the models and store results\n",
    "results, names = list(), list()\n",
    "for name, model in models.items():\n",
    " scores = evaluate_model(model)\n",
    " results.append(scores)\n",
    " names.append(name)\n",
    " print('>%s %.3f (%.3f)' % (name, mean(scores), std(scores)))\n",
    "# plot model performance for comparison\n",
    "pyplot.boxplot(results, labels=names, showmeans=True)\n",
    "pyplot.show()"
   ]
  },
  {
   "cell_type": "code",
   "execution_count": null,
   "id": "eba9bb7c",
   "metadata": {},
   "outputs": [],
   "source": []
  },
  {
   "cell_type": "markdown",
   "id": "fbc5c9e3",
   "metadata": {},
   "source": [
    "lgbm = LGBMRegressor(learning_rate=0.09,max_depth=-5,random_state=1234)\n",
    "lgbm.fit(X_train,y_train,eval_set=[(X_test,y_test),(X_train,y_train)],\n",
    "          verbose=20,eval_metric='logloss')"
   ]
  },
  {
   "cell_type": "markdown",
   "id": "365b55ea",
   "metadata": {},
   "source": [
    "y_pred = lgbm.predict(X_test)\n",
    "print('MAE: ', mean_absolute_error(y_test, y_pred))\n",
    "print('MSE: ', mean_squared_error(y_test, y_pred))\n",
    "print('RMSE:', np.sqrt(mean_squared_error(y_test, y_pred)))\n",
    "print(lgbm.score(X_train, y_train))"
   ]
  },
  {
   "cell_type": "markdown",
   "id": "ba6ed46f",
   "metadata": {},
   "source": [
    "play with some different learning rates"
   ]
  },
  {
   "cell_type": "markdown",
   "id": "56d7d9a4",
   "metadata": {},
   "source": [
    "lgbm = LGBMRegressor(learning_rate=0.05,max_depth=-5,random_state=1234)\n",
    "lgbm.fit(X_train,y_train,eval_set=[(X_test,y_test),(X_train,y_train)],\n",
    "          verbose=20,eval_metric='logloss')"
   ]
  },
  {
   "cell_type": "markdown",
   "id": "5dda9d81",
   "metadata": {
    "scrolled": true
   },
   "source": [
    "y_pred = lgbm.predict(X_test)\n",
    "print('MAE: ', mean_absolute_error(y_test, y_pred))\n",
    "print('MSE: ', mean_squared_error(y_test, y_pred))\n",
    "print('RMSE:', np.sqrt(mean_squared_error(y_test, y_pred)))\n",
    "print(lgbm.score(X_train, y_train))"
   ]
  },
  {
   "cell_type": "code",
   "execution_count": null,
   "id": "491a7e4b",
   "metadata": {},
   "outputs": [],
   "source": []
  },
  {
   "cell_type": "code",
   "execution_count": null,
   "id": "6f624b5d",
   "metadata": {},
   "outputs": [],
   "source": []
  },
  {
   "cell_type": "code",
   "execution_count": null,
   "id": "c99f9106",
   "metadata": {},
   "outputs": [],
   "source": [
    "# defining parameters\n",
    "params = {\n",
    "    'task': 'train', \n",
    "    'objective': 'regression',\n",
    "    'num_leaves': 10,\n",
    "    'learnnig_rate': 0.05,\n",
    "    'metric': 'l2',\n",
    "    'verbose': -1\n",
    "}"
   ]
  },
  {
   "cell_type": "code",
   "execution_count": null,
   "id": "e50725a5",
   "metadata": {},
   "outputs": [],
   "source": [
    "params = {\n",
    "    'task': 'train', \n",
    "    'boosting': 'gbdt',\n",
    "    'objective': 'regression',\n",
    "    'num_leaves': 10,\n",
    "    'learnnig_rage': 0.05,\n",
    "    'metric': {'l2','l1'},\n",
    "    'verbose': -1\n",
    "}"
   ]
  },
  {
   "cell_type": "code",
   "execution_count": null,
   "id": "3c60505a",
   "metadata": {},
   "outputs": [],
   "source": [
    "#gbm = lgb.LGBMRegressor(params)\n",
    "lgbm3 = lgb.LGBMRegressor(**params,random_state=1234)\n",
    "lgbm3.fit(X_train,y_train,eval_set=[(X_test,y_test),(X_train,y_train)],\n",
    "          verbose=20,eval_metric='logloss')"
   ]
  },
  {
   "cell_type": "markdown",
   "id": "bcf244a3",
   "metadata": {},
   "source": [
    "# define the model\n",
    "lgbm3 = LGBMRegressor(**params, random_state=1234)\n",
    "lgbm3.fit(X_train, y_train)"
   ]
  },
  {
   "cell_type": "markdown",
   "id": "cc9c2f11",
   "metadata": {},
   "source": [
    "y_pred = lgbm3.predict(X_test)\n",
    "print('MAE: ', mean_absolute_error(y_test, y_pred))\n",
    "print('MSE: ', mean_squared_error(y_test, y_pred))\n",
    "print('RMSE:', np.sqrt(mean_squared_error(y_test, y_pred)))\n",
    "print(lgbm.score(X_train, y_train))"
   ]
  },
  {
   "cell_type": "code",
   "execution_count": null,
   "id": "29d87fb0",
   "metadata": {},
   "outputs": [],
   "source": []
  },
  {
   "cell_type": "markdown",
   "id": "be100486",
   "metadata": {},
   "source": [
    "for dimensionality reduction:\n",
    "    lasso, ridge"
   ]
  },
  {
   "cell_type": "code",
   "execution_count": null,
   "id": "4e54afb9",
   "metadata": {},
   "outputs": [],
   "source": []
  },
  {
   "cell_type": "code",
   "execution_count": null,
   "id": "3eb5a387",
   "metadata": {},
   "outputs": [],
   "source": []
  },
  {
   "cell_type": "code",
   "execution_count": null,
   "id": "9edec710",
   "metadata": {},
   "outputs": [],
   "source": []
  },
  {
   "cell_type": "code",
   "execution_count": null,
   "id": "792925a3",
   "metadata": {},
   "outputs": [],
   "source": []
  },
  {
   "cell_type": "markdown",
   "id": "4f40bda3",
   "metadata": {},
   "source": []
  }
 ],
 "metadata": {
  "kernelspec": {
   "display_name": "Python 3 (ipykernel)",
   "language": "python",
   "name": "python3"
  },
  "language_info": {
   "codemirror_mode": {
    "name": "ipython",
    "version": 3
   },
   "file_extension": ".py",
   "mimetype": "text/x-python",
   "name": "python",
   "nbconvert_exporter": "python",
   "pygments_lexer": "ipython3",
   "version": "3.9.12"
  }
 },
 "nbformat": 4,
 "nbformat_minor": 5
}
