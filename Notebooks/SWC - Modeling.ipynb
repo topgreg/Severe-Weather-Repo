{
 "cells": [
  {
   "cell_type": "markdown",
   "id": "a4102f31",
   "metadata": {},
   "source": [
    "# Severe Weather Capstone - Modeling\n",
    "\n",
    "Greg Welliver   "
   ]
  },
  {
   "cell_type": "code",
   "execution_count": 1,
   "id": "ba529c28",
   "metadata": {},
   "outputs": [],
   "source": [
    "# Import relevant libraries and packages.\n",
    "import numpy as np \n",
    "import pandas as pd \n",
    "import matplotlib.pyplot as plt\n",
    "from matplotlib import rc\n",
    "import matplotlib.ticker as plticker\n",
    "import seaborn as sns\n",
    "sns.set()\n",
    "from sklearn.metrics import mean_squared_error, r2_score\n",
    "from sklearn.model_selection import train_test_split\n",
    "from sklearn import linear_model, preprocessing \n",
    "import warnings\n",
    "from scipy import stats\n",
    "import matplotlib as mpl\n",
    "import matplotlib.cm as cm\n",
    "from matplotlib.colors import ListedColormap\n",
    "import lightgbm as lgb\n",
    "from lightgbm import LGBMRegressor\n",
    "from numpy import mean\n",
    "from numpy import std\n",
    "from functools import partial\n",
    "%matplotlib inline\n",
    "\n",
    "import statsmodels.api as sm\n",
    "from statsmodels.graphics.api import abline_plot\n",
    "from scipy import stats\n",
    "\n",
    "from sklearn.datasets import fetch_openml\n",
    "from sklearn import linear_model, preprocessing, tree, svm, datasets, metrics\n",
    "from sklearn.metrics import accuracy_score, classification_report, confusion_matrix, roc_curve, roc_auc_score, auc, mean_squared_error, mean_absolute_error, r2_score, f1_score, log_loss\n",
    "from sklearn.metrics import ConfusionMatrixDisplay\n",
    "from sklearn.metrics import precision_recall_fscore_support as score\n",
    "from sklearn.metrics import classification_report\n",
    "from sklearn.metrics import confusion_matrix\n",
    "from sklearn.metrics import precision_recall_curve\n",
    "# print('MAE: ', mean_absolute_error(y_test, y_pred))\n",
    "# print('MSE: ', mean_squared_error(y_test, y_pred)) \n",
    "\n",
    "from sklearn.ensemble import RandomForestClassifier\n",
    "from sklearn.ensemble import RandomForestRegressor\n",
    "from sklearn.ensemble import GradientBoostingClassifier\n",
    "from sklearn.ensemble import VotingClassifier\n",
    "from sklearn.ensemble import ExtraTreesRegressor\n",
    "from sklearn.linear_model import LogisticRegression\n",
    "from sklearn.naive_bayes import GaussianNB\n",
    "from sklearn.tree import DecisionTreeClassifier\n",
    "from sklearn.tree import export_graphviz\n",
    "\n",
    "from sklearn.svm import SVC\n",
    "from sklearn.neighbors import KNeighborsClassifier\n",
    "from sklearn.preprocessing import OneHotEncoder as OHE\n",
    "import sklearn.model_selection\n",
    "from sklearn.model_selection import train_test_split\n",
    "from sklearn.model_selection import KFold\n",
    "from sklearn.model_selection import GridSearchCV, RandomizedSearchCV\n",
    "from sklearn.experimental import enable_iterative_imputer\n",
    "from sklearn.impute import IterativeImputer\n",
    "from sklearn.model_selection import cross_val_score\n",
    "from sklearn.model_selection import RepeatedKFold\n",
    "\n",
    "import xgboost\n",
    "from xgboost import XGBClassifier\n",
    "import warnings\n",
    "from subprocess import call\n",
    "from IPython.display import Image\n",
    "from datetime import datetime, timedelta, date\n",
    "import os\n",
    "import plotly.graph_objects as go\n",
    "import itertools\n",
    "from io import StringIO  \n",
    "import pydotplus\n",
    "\n",
    "# Seaborn settings\n",
    "sns.set_context('notebook')\n",
    "#sns.set_style(\"whitegrid\")\n",
    "#sns.set_style(\"white\")\n",
    "style_set = sns.set_style('whitegrid')\n",
    "pd.options.display.float_format = '{:,}'.format\n",
    "color_choice1 = 'plum'\n",
    "color_choice2 = 'lightblue'\n",
    "color_choice3 = 'lightgreen'\n",
    "#ax.yaxis.set_major_formatter('{x:,.0f}')\n",
    "#sns.set_context('notebook', font_scale = 4)\n",
    "\n",
    "\n",
    "%matplotlib inline\n",
    "import pandas as pd\n",
    "#from mpl_toolkits.basemap import Basemap\n",
    "\n",
    "\n",
    "import geopandas as gpd\n",
    "from shapely.geometry import Point, Polygon\n",
    "import contextily as ctx\n",
    "\n",
    "from sklearn.feature_extraction.text import CountVectorizer\n"
   ]
  },
  {
   "cell_type": "markdown",
   "id": "fbf95157",
   "metadata": {},
   "source": [
    "## Load the data\n",
    "\n"
   ]
  },
  {
   "cell_type": "code",
   "execution_count": 2,
   "id": "892bc82a",
   "metadata": {},
   "outputs": [],
   "source": [
    "# load the data\n",
    "X_train = pd.read_parquet(\"../Data/X_train.pqt\")\n",
    "X_test = pd.read_parquet(\"../Data/X_test.pqt\")\n",
    "y_train = pd.read_parquet(\"../Data/y_train.pqt\") \n",
    "y_test = pd.read_parquet(\"../Data/y_test.pqt\")\n",
    "\n",
    "\n",
    "X = pd.concat([X_train, X_test])\n",
    "y = pd.concat([y_train, y_test])\n",
    "\n",
    "# , index_col =[0]\n",
    "# load data\n",
    "#df = pd.read_parquet(\"../Data/all_storm_data11.pqt\")\n",
    "#df = pd.read_csv(\"../Data/all_storm_data4.csv\")"
   ]
  },
  {
   "cell_type": "code",
   "execution_count": 3,
   "id": "3e9f0015",
   "metadata": {},
   "outputs": [],
   "source": [
    "# X_train = X_train.dropna(axis=0)\n",
    "# X_test = X_test.dropna(axis=0)\n",
    "# y_train = y_train.dropna(axis=0)\n",
    "# y_test = y_test.dropna(axis=0)\n",
    "# X_train = X_train.dropna(axis=0).reset_index()\n",
    "# X_test = X_test.dropna(axis=0).reset_index()\n",
    "# y_train = y_train.dropna(axis=0).reset_index()\n",
    "# y_test = y_test.dropna(axis=0).reset_index()\n"
   ]
  },
  {
   "cell_type": "code",
   "execution_count": 4,
   "id": "d9eaae71",
   "metadata": {},
   "outputs": [
    {
     "data": {
      "text/plain": [
       "603779"
      ]
     },
     "execution_count": 4,
     "metadata": {},
     "output_type": "execute_result"
    }
   ],
   "source": [
    "len(X_train)"
   ]
  },
  {
   "cell_type": "code",
   "execution_count": 5,
   "id": "04931cdc",
   "metadata": {},
   "outputs": [
    {
     "data": {
      "text/plain": [
       "150945"
      ]
     },
     "execution_count": 5,
     "metadata": {},
     "output_type": "execute_result"
    }
   ],
   "source": [
    "len(X_test)"
   ]
  },
  {
   "cell_type": "markdown",
   "id": "9af4b85f",
   "metadata": {},
   "source": [
    "# <font color='orange'>Random Forest Model</font>\n"
   ]
  },
  {
   "cell_type": "code",
   "execution_count": 6,
   "id": "62e54505",
   "metadata": {},
   "outputs": [],
   "source": [
    "# set the parameter grid\n",
    "param_grid = {\n",
    "    'n_estimators': [25, 50, 100, 150, 200],\n",
    "    'max_features': ['auto', 'sqrt', 'log2', None],\n",
    "    'max_depth': [3, 6, 9],\n",
    "    'max_leaf_nodes': [3, 6, 9],\n",
    "    'criterion': ['mse', 'mae']\n",
    "}"
   ]
  },
  {
   "cell_type": "code",
   "execution_count": 7,
   "id": "1b3f58b8",
   "metadata": {},
   "outputs": [],
   "source": [
    "# markdown since it takes so long to run\n",
    "# random_search = RandomizedSearchCV(RandomForestRegressor(random_state=1234),\n",
    "#                                    param_grid, n_jobs=-1)\n",
    "# random_search.fit(X_train, y_train.values.ravel())\n",
    "# print(random_search.best_estimator_)"
   ]
  },
  {
   "cell_type": "markdown",
   "id": "70325fc9",
   "metadata": {},
   "source": [
    "output: \n",
    "RandomForestRegressor(max_depth=3, max_features='log2', max_leaf_nodes=3,\n",
    "                      n_estimators=150, random_state=1234)"
   ]
  },
  {
   "cell_type": "code",
   "execution_count": 8,
   "id": "82da61bf",
   "metadata": {},
   "outputs": [
    {
     "data": {
      "text/plain": [
       "RandomForestRegressor(max_depth=3, max_features='log2', max_leaf_nodes=3,\n",
       "                      n_estimators=150, random_state=1234)"
      ]
     },
     "execution_count": 8,
     "metadata": {},
     "output_type": "execute_result"
    }
   ],
   "source": [
    "rf_reg = RandomForestRegressor(max_depth=3,\n",
    "                                      max_leaf_nodes=3,\n",
    "                                      n_estimators=150,\n",
    "                                      max_features='log2',\n",
    "                                      random_state=1234)\n",
    "rf_reg.fit(X_train, y_train.values.ravel())"
   ]
  },
  {
   "cell_type": "code",
   "execution_count": 9,
   "id": "adc8c501",
   "metadata": {},
   "outputs": [
    {
     "name": "stdout",
     "output_type": "stream",
     "text": [
      "MAE:  162605.83467728167\n",
      "MSE:  6075462975858.569\n",
      "RMSE: 2464845.4263621825\n"
     ]
    }
   ],
   "source": [
    "y_pred = rf_reg.predict(X_test)\n",
    "print('MAE: ', mean_absolute_error(y_test, y_pred))\n",
    "print('MSE: ', mean_squared_error(y_test, y_pred))\n",
    "print('RMSE:', np.sqrt(mean_squared_error(y_test, y_pred)))\n"
   ]
  },
  {
   "cell_type": "markdown",
   "id": "ff426929",
   "metadata": {},
   "source": [
    "First run of model scores:\n",
    "- MAE:  382342.13392639376\n",
    "- MSE:  433806680086561.1\n",
    "- RMSE: 20828026.312796928"
   ]
  },
  {
   "cell_type": "markdown",
   "id": "20ff3981",
   "metadata": {},
   "source": [
    "Run scores after removing all zeroes:\n",
    "- MAE:  1058028.2120366283\n",
    "- MSE:  282319113846858.0\n",
    "- RMSE: 16802354.41379743"
   ]
  },
  {
   "cell_type": "markdown",
   "id": "fbe1c602",
   "metadata": {},
   "source": [
    "Run scores after removing all zeros & top 100 property damage:\n",
    "- MAE:  672445.1295545553\n",
    "- MSE:  62743486924408.66\n",
    "- RMSE: 7921078.64652338\n",
    "\n"
   ]
  },
  {
   "cell_type": "markdown",
   "id": "201934d9",
   "metadata": {},
   "source": [
    "Run scores after removing all zeros & top 300 property damage:\n",
    "- MAE:  493293.39488259994\n",
    "- MSE:  18625206101190.57\n",
    "- RMSE: 4315693.003584774\n"
   ]
  },
  {
   "cell_type": "markdown",
   "id": "314fcfe1",
   "metadata": {},
   "source": [
    "Run scores after removing top 300 property damage, but keeping zeros:\n",
    "- MAE:  168564.59819218048\n",
    "- MSE:  6248700238901.123\n",
    "- RMSE: 2499740.034263788\n",
    "\n",
    "#### This is the best performing model thus far"
   ]
  },
  {
   "cell_type": "markdown",
   "id": "556c7b68",
   "metadata": {},
   "source": [
    "## now try removing some features"
   ]
  },
  {
   "cell_type": "markdown",
   "id": "e651ea94",
   "metadata": {},
   "source": [
    "Run scores after removing top 300 property damage, but keeping zeros, also removed BEGIN_TIME and STATE:\n",
    "- MAE:  167153.7628619848\n",
    "- MSE:  6226045290341.035\n",
    "- RMSE: 2495204.458624791\n"
   ]
  },
  {
   "cell_type": "markdown",
   "id": "6ccd41f3",
   "metadata": {},
   "source": [
    "Run scores after removing top 300 property damage, but keeping zeros, also removed BEGIN_TIME and STATE, POPULATION:\n",
    "- MAE:  162605.83467728167\n",
    "- MSE:  6075462975858.569\n",
    "- RMSE: 2464845.4263621825"
   ]
  },
  {
   "cell_type": "code",
   "execution_count": null,
   "id": "32a3931f",
   "metadata": {},
   "outputs": [],
   "source": []
  },
  {
   "cell_type": "code",
   "execution_count": null,
   "id": "ea48425d",
   "metadata": {},
   "outputs": [],
   "source": []
  },
  {
   "cell_type": "markdown",
   "id": "a42e4c6a",
   "metadata": {},
   "source": [
    "## question -  do principal components analysis? other ways to eliminate variables faster?"
   ]
  },
  {
   "cell_type": "markdown",
   "id": "cc8d05ad",
   "metadata": {},
   "source": [
    "## question -  how think about these scores?"
   ]
  },
  {
   "cell_type": "code",
   "execution_count": 10,
   "id": "d833327a",
   "metadata": {
    "scrolled": true
   },
   "outputs": [
    {
     "data": {
      "text/plain": [
       "150945"
      ]
     },
     "execution_count": 10,
     "metadata": {},
     "output_type": "execute_result"
    }
   ],
   "source": [
    "len(X_test)"
   ]
  },
  {
   "cell_type": "code",
   "execution_count": 11,
   "id": "8b51b1bf",
   "metadata": {},
   "outputs": [
    {
     "data": {
      "text/plain": [
       "150945"
      ]
     },
     "execution_count": 11,
     "metadata": {},
     "output_type": "execute_result"
    }
   ],
   "source": [
    "len(y_test)"
   ]
  },
  {
   "cell_type": "code",
   "execution_count": 12,
   "id": "070d2485",
   "metadata": {},
   "outputs": [
    {
     "data": {
      "text/plain": [
       "150945"
      ]
     },
     "execution_count": 12,
     "metadata": {},
     "output_type": "execute_result"
    }
   ],
   "source": [
    "len(y_pred)"
   ]
  },
  {
   "cell_type": "code",
   "execution_count": 13,
   "id": "ae09aa08",
   "metadata": {},
   "outputs": [
    {
     "data": {
      "image/png": "[encoded data removed]",
      "text/plain": [
       "<Figure size 432x288 with 1 Axes>"
      ]
     },
     "metadata": {
      "needs_background": "light"
     },
     "output_type": "display_data"
    }
   ],
   "source": [
    "plt.scatter(y_test, y_pred, color = 'blue', alpha=0.2)\n",
    "\n",
    "plt.title('Actual Versus Predicted Values')\n",
    "plt.xlabel('Actual')\n",
    "plt.ylabel('Prredicted')\n",
    "plt.show() "
   ]
  },
  {
   "cell_type": "markdown",
   "id": "eef3023e",
   "metadata": {},
   "source": [
    "Plot on logarithmic scale"
   ]
  },
  {
   "cell_type": "code",
   "execution_count": 14,
   "id": "b21f767a",
   "metadata": {},
   "outputs": [
    {
     "data": {
      "image/png": "[encoded data removed]",
      "text/plain": [
       "<Figure size 432x288 with 1 Axes>"
      ]
     },
     "metadata": {
      "needs_background": "light"
     },
     "output_type": "display_data"
    }
   ],
   "source": [
    "plt.scatter(y_test, y_pred, color = 'blue', alpha=0.2)\n",
    "plt.title('Actual Versus Predicted Values')\n",
    "plt.xlabel('Actual')\n",
    "plt.ylabel('Prredicted')\n",
    "plt.xscale(\"log\")\n",
    "plt.yscale(\"log\")\n",
    "plt.show()"
   ]
  },
  {
   "cell_type": "code",
   "execution_count": null,
   "id": "94379d50",
   "metadata": {},
   "outputs": [],
   "source": []
  },
  {
   "cell_type": "code",
   "execution_count": 15,
   "id": "bea2ee6c",
   "metadata": {},
   "outputs": [
    {
     "name": "stdout",
     "output_type": "stream",
     "text": [
      "24\n"
     ]
    },
    {
     "data": {
      "image/png": "[encoded data removed]",
      "text/plain": [
       "<Figure size 720x720 with 1 Axes>"
      ]
     },
     "metadata": {
      "needs_background": "light"
     },
     "output_type": "display_data"
    }
   ],
   "source": [
    "feature_importance = rf_reg.feature_importances_\n",
    "# make importances relative to max importance\n",
    "feature_importance = 100.0 * (feature_importance / feature_importance.max())[:30]\n",
    "sorted_idx = np.argsort(feature_importance)[:30]\n",
    "\n",
    "pos = np.arange(sorted_idx.shape[0]) + .5\n",
    "print(pos.size)\n",
    "sorted_idx.size\n",
    "plt.figure(figsize=(10,10))\n",
    "plt.barh(pos, feature_importance[sorted_idx], align='center')\n",
    "plt.yticks(pos, X.columns[sorted_idx])\n",
    "plt.xlabel('Relative Importance')\n",
    "plt.title('Variable Importance')\n",
    "plt.show()"
   ]
  },
  {
   "cell_type": "code",
   "execution_count": null,
   "id": "ee17e486",
   "metadata": {},
   "outputs": [],
   "source": []
  },
  {
   "cell_type": "code",
   "execution_count": null,
   "id": "83e23b3f",
   "metadata": {},
   "outputs": [],
   "source": []
  },
  {
   "cell_type": "code",
   "execution_count": null,
   "id": "e2e82a61",
   "metadata": {},
   "outputs": [],
   "source": []
  },
  {
   "cell_type": "markdown",
   "id": "26dd2a23",
   "metadata": {},
   "source": [
    "# <font color='orange'>Light GBM</font>"
   ]
  },
  {
   "cell_type": "code",
   "execution_count": 16,
   "id": "162fb86b",
   "metadata": {},
   "outputs": [
    {
     "name": "stdout",
     "output_type": "stream",
     "text": [
      "[20]\ttraining's l2: 4.71121e+12\tvalid_0's l2: 5.83492e+12\n",
      "[40]\ttraining's l2: 4.3526e+12\tvalid_0's l2: 5.7905e+12\n",
      "[60]\ttraining's l2: 4.13464e+12\tvalid_0's l2: 5.78904e+12\n",
      "[80]\ttraining's l2: 4.00765e+12\tvalid_0's l2: 5.79107e+12\n",
      "[100]\ttraining's l2: 3.91604e+12\tvalid_0's l2: 5.79744e+12\n"
     ]
    },
    {
     "data": {
      "text/plain": [
       "LGBMRegressor(learning_rate=0.09, max_depth=-5, random_state=1234)"
      ]
     },
     "execution_count": 16,
     "metadata": {},
     "output_type": "execute_result"
    }
   ],
   "source": [
    "lgbm = lgb.LGBMRegressor(learning_rate=0.09,max_depth=-5,random_state=1234)\n",
    "lgbm.fit(X_train,y_train,eval_set=[(X_test,y_test),(X_train,y_train)],\n",
    "          verbose=20,eval_metric='logloss')"
   ]
  },
  {
   "cell_type": "code",
   "execution_count": 17,
   "id": "f60fbd20",
   "metadata": {},
   "outputs": [
    {
     "name": "stdout",
     "output_type": "stream",
     "text": [
      "MAE:  148307.4896570572\n",
      "MSE:  5797444191238.25\n",
      "RMSE: 2407788.2363775787\n",
      "0.29527741081405834\n"
     ]
    }
   ],
   "source": [
    "y_pred = lgbm.predict(X_test)\n",
    "print('MAE: ', mean_absolute_error(y_test, y_pred))\n",
    "print('MSE: ', mean_squared_error(y_test, y_pred))\n",
    "print('RMSE:', np.sqrt(mean_squared_error(y_test, y_pred)))\n",
    "print(lgbm.score(X_train, y_train))"
   ]
  },
  {
   "cell_type": "code",
   "execution_count": null,
   "id": "8e885ba0",
   "metadata": {},
   "outputs": [],
   "source": []
  },
  {
   "cell_type": "code",
   "execution_count": null,
   "id": "4da99f0d",
   "metadata": {},
   "outputs": [],
   "source": []
  },
  {
   "cell_type": "code",
   "execution_count": null,
   "id": "6401a20a",
   "metadata": {},
   "outputs": [],
   "source": []
  },
  {
   "cell_type": "markdown",
   "id": "a6978a84",
   "metadata": {},
   "source": [
    "#### Now use the LightGBM model as a final model and make predictions for regression"
   ]
  },
  {
   "cell_type": "code",
   "execution_count": 18,
   "id": "389fe139",
   "metadata": {},
   "outputs": [
    {
     "data": {
      "text/plain": [
       "LGBMRegressor(random_state=1234)"
      ]
     },
     "execution_count": 18,
     "metadata": {},
     "output_type": "execute_result"
    }
   ],
   "source": [
    "# define the model\n",
    "lgbm2 = LGBMRegressor(random_state=1234)\n",
    "lgbm2.fit(X_train, y_train)"
   ]
  },
  {
   "cell_type": "code",
   "execution_count": 19,
   "id": "8dcf8927",
   "metadata": {},
   "outputs": [
    {
     "name": "stdout",
     "output_type": "stream",
     "text": [
      "MAE:  148356.00313875749\n",
      "MSE:  5847871803753.926\n",
      "RMSE: 2418237.334041869\n",
      "0.29527741081405834\n"
     ]
    }
   ],
   "source": [
    "y_pred = lgbm2.predict(X_test)\n",
    "print('MAE: ', mean_absolute_error(y_test, y_pred))\n",
    "print('MSE: ', mean_squared_error(y_test, y_pred))\n",
    "print('RMSE:', np.sqrt(mean_squared_error(y_test, y_pred)))\n",
    "print(lgbm.score(X_train, y_train))"
   ]
  },
  {
   "cell_type": "code",
   "execution_count": null,
   "id": "2d89073b",
   "metadata": {},
   "outputs": [],
   "source": []
  },
  {
   "cell_type": "code",
   "execution_count": 20,
   "id": "d2e5b9a1",
   "metadata": {},
   "outputs": [
    {
     "data": {
      "text/plain": [
       "Text(0, 0.5, 'Predicted')"
      ]
     },
     "execution_count": 20,
     "metadata": {},
     "output_type": "execute_result"
    },
    {
     "data": {
      "image/png": "[encoded data removed]",
      "text/plain": [
       "<Figure size 432x288 with 1 Axes>"
      ]
     },
     "metadata": {
      "needs_background": "light"
     },
     "output_type": "display_data"
    }
   ],
   "source": [
    "plt.scatter(y_test, y_pred, c='green', alpha=0.2)\n",
    "plt.xlabel(\"Actual\")\n",
    "plt.ylabel(\"Predicted\")"
   ]
  },
  {
   "cell_type": "code",
   "execution_count": 21,
   "id": "0c572e62",
   "metadata": {},
   "outputs": [
    {
     "data": {
      "image/png": "[encoded data removed]",
      "text/plain": [
       "<Figure size 432x288 with 1 Axes>"
      ]
     },
     "metadata": {
      "needs_background": "light"
     },
     "output_type": "display_data"
    }
   ],
   "source": [
    "plt.scatter(y_test, y_pred, color = 'green', alpha=0.2)\n",
    "plt.title('Actual Versus Predicted Values')\n",
    "plt.xlabel('Actual')\n",
    "plt.ylabel('Prredicted')\n",
    "plt.xscale(\"log\")\n",
    "plt.yscale(\"log\")\n",
    "plt.show()"
   ]
  },
  {
   "cell_type": "code",
   "execution_count": null,
   "id": "516967c0",
   "metadata": {},
   "outputs": [],
   "source": []
  },
  {
   "cell_type": "markdown",
   "id": "50fe625a",
   "metadata": {},
   "source": [
    "plt.figure(figsize=(10,10))\n",
    "sns.regplot(expected_y, predicted_y, fit_reg=True, scatter_kws={\"s\": 100})"
   ]
  },
  {
   "cell_type": "code",
   "execution_count": null,
   "id": "1a6c4d29",
   "metadata": {},
   "outputs": [],
   "source": []
  },
  {
   "cell_type": "markdown",
   "id": "d12f484f",
   "metadata": {},
   "source": [
    "XXXXXXXXXXXXXXXXXXX"
   ]
  },
  {
   "cell_type": "code",
   "execution_count": null,
   "id": "8515cd13",
   "metadata": {},
   "outputs": [],
   "source": []
  },
  {
   "cell_type": "code",
   "execution_count": 54,
   "id": "ecbe43f5",
   "metadata": {},
   "outputs": [],
   "source": [
    "# defining parameters\n",
    "params = {\n",
    "    'task': 'train', \n",
    "    'objective': 'regression',\n",
    "    'num_leaves': 10,\n",
    "    'learnnig_rate': 0.05,\n",
    "    'metric': 'l2',\n",
    "    'verbose': -1\n",
    "}"
   ]
  },
  {
   "cell_type": "markdown",
   "id": "e20a4d06",
   "metadata": {},
   "source": [
    "params = {\n",
    "    'task': 'train', \n",
    "    'boosting': 'gbdt',\n",
    "    'objective': 'regression',\n",
    "    'num_leaves': 10,\n",
    "    'learnnig_rage': 0.05,\n",
    "    'metric': {'l2','l1'},\n",
    "    'verbose': -1\n",
    "}"
   ]
  },
  {
   "cell_type": "markdown",
   "id": "b8033afc",
   "metadata": {},
   "source": [
    "#gbm = lgb.LGBMRegressor(params)\n",
    "lgbm3 = lgb.LGBMRegressor(**params,random_state=1234)\n",
    "lgbm3.fit(X_train,y_train,eval_set=[(X_test,y_test),(X_train,y_train)],\n",
    "          verbose=20,eval_metric='logloss')"
   ]
  },
  {
   "cell_type": "code",
   "execution_count": 57,
   "id": "423dbf2b",
   "metadata": {},
   "outputs": [
    {
     "data": {
      "text/plain": [
       "LGBMRegressor(learnnig_rate=0.05, metric='l2', num_leaves=10,\n",
       "              objective='regression', task='train', verbose=-1)"
      ]
     },
     "execution_count": 57,
     "metadata": {},
     "output_type": "execute_result"
    }
   ],
   "source": [
    "# define the model\n",
    "lgbm3 = lgb.LGBMRegressor(**params, random_state=1234)\n",
    "lgbm3.fit(X_train, y_train)"
   ]
  },
  {
   "cell_type": "code",
   "execution_count": 58,
   "id": "e5c6811f",
   "metadata": {},
   "outputs": [
    {
     "name": "stdout",
     "output_type": "stream",
     "text": [
      "MAE:  151579.0699708018\n",
      "MSE:  5823972794346.13\n",
      "RMSE: 2413290.8640166293\n",
      "0.29527741081405834\n"
     ]
    }
   ],
   "source": [
    "y_pred = lgbm3.predict(X_test)\n",
    "print('MAE: ', mean_absolute_error(y_test, y_pred))\n",
    "print('MSE: ', mean_squared_error(y_test, y_pred))\n",
    "print('RMSE:', np.sqrt(mean_squared_error(y_test, y_pred)))\n",
    "print(lgbm.score(X_train, y_train))"
   ]
  },
  {
   "cell_type": "code",
   "execution_count": null,
   "id": "9e3cc39d",
   "metadata": {},
   "outputs": [],
   "source": []
  },
  {
   "cell_type": "code",
   "execution_count": null,
   "id": "37261b09",
   "metadata": {},
   "outputs": [],
   "source": [
    "plt.scatter(y_test, y_pred, c='green', alpha=0.2)\n",
    "plt.xlabel(\"Actual\")\n",
    "plt.ylabel(\"Predicted\")"
   ]
  },
  {
   "cell_type": "code",
   "execution_count": null,
   "id": "fe8554b6",
   "metadata": {},
   "outputs": [],
   "source": [
    "plt.scatter(y_test, y_pred, color = 'green', alpha=0.2)\n",
    "plt.title('Actual Versus Predicted Values')\n",
    "plt.xlabel('Actual')\n",
    "plt.ylabel('Prredicted')\n",
    "plt.xscale(\"log\")\n",
    "plt.yscale(\"log\")\n",
    "plt.show()"
   ]
  },
  {
   "cell_type": "code",
   "execution_count": null,
   "id": "a6ad8e82",
   "metadata": {},
   "outputs": [],
   "source": []
  },
  {
   "cell_type": "code",
   "execution_count": null,
   "id": "286f5820",
   "metadata": {},
   "outputs": [],
   "source": []
  },
  {
   "cell_type": "code",
   "execution_count": null,
   "id": "cdbd0d83",
   "metadata": {},
   "outputs": [],
   "source": []
  },
  {
   "cell_type": "code",
   "execution_count": null,
   "id": "a88193f0",
   "metadata": {},
   "outputs": [],
   "source": []
  },
  {
   "cell_type": "code",
   "execution_count": null,
   "id": "42a89511",
   "metadata": {},
   "outputs": [],
   "source": []
  },
  {
   "cell_type": "code",
   "execution_count": null,
   "id": "a79dae80",
   "metadata": {},
   "outputs": [],
   "source": []
  },
  {
   "cell_type": "code",
   "execution_count": 66,
   "id": "b83a2a44",
   "metadata": {},
   "outputs": [],
   "source": [
    "param_grid = {\n",
    "    'learning_rate': [0.1, 0.3, 0.6, 0.9],\n",
    "    'max_depth': [2, 3, 6, 9],\n",
    "    'num_leaves': [25, 50, 100, 150],\n",
    "    'criterion': ['mse', 'mae', 'rmse'],\n",
    "    'max_leaf_nodes': [3, 6, 9, 12]\n",
    "}"
   ]
  },
  {
   "cell_type": "code",
   "execution_count": null,
   "id": "3f10f333",
   "metadata": {},
   "outputs": [],
   "source": [
    "# markdown since it takes so long to run\n",
    "random_search = RandomizedSearchCV(LGBMRegressor(random_state=1234),\n",
    "                                   param_grid, n_jobs=-1)\n",
    "random_search.fit(X_train, y_train.values.ravel())\n",
    "print(random_search.best_estimator_)"
   ]
  },
  {
   "cell_type": "markdown",
   "id": "b8c50d0d",
   "metadata": {},
   "source": [
    "Note from article: The rule of thumb is to set early_stopping_rounds at 10% of your num_iterations.\n",
    "\n"
   ]
  },
  {
   "cell_type": "code",
   "execution_count": null,
   "id": "e1210baa",
   "metadata": {},
   "outputs": [],
   "source": []
  },
  {
   "cell_type": "code",
   "execution_count": null,
   "id": "5373471a",
   "metadata": {},
   "outputs": [],
   "source": []
  },
  {
   "cell_type": "code",
   "execution_count": null,
   "id": "64c45f59",
   "metadata": {},
   "outputs": [],
   "source": [
    "# loading data\n",
    "lgb_train = lgb.Dataset(X_train, y_train)\n",
    "lgb_eval = lgb.Dataset(X_test, y_test, reference=lgb_train)"
   ]
  },
  {
   "cell_type": "code",
   "execution_count": null,
   "id": "efb8a679",
   "metadata": {},
   "outputs": [],
   "source": [
    "# fitting the model\n",
    "model = lgb.train(params,\n",
    "                 train_set=lgb_train,\n",
    "                 valid_sets=lgb_eval,\n",
    "                 early_stopping_rounds=30)"
   ]
  },
  {
   "cell_type": "code",
   "execution_count": null,
   "id": "ac1c5b4f",
   "metadata": {},
   "outputs": [],
   "source": [
    "# prediction\n",
    "y_pred = model.predict(X_test)\n",
    "\n",
    "# accuracy check\n",
    "mse = mean_squared_error(y_test, y_pred)\n",
    "rmse = mse**(0.5)\n",
    "print(\"MSE: %.2f\" % mse)\n",
    "print(\"RMSE: %.2f\" % rmse) \n",
    " \n"
   ]
  },
  {
   "cell_type": "code",
   "execution_count": null,
   "id": "cddee106",
   "metadata": {},
   "outputs": [],
   "source": [
    "# plotting feature importance\n",
    "lgb.plot_importance(model, height=.5)"
   ]
  },
  {
   "cell_type": "code",
   "execution_count": null,
   "id": "0f0d560d",
   "metadata": {},
   "outputs": [],
   "source": []
  },
  {
   "cell_type": "code",
   "execution_count": null,
   "id": "148ae368",
   "metadata": {},
   "outputs": [],
   "source": []
  },
  {
   "cell_type": "code",
   "execution_count": null,
   "id": "9a28e7d1",
   "metadata": {},
   "outputs": [],
   "source": [
    "# example: https://github.com/microsoft/LightGBM/blob/master/examples/python-guide/simple_example.py\n",
    "\n",
    "# create dataset for lightgbm\n",
    "lgb_train = lgb.Dataset(X_train, y_train)\n",
    "lgb_eval = lgb.Dataset(X_test, y_test, reference=lgb_train)\n",
    "\n",
    "# specify your configurations as a dict\n",
    "params = {\n",
    "    'boosting_type': 'gbdt',\n",
    "    'objective': 'regression',\n",
    "    'metric': {'l2', 'l1'},\n",
    "    'num_leaves': 31,\n",
    "    'learning_rate': 0.05,\n",
    "    'feature_fraction': 0.9,\n",
    "    'bagging_fraction': 0.8,\n",
    "    'bagging_freq': 5,\n",
    "    'verbose': 0\n",
    "}\n",
    "\n",
    "print('Starting training...')\n",
    "# train\n",
    "gbm = lgb.train(params,\n",
    "                lgb_train,\n",
    "                num_boost_round=20,\n",
    "                valid_sets=lgb_eval,\n",
    "                callbacks=[lgb.early_stopping(stopping_rounds=5)])\n",
    "\n",
    "print('Saving model...')\n",
    "# save model to file\n",
    "gbm.save_model('model.txt')\n",
    "\n",
    "print('Starting predicting...')\n",
    "# predict\n",
    "y_pred = gbm.predict(X_test, num_iteration=gbm.best_iteration)\n",
    "# eval\n",
    "rmse_test = mean_squared_error(y_test, y_pred) ** 0.5\n",
    "print(f'The RMSE of prediction is: {rmse_test}')"
   ]
  },
  {
   "cell_type": "code",
   "execution_count": null,
   "id": "a995b058",
   "metadata": {},
   "outputs": [],
   "source": []
  },
  {
   "cell_type": "code",
   "execution_count": null,
   "id": "963be64f",
   "metadata": {},
   "outputs": [],
   "source": []
  },
  {
   "cell_type": "markdown",
   "id": "f5c4bcca",
   "metadata": {},
   "source": [
    "Light GBM hyperparameter tuning: \n",
    "    \n",
    "There are many hyperparameters we can look at for LightGBM, although in this case, we will look at the number of trees and tree depth, the learning rate, and the boosting type"
   ]
  },
  {
   "cell_type": "markdown",
   "id": "4862cacf",
   "metadata": {},
   "source": [
    "# Explore Number of Trees\n",
    "# get a list of models to evaluate\n",
    "def get_models():\n",
    " models = dict()\n",
    " trees = [10, 50, 100, 500, 1000, 5000]\n",
    " for n in trees:\n",
    " models[str(n)] = LGBMClassifier(n_estimators=n)\n",
    " return models\n",
    " \n",
    "# evaluate a give model using cross-validation\n",
    "def evaluate_model(model):\n",
    " cv = RepeatedStratifiedKFold(n_splits=10, n_repeats=3, random_state=1234)\n",
    " scores = cross_val_score(model, X, y, scoring='accuracy', cv=cv, n_jobs=-1)\n",
    " return scores\n",
    " \n",
    "# define dataset\n",
    "X, y = get_dataset()\n",
    "# get the models to evaluate\n",
    "models = get_models()\n",
    "# evaluate the models and store results\n",
    "results, names = list(), list()\n",
    "for name, model in models.items():\n",
    " scores = evaluate_model(model)\n",
    " results.append(scores)\n",
    " names.append(name)\n",
    " print('>%s %.3f (%.3f)' % (name, mean(scores), std(scores)))\n",
    "# plot model performance for comparison\n",
    "pyplot.boxplot(results, labels=names, showmeans=True)\n",
    "pyplot.show()"
   ]
  },
  {
   "cell_type": "code",
   "execution_count": null,
   "id": "1616477d",
   "metadata": {},
   "outputs": [],
   "source": []
  },
  {
   "cell_type": "markdown",
   "id": "3d5ce88b",
   "metadata": {},
   "source": [
    "#Explore Tree Depth\n",
    "# get a list of models to evaluate\n",
    "def get_models():\n",
    " models = dict()\n",
    " for i in range(1,11):\n",
    " models[str(i)] = LGBMClassifier(max_depth=i, num_leaves=2**i)\n",
    " return models\n",
    " \n",
    "# evaluate a give model using cross-validation\n",
    "def evaluate_model(model):\n",
    " cv = RepeatedStratifiedKFold(n_splits=10, n_repeats=3, random_state=1234)\n",
    " scores = cross_val_score(model, X, y, scoring='accuracy', cv=cv, n_jobs=-1)\n",
    " return scores\n",
    " \n",
    "# define dataset\n",
    "X, y = get_dataset()\n",
    "# get the models to evaluate\n",
    "models = get_models()\n",
    "# evaluate the models and store results\n",
    "results, names = list(), list()\n",
    "for name, model in models.items():\n",
    " scores = evaluate_model(model)\n",
    " results.append(scores)\n",
    " names.append(name)\n",
    " print('>%s %.3f (%.3f)' % (name, mean(scores), std(scores)))\n",
    "# plot model performance for comparison\n",
    "pyplot.boxplot(results, labels=names, showmeans=True)\n",
    "pyplot.show()\n",
    "\n"
   ]
  },
  {
   "cell_type": "code",
   "execution_count": null,
   "id": "2c7843dc",
   "metadata": {},
   "outputs": [],
   "source": []
  },
  {
   "cell_type": "markdown",
   "id": "039384a3",
   "metadata": {},
   "source": [
    "# Explore Learning Rate\n",
    "# get a list of models to evaluate\n",
    "def get_models():\n",
    " models = dict()\n",
    " rates = [0.0001, 0.001, 0.01, 0.1, 1.0]\n",
    " for r in rates:\n",
    " key = '%.4f' % r\n",
    " models[key] = LGBMClassifier(learning_rate=r)\n",
    " return models\n",
    " \n",
    "# evaluate a give model using cross-validation\n",
    "def evaluate_model(model):\n",
    " cv = RepeatedStratifiedKFold(n_splits=10, n_repeats=3, random_state=1234)\n",
    " scores = cross_val_score(model, X, y, scoring='accuracy', cv=cv, n_jobs=-1)\n",
    " return scores\n",
    " \n",
    "# define dataset\n",
    "X, y = get_dataset()\n",
    "# get the models to evaluate\n",
    "models = get_models()\n",
    "# evaluate the models and store results\n",
    "results, names = list(), list()\n",
    "for name, model in models.items():\n",
    " scores = evaluate_model(model)\n",
    " results.append(scores)\n",
    " names.append(name)\n",
    " print('>%s %.3f (%.3f)' % (name, mean(scores), std(scores)))\n",
    "# plot model performance for comparison\n",
    "pyplot.boxplot(results, labels=names, showmeans=True)\n",
    "pyplot.show()"
   ]
  },
  {
   "cell_type": "code",
   "execution_count": null,
   "id": "b36404c6",
   "metadata": {},
   "outputs": [],
   "source": []
  },
  {
   "cell_type": "code",
   "execution_count": null,
   "id": "83495f7c",
   "metadata": {},
   "outputs": [],
   "source": []
  },
  {
   "cell_type": "code",
   "execution_count": null,
   "id": "817eef10",
   "metadata": {},
   "outputs": [],
   "source": []
  },
  {
   "cell_type": "markdown",
   "id": "abe3cfd0",
   "metadata": {},
   "source": [
    "# <font color='orange'>XGBoost</font>\n"
   ]
  },
  {
   "cell_type": "code",
   "execution_count": null,
   "id": "068400a9",
   "metadata": {},
   "outputs": [],
   "source": []
  },
  {
   "cell_type": "code",
   "execution_count": null,
   "id": "a2bb9aaf",
   "metadata": {},
   "outputs": [],
   "source": []
  },
  {
   "cell_type": "code",
   "execution_count": null,
   "id": "6e99273a",
   "metadata": {},
   "outputs": [],
   "source": []
  },
  {
   "cell_type": "code",
   "execution_count": null,
   "id": "5e0f7d61",
   "metadata": {},
   "outputs": [],
   "source": []
  },
  {
   "cell_type": "code",
   "execution_count": null,
   "id": "98297e5c",
   "metadata": {},
   "outputs": [],
   "source": []
  },
  {
   "cell_type": "code",
   "execution_count": null,
   "id": "e18fbd38",
   "metadata": {},
   "outputs": [],
   "source": []
  },
  {
   "cell_type": "markdown",
   "id": "b1c70009",
   "metadata": {},
   "source": [
    "# <font color='orange'>Tweedie Regression</font>\n"
   ]
  },
  {
   "cell_type": "code",
   "execution_count": null,
   "id": "2196896f",
   "metadata": {},
   "outputs": [],
   "source": []
  },
  {
   "cell_type": "code",
   "execution_count": null,
   "id": "e98a56d4",
   "metadata": {},
   "outputs": [],
   "source": []
  },
  {
   "cell_type": "code",
   "execution_count": null,
   "id": "271dfd78",
   "metadata": {},
   "outputs": [],
   "source": []
  },
  {
   "cell_type": "code",
   "execution_count": null,
   "id": "c45f7452",
   "metadata": {},
   "outputs": [],
   "source": []
  },
  {
   "cell_type": "code",
   "execution_count": null,
   "id": "25ddde2b",
   "metadata": {},
   "outputs": [],
   "source": []
  },
  {
   "cell_type": "code",
   "execution_count": null,
   "id": "b5e85b8e",
   "metadata": {},
   "outputs": [],
   "source": []
  },
  {
   "cell_type": "code",
   "execution_count": null,
   "id": "b175af95",
   "metadata": {},
   "outputs": [],
   "source": []
  },
  {
   "cell_type": "code",
   "execution_count": null,
   "id": "66d4acb6",
   "metadata": {},
   "outputs": [],
   "source": []
  },
  {
   "cell_type": "code",
   "execution_count": null,
   "id": "1a11cce0",
   "metadata": {},
   "outputs": [],
   "source": []
  },
  {
   "cell_type": "code",
   "execution_count": null,
   "id": "0ddbcd43",
   "metadata": {},
   "outputs": [],
   "source": []
  },
  {
   "cell_type": "code",
   "execution_count": null,
   "id": "248e4695",
   "metadata": {},
   "outputs": [],
   "source": []
  },
  {
   "cell_type": "code",
   "execution_count": null,
   "id": "aaa085dd",
   "metadata": {},
   "outputs": [],
   "source": []
  },
  {
   "cell_type": "code",
   "execution_count": null,
   "id": "d3a10ecd",
   "metadata": {},
   "outputs": [],
   "source": []
  },
  {
   "cell_type": "code",
   "execution_count": null,
   "id": "a0fa1eff",
   "metadata": {},
   "outputs": [],
   "source": []
  },
  {
   "cell_type": "code",
   "execution_count": null,
   "id": "9769c7f1",
   "metadata": {},
   "outputs": [],
   "source": []
  },
  {
   "cell_type": "code",
   "execution_count": null,
   "id": "b550f13e",
   "metadata": {},
   "outputs": [],
   "source": []
  },
  {
   "cell_type": "code",
   "execution_count": null,
   "id": "218ef1d9",
   "metadata": {},
   "outputs": [],
   "source": []
  },
  {
   "cell_type": "code",
   "execution_count": null,
   "id": "8bd12a3c",
   "metadata": {},
   "outputs": [],
   "source": []
  },
  {
   "cell_type": "code",
   "execution_count": null,
   "id": "a5020dc5",
   "metadata": {},
   "outputs": [],
   "source": []
  },
  {
   "cell_type": "markdown",
   "id": "d5f463e4",
   "metadata": {},
   "source": [
    "## WORKING, MARKDOWN UNTIL FINAL\n"
   ]
  },
  {
   "cell_type": "code",
   "execution_count": null,
   "id": "e0e82f39",
   "metadata": {},
   "outputs": [],
   "source": []
  },
  {
   "cell_type": "code",
   "execution_count": null,
   "id": "bfb18f47",
   "metadata": {},
   "outputs": [],
   "source": []
  },
  {
   "cell_type": "markdown",
   "id": "16b722a3",
   "metadata": {},
   "source": [
    "#### write to parquet\n",
    "from pathlib import Path  \n",
    "filepath = Path('/Users/gregwelliver/Desktop/springboard_files/Severe-Weather-Repo/Data/all_storm_data9.pqt')  \n",
    "filepath.parent.mkdir(parents=True, exist_ok=True)  \n",
    "df.to_parquet(filepath)"
   ]
  },
  {
   "cell_type": "markdown",
   "id": "66275a93",
   "metadata": {},
   "source": [
    "resources"
   ]
  },
  {
   "cell_type": "markdown",
   "id": "9fdb0786",
   "metadata": {},
   "source": [
    "drop columns\n",
    "# drop unnecessary columns\n",
    "df.drop(['', '', '', '',], axis=1, inplace=True)"
   ]
  },
  {
   "cell_type": "markdown",
   "id": "43b82d0d",
   "metadata": {},
   "source": [
    "backup below"
   ]
  },
  {
   "cell_type": "code",
   "execution_count": null,
   "id": "9bba4a6e",
   "metadata": {},
   "outputs": [],
   "source": []
  },
  {
   "cell_type": "markdown",
   "id": "8dfecd8c",
   "metadata": {},
   "source": [
    "## scratch"
   ]
  },
  {
   "cell_type": "code",
   "execution_count": null,
   "id": "5d596f5e",
   "metadata": {},
   "outputs": [],
   "source": []
  },
  {
   "cell_type": "markdown",
   "id": "b425f35d",
   "metadata": {},
   "source": [
    "code looks good; \n",
    "\n",
    "use either \n",
    "randomsearch cv\n",
    "gridserarch cv\n",
    "hyparamter tune\n",
    "\n",
    "\n"
   ]
  },
  {
   "cell_type": "code",
   "execution_count": null,
   "id": "0409d78f",
   "metadata": {},
   "outputs": [],
   "source": []
  },
  {
   "cell_type": "code",
   "execution_count": null,
   "id": "61c9998e",
   "metadata": {},
   "outputs": [],
   "source": []
  },
  {
   "cell_type": "markdown",
   "id": "e202515c",
   "metadata": {},
   "source": [
    "#### Using k-fold cross-validation"
   ]
  },
  {
   "cell_type": "markdown",
   "id": "10fabbbd",
   "metadata": {},
   "source": [
    "lgbm2 = LGBMRegressor(learning_rate=0.09,max_depth=-5,random_state=1234)"
   ]
  },
  {
   "cell_type": "markdown",
   "id": "b2947f61",
   "metadata": {},
   "source": [
    "cv = RepeatedKFold(n_splits=10, n_repeats=3, random_state=1234)"
   ]
  },
  {
   "cell_type": "markdown",
   "id": "b1da1687",
   "metadata": {},
   "source": [
    "n_scores = cross_val_score(lgbm2, X, y, scoring='neg_mean_absolute_error', cv=cv, n_jobs=-1, error_score='raise')"
   ]
  },
  {
   "cell_type": "markdown",
   "id": "9f1ea25b",
   "metadata": {},
   "source": [
    "print('MAE: %.3f (%.3f)' % (mean(n_scores), std(n_scores)))"
   ]
  },
  {
   "cell_type": "markdown",
   "id": "934d5d6f",
   "metadata": {},
   "source": [
    "First run output:\n",
    "MAE: -374840.173 (59982.424)\n"
   ]
  },
  {
   "cell_type": "markdown",
   "id": "f34a5481",
   "metadata": {},
   "source": [
    "print(lgbm2.score(X_train, y_train))"
   ]
  },
  {
   "cell_type": "code",
   "execution_count": null,
   "id": "7b41da2a",
   "metadata": {},
   "outputs": [],
   "source": []
  },
  {
   "cell_type": "code",
   "execution_count": null,
   "id": "7b626706",
   "metadata": {},
   "outputs": [],
   "source": []
  },
  {
   "cell_type": "code",
   "execution_count": null,
   "id": "396bb0cf",
   "metadata": {},
   "outputs": [],
   "source": []
  },
  {
   "cell_type": "code",
   "execution_count": null,
   "id": "4832001f",
   "metadata": {},
   "outputs": [],
   "source": []
  },
  {
   "cell_type": "code",
   "execution_count": null,
   "id": "13cba8dd",
   "metadata": {},
   "outputs": [],
   "source": []
  },
  {
   "cell_type": "code",
   "execution_count": null,
   "id": "08b4e15a",
   "metadata": {},
   "outputs": [],
   "source": []
  },
  {
   "cell_type": "code",
   "execution_count": null,
   "id": "f1f2adab",
   "metadata": {},
   "outputs": [],
   "source": []
  },
  {
   "cell_type": "code",
   "execution_count": null,
   "id": "f32230f5",
   "metadata": {},
   "outputs": [],
   "source": []
  }
 ],
 "metadata": {
  "kernelspec": {
   "display_name": "Python 3 (ipykernel)",
   "language": "python",
   "name": "python3"
  },
  "language_info": {
   "codemirror_mode": {
    "name": "ipython",
    "version": 3
   },
   "file_extension": ".py",
   "mimetype": "text/x-python",
   "name": "python",
   "nbconvert_exporter": "python",
   "pygments_lexer": "ipython3",
   "version": "3.9.12"
  }
 },
 "nbformat": 4,
 "nbformat_minor": 5
}
